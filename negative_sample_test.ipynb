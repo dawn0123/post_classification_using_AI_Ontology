{
 "cells": [
  {
   "cell_type": "code",
   "execution_count": 1,
   "id": "0f409c08-ab17-42c5-9f32-897358549a9b",
   "metadata": {},
   "outputs": [],
   "source": [
    "import pandas as pd"
   ]
  },
  {
   "cell_type": "code",
   "execution_count": 10,
   "id": "0ce9725c-8e25-4083-81b9-e48e59fdce53",
   "metadata": {},
   "outputs": [
    {
     "data": {
      "text/html": [
       "<div>\n",
       "<style scoped>\n",
       "    .dataframe tbody tr th:only-of-type {\n",
       "        vertical-align: middle;\n",
       "    }\n",
       "\n",
       "    .dataframe tbody tr th {\n",
       "        vertical-align: top;\n",
       "    }\n",
       "\n",
       "    .dataframe thead th {\n",
       "        text-align: right;\n",
       "    }\n",
       "</style>\n",
       "<table border=\"1\" class=\"dataframe\">\n",
       "  <thead>\n",
       "    <tr style=\"text-align: right;\">\n",
       "      <th></th>\n",
       "      <th>post</th>\n",
       "      <th>prefLabel</th>\n",
       "      <th>compulsion_ml</th>\n",
       "      <th>obs-com_ml</th>\n",
       "      <th>obsession_ml</th>\n",
       "      <th>Document_Keywords</th>\n",
       "      <th>compulsion_bert</th>\n",
       "      <th>obs-com_bert</th>\n",
       "      <th>obsession_bert</th>\n",
       "      <th>obsession_first_checker</th>\n",
       "      <th>obs-com_first_checker</th>\n",
       "      <th>compulsion_first_checker</th>\n",
       "    </tr>\n",
       "  </thead>\n",
       "  <tbody>\n",
       "    <tr>\n",
       "      <th>0</th>\n",
       "      <td>I grew up with obsessive thoughts, or more apt...</td>\n",
       "      <td>['site', 'compulsion', 'obsession', 'rash', 'p...</td>\n",
       "      <td>1</td>\n",
       "      <td>0</td>\n",
       "      <td>1</td>\n",
       "      <td>['grow', 'obsessive_thought', 'aptly', 'intrus...</td>\n",
       "      <td>0.0</td>\n",
       "      <td>0.0</td>\n",
       "      <td>1.0</td>\n",
       "      <td>1.0</td>\n",
       "      <td>1.0</td>\n",
       "      <td>1.0</td>\n",
       "    </tr>\n",
       "    <tr>\n",
       "      <th>1</th>\n",
       "      <td>I have been thinking so much about Covid becau...</td>\n",
       "      <td>['singing', 'washing hands', 'anxiety', 'anxie...</td>\n",
       "      <td>0</td>\n",
       "      <td>0</td>\n",
       "      <td>1</td>\n",
       "      <td>['think', 'covid', 'job', 'concern', 'encourag...</td>\n",
       "      <td>0.0</td>\n",
       "      <td>0.0</td>\n",
       "      <td>1.0</td>\n",
       "      <td>0.0</td>\n",
       "      <td>0.0</td>\n",
       "      <td>1.0</td>\n",
       "    </tr>\n",
       "    <tr>\n",
       "      <th>2</th>\n",
       "      <td>I fed up, I send all day checking excessive ch...</td>\n",
       "      <td>['OCD', 'checking', 'Thought']</td>\n",
       "      <td>0</td>\n",
       "      <td>0</td>\n",
       "      <td>1</td>\n",
       "      <td>['send', 'day', 'check', 'excessive', 'checkin...</td>\n",
       "      <td>0.0</td>\n",
       "      <td>0.0</td>\n",
       "      <td>1.0</td>\n",
       "      <td>0.0</td>\n",
       "      <td>0.0</td>\n",
       "      <td>1.0</td>\n",
       "    </tr>\n",
       "    <tr>\n",
       "      <th>3</th>\n",
       "      <td>I’ve noticed that I’ve been washing my hands m...</td>\n",
       "      <td>['washing hands', 'hope', 'depression', 'OCD']</td>\n",
       "      <td>1</td>\n",
       "      <td>0</td>\n",
       "      <td>1</td>\n",
       "      <td>['notice', 'washing_hand', 'thing', 'trigger',...</td>\n",
       "      <td>0.0</td>\n",
       "      <td>0.0</td>\n",
       "      <td>1.0</td>\n",
       "      <td>1.0</td>\n",
       "      <td>0.0</td>\n",
       "      <td>0.0</td>\n",
       "    </tr>\n",
       "    <tr>\n",
       "      <th>4</th>\n",
       "      <td>This sounds so stupid\\nAt the moment I want to...</td>\n",
       "      <td>['Thought']</td>\n",
       "      <td>0</td>\n",
       "      <td>0</td>\n",
       "      <td>1</td>\n",
       "      <td>['sounds_stupid', 'moment', 'download', 'windo...</td>\n",
       "      <td>0.0</td>\n",
       "      <td>0.0</td>\n",
       "      <td>1.0</td>\n",
       "      <td>1.0</td>\n",
       "      <td>1.0</td>\n",
       "      <td>1.0</td>\n",
       "    </tr>\n",
       "  </tbody>\n",
       "</table>\n",
       "</div>"
      ],
      "text/plain": [
       "                                                post  \\\n",
       "0  I grew up with obsessive thoughts, or more apt...   \n",
       "1  I have been thinking so much about Covid becau...   \n",
       "2  I fed up, I send all day checking excessive ch...   \n",
       "3  I’ve noticed that I’ve been washing my hands m...   \n",
       "4  This sounds so stupid\\nAt the moment I want to...   \n",
       "\n",
       "                                           prefLabel  compulsion_ml  \\\n",
       "0  ['site', 'compulsion', 'obsession', 'rash', 'p...              1   \n",
       "1  ['singing', 'washing hands', 'anxiety', 'anxie...              0   \n",
       "2                     ['OCD', 'checking', 'Thought']              0   \n",
       "3     ['washing hands', 'hope', 'depression', 'OCD']              1   \n",
       "4                                        ['Thought']              0   \n",
       "\n",
       "   obs-com_ml  obsession_ml  \\\n",
       "0           0             1   \n",
       "1           0             1   \n",
       "2           0             1   \n",
       "3           0             1   \n",
       "4           0             1   \n",
       "\n",
       "                                   Document_Keywords  compulsion_bert  \\\n",
       "0  ['grow', 'obsessive_thought', 'aptly', 'intrus...              0.0   \n",
       "1  ['think', 'covid', 'job', 'concern', 'encourag...              0.0   \n",
       "2  ['send', 'day', 'check', 'excessive', 'checkin...              0.0   \n",
       "3  ['notice', 'washing_hand', 'thing', 'trigger',...              0.0   \n",
       "4  ['sounds_stupid', 'moment', 'download', 'windo...              0.0   \n",
       "\n",
       "   obs-com_bert  obsession_bert  obsession_first_checker  \\\n",
       "0           0.0             1.0                      1.0   \n",
       "1           0.0             1.0                      0.0   \n",
       "2           0.0             1.0                      0.0   \n",
       "3           0.0             1.0                      1.0   \n",
       "4           0.0             1.0                      1.0   \n",
       "\n",
       "   obs-com_first_checker  compulsion_first_checker  \n",
       "0                    1.0                       1.0  \n",
       "1                    0.0                       1.0  \n",
       "2                    0.0                       1.0  \n",
       "3                    0.0                       0.0  \n",
       "4                    1.0                       1.0  "
      ]
     },
     "execution_count": 10,
     "metadata": {},
     "output_type": "execute_result"
    }
   ],
   "source": [
    "#post data\n",
    "df = pd.read_csv('input_data/Post_ModelPredictions_ManualChecking.csv')\n",
    "df.head()"
   ]
  },
  {
   "cell_type": "code",
   "execution_count": 13,
   "id": "6359a368-46d3-46bc-ab02-77c897fb9a0c",
   "metadata": {},
   "outputs": [
    {
     "data": {
      "text/plain": [
       "23674"
      ]
     },
     "execution_count": 13,
     "metadata": {},
     "output_type": "execute_result"
    }
   ],
   "source": [
    "len(df)"
   ]
  },
  {
   "cell_type": "code",
   "execution_count": 14,
   "id": "9090dd4d-3b3e-4ecd-b103-a6364a6c9845",
   "metadata": {},
   "outputs": [
    {
     "data": {
      "text/plain": [
       "2953"
      ]
     },
     "execution_count": 14,
     "metadata": {},
     "output_type": "execute_result"
    }
   ],
   "source": [
    "(df['prefLabel'] == '[]').sum()"
   ]
  },
  {
   "cell_type": "code",
   "execution_count": 16,
   "id": "1b24a568-e460-4bb2-bbd5-9e8a24520622",
   "metadata": {},
   "outputs": [],
   "source": [
    "empty = df[df['prefLabel'] == '[]']"
   ]
  },
  {
   "cell_type": "code",
   "execution_count": 17,
   "id": "c35450a6-00d9-4a75-acd7-ecd7a9260168",
   "metadata": {},
   "outputs": [
    {
     "data": {
      "text/plain": [
       "2953"
      ]
     },
     "execution_count": 17,
     "metadata": {},
     "output_type": "execute_result"
    }
   ],
   "source": [
    "len(empty)"
   ]
  },
  {
   "cell_type": "code",
   "execution_count": 18,
   "id": "1aad78fa-f40e-4518-b6b2-557abf879786",
   "metadata": {},
   "outputs": [
    {
     "name": "stderr",
     "output_type": "stream",
     "text": [
      "C:\\Users\\pc\\AppData\\Local\\Temp\\ipykernel_20788\\2425943262.py:1: SettingWithCopyWarning: \n",
      "A value is trying to be set on a copy of a slice from a DataFrame.\n",
      "Try using .loc[row_indexer,col_indexer] = value instead\n",
      "\n",
      "See the caveats in the documentation: https://pandas.pydata.org/pandas-docs/stable/user_guide/indexing.html#returning-a-view-versus-a-copy\n",
      "  empty['post_len'] = empty['post'].apply(lambda p: len(p))\n"
     ]
    }
   ],
   "source": [
    "empty['post_len'] = empty['post'].apply(lambda p: len(p))"
   ]
  },
  {
   "cell_type": "code",
   "execution_count": 20,
   "id": "1f87a625-429a-4c5c-9e10-81deee73b529",
   "metadata": {},
   "outputs": [
    {
     "data": {
      "text/html": [
       "<div>\n",
       "<style scoped>\n",
       "    .dataframe tbody tr th:only-of-type {\n",
       "        vertical-align: middle;\n",
       "    }\n",
       "\n",
       "    .dataframe tbody tr th {\n",
       "        vertical-align: top;\n",
       "    }\n",
       "\n",
       "    .dataframe thead th {\n",
       "        text-align: right;\n",
       "    }\n",
       "</style>\n",
       "<table border=\"1\" class=\"dataframe\">\n",
       "  <thead>\n",
       "    <tr style=\"text-align: right;\">\n",
       "      <th></th>\n",
       "      <th>post</th>\n",
       "      <th>post_len</th>\n",
       "    </tr>\n",
       "  </thead>\n",
       "  <tbody>\n",
       "    <tr>\n",
       "      <th>22</th>\n",
       "      <td>Yello\\nWell, i got my letter from the Health a...</td>\n",
       "      <td>297</td>\n",
       "    </tr>\n",
       "    <tr>\n",
       "      <th>46</th>\n",
       "      <td>..\\nEdited February 17, 2008 by Guest</td>\n",
       "      <td>36</td>\n",
       "    </tr>\n",
       "    <tr>\n",
       "      <th>47</th>\n",
       "      <td>..\\nEdited February 17, 2008 by Guest</td>\n",
       "      <td>36</td>\n",
       "    </tr>\n",
       "    <tr>\n",
       "      <th>48</th>\n",
       "      <td>..\\nEdited February 17, 2008 by Guest</td>\n",
       "      <td>36</td>\n",
       "    </tr>\n",
       "    <tr>\n",
       "      <th>49</th>\n",
       "      <td>..\\nEdited February 17, 2008 by Guest</td>\n",
       "      <td>36</td>\n",
       "    </tr>\n",
       "  </tbody>\n",
       "</table>\n",
       "</div>"
      ],
      "text/plain": [
       "                                                 post  post_len\n",
       "22  Yello\\nWell, i got my letter from the Health a...       297\n",
       "46              ..\\nEdited February 17, 2008 by Guest        36\n",
       "47              ..\\nEdited February 17, 2008 by Guest        36\n",
       "48              ..\\nEdited February 17, 2008 by Guest        36\n",
       "49              ..\\nEdited February 17, 2008 by Guest        36"
      ]
     },
     "execution_count": 20,
     "metadata": {},
     "output_type": "execute_result"
    }
   ],
   "source": [
    "empty[['post', 'post_len']].head()"
   ]
  },
  {
   "cell_type": "code",
   "execution_count": 26,
   "id": "46490d53-3d69-4d13-9054-1f5ed1d82096",
   "metadata": {},
   "outputs": [
    {
     "data": {
      "text/plain": [
       "<Axes: >"
      ]
     },
     "execution_count": 26,
     "metadata": {},
     "output_type": "execute_result"
    },
    {
     "data": {
      "image/png": "[encoded data removed]",
      "text/plain": [
       "<Figure size 640x480 with 1 Axes>"
      ]
     },
     "metadata": {},
     "output_type": "display_data"
    }
   ],
   "source": [
    "empty['post_len'].hist(bins=range(0, 1000, 20))"
   ]
  },
  {
   "cell_type": "code",
   "execution_count": 25,
   "id": "df33559d-32c0-4073-b6e9-366c99776740",
   "metadata": {},
   "outputs": [
    {
     "data": {
      "text/plain": [
       "358"
      ]
     },
     "execution_count": 25,
     "metadata": {},
     "output_type": "execute_result"
    }
   ],
   "source": [
    "(empty['post_len'] < 50).sum()"
   ]
  },
  {
   "cell_type": "code",
   "execution_count": null,
   "id": "8210a7bd-5410-44b1-89ef-fe6dd8df15f7",
   "metadata": {},
   "outputs": [],
   "source": []
  }
 ],
 "metadata": {
  "kernelspec": {
   "display_name": "Python 3 (ipykernel)",
   "language": "python",
   "name": "python3"
  },
  "language_info": {
   "codemirror_mode": {
    "name": "ipython",
    "version": 3
   },
   "file_extension": ".py",
   "mimetype": "text/x-python",
   "name": "python",
   "nbconvert_exporter": "python",
   "pygments_lexer": "ipython3",
   "version": "3.10.9"
  }
 },
 "nbformat": 4,
 "nbformat_minor": 5
}
