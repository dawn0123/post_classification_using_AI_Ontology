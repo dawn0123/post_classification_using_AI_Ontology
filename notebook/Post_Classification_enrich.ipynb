{
 "cells": [
  {
   "cell_type": "markdown",
   "metadata": {
    "id": "YEF6_9uKhZQC"
   },
   "source": [
    "# **Import libaries**"
   ]
  },
  {
   "cell_type": "code",
   "execution_count": null,
   "metadata": {
    "id": "monObSnUSgUm"
   },
   "outputs": [],
   "source": []
  },
  {
   "cell_type": "code",
   "execution_count": 1,
   "metadata": {
    "colab": {
     "base_uri": "https://localhost:8080/"
    },
    "executionInfo": {
     "elapsed": 26795,
     "status": "ok",
     "timestamp": 1698079421578,
     "user": {
      "displayName": "mouez yazidi",
      "userId": "00351224737978389278"
     },
     "user_tz": -60
    },
    "id": "OhgYkIgWShWJ",
    "outputId": "01e4256c-6f51-4b08-a9da-0da7c93924cb"
   },
   "outputs": [],
   "source": [
    "# from google.colab import drive\n",
    "# drive.mount('/content/drive')"
   ]
  },
  {
   "cell_type": "code",
   "execution_count": 2,
   "metadata": {
    "colab": {
     "base_uri": "https://localhost:8080/"
    },
    "executionInfo": {
     "elapsed": 2822,
     "status": "ok",
     "timestamp": 1698079424381,
     "user": {
      "displayName": "mouez yazidi",
      "userId": "00351224737978389278"
     },
     "user_tz": -60
    },
    "id": "ryl-8ts7hXmU",
    "outputId": "821fc417-f528-4e3b-bcc2-cae0717fd7a8"
   },
   "outputs": [
    {
     "name": "stderr",
     "output_type": "stream",
     "text": [
      "[nltk_data] Downloading package punkt to\n",
      "[nltk_data]     C:\\Users\\pc\\AppData\\Roaming\\nltk_data...\n",
      "[nltk_data]   Package punkt is already up-to-date!\n"
     ]
    }
   ],
   "source": [
    "#for import the data\n",
    "import pandas as pd\n",
    "import numpy as np\n",
    "\n",
    "# for the visualisation\n",
    "import matplotlib.pyplot as plt\n",
    "import seaborn as sns\n",
    "\n",
    "#for the text pre-processing (text cleaning)\n",
    "import nltk\n",
    "nltk.download('punkt')\n",
    "import re #regular expression\n",
    "import string\n",
    "from nltk.tokenize import word_tokenize # word tokenization\n",
    "from nltk.stem import PorterStemmer # word stemming\n",
    "\n",
    "#for feature extraction ( vectorazation)\n",
    "from sklearn.feature_extraction.text import CountVectorizer\n",
    "\n",
    "#for split the data into train and test\n",
    "from sklearn.model_selection import train_test_split\n",
    "\n",
    "#for the model training\n",
    "from sklearn.naive_bayes import MultinomialNB\n",
    "from sklearn.ensemble import RandomForestClassifier\n",
    "from sklearn.svm import SVC\n",
    "\n",
    "#for the model evaluation\n",
    "from sklearn.metrics import multilabel_confusion_matrix,classification_report"
   ]
  },
  {
   "cell_type": "code",
   "execution_count": 3,
   "metadata": {
    "id": "c6PycbVPmbMK"
   },
   "outputs": [],
   "source": [
    "pd.set_option('display.max_rows', None)\n",
    "pd.set_option('display.max_columns', None)\n",
    "pd.set_option('display.width', None)\n",
    "pd.set_option('display.max_colwidth', None)"
   ]
  },
  {
   "cell_type": "markdown",
   "metadata": {
    "id": "QGO4_ODNl1as"
   },
   "source": [
    "#**Import Data**"
   ]
  },
  {
   "cell_type": "code",
   "execution_count": 4,
   "metadata": {
    "executionInfo": {
     "elapsed": 1411,
     "status": "ok",
     "timestamp": 1698079491210,
     "user": {
      "displayName": "mouez yazidi",
      "userId": "00351224737978389278"
     },
     "user_tz": -60
    },
    "id": "SwHCJ3gRhsAu"
   },
   "outputs": [],
   "source": [
    "data = pd.read_csv('../processed_data/enriched.csv')"
   ]
  },
  {
   "cell_type": "code",
   "execution_count": 5,
   "metadata": {
    "colab": {
     "base_uri": "https://localhost:8080/",
     "height": 311
    },
    "executionInfo": {
     "elapsed": 371,
     "status": "ok",
     "timestamp": 1698079496966,
     "user": {
      "displayName": "mouez yazidi",
      "userId": "00351224737978389278"
     },
     "user_tz": -60
    },
    "id": "by8MCT06iTUP",
    "outputId": "09c60337-ca5b-499d-d12d-9e2a1f0270e0"
   },
   "outputs": [
    {
     "data": {
      "text/html": [
       "<div>\n",
       "<style scoped>\n",
       "    .dataframe tbody tr th:only-of-type {\n",
       "        vertical-align: middle;\n",
       "    }\n",
       "\n",
       "    .dataframe tbody tr th {\n",
       "        vertical-align: top;\n",
       "    }\n",
       "\n",
       "    .dataframe thead th {\n",
       "        text-align: right;\n",
       "    }\n",
       "</style>\n",
       "<table border=\"1\" class=\"dataframe\">\n",
       "  <thead>\n",
       "    <tr style=\"text-align: right;\">\n",
       "      <th></th>\n",
       "      <th>Unnamed: 0</th>\n",
       "      <th>post</th>\n",
       "      <th>prefLabel</th>\n",
       "      <th>Document_Keywords</th>\n",
       "      <th>compulsion</th>\n",
       "      <th>obs-com</th>\n",
       "      <th>obsession</th>\n",
       "      <th>enriched_post</th>\n",
       "    </tr>\n",
       "  </thead>\n",
       "  <tbody>\n",
       "    <tr>\n",
       "      <th>0</th>\n",
       "      <td>0</td>\n",
       "      <td>Hi -\\nSo I haven't been on here since December since I was recovering. I've been on prozac since I was 18 (now 24) for depression but I was diagnosed with OCD in January. My psych bumped me up to a higher dosage of prozac - 80mg - which was doing a great job. But I wanted to go off of it because it was making me gain weight and now I'm freaking out!! My OCD revolves around cheating like some of you know...and my most recent \"\"obsession\"\" (I put quotes around it cuz i question whether its an obsession or if its real) is that... well let me start from the beginning. I went to my fiancé's friends place and we all had a few drinks and played card games and such. I was with my fiance the whole time except for when I went to the bathroom. I remember everything from the night despite the alcohol in my system. We came home and continued drinking (just me and my fiance) and I eventually blacked out. I ended up having a dream about cheating on my partner with someone that I had seen earlier that night (well not really cheating just taking the guys hands and placing them in an odd place). But it's just that image in my head nothing else. I don't really remember waking up from it to realize it was a dream, I think I stirred but then went right back to sleep (i dont even remember)...I keep thinking what if it wasn't a dream what if it actually happened? My fiance keeps telling me he was with me the whole time and nothing happened but I think about the dream/image all day and it's driving me nuts! I always question whether I really have OCD or not and if the doc just diagnosed me to make me feel better and everything is true and real??? I have an appt with my psych tomorrow and I think I am going to have him write me a script for Zoloft...apparently it is an SSRI that doesn't cause weight gain. SSRI's are the only thing that seem to help me to accept uncertainty, but the thing that bothers me is I've never been able to say yes or no to the thoughts...but when I'm on the medication I'm kind of just like eh whatever and then the thought goes away. When I'm not I have crying spells and can't concentrate and just obsess and cry all day in the bathroom at work and also I get really bad separation anxiety from my fiance. Anyway I'm kind of just rambling just wanted to vent. Hope everyone is doing okay.</td>\n",
       "      <td>['depression', 'weight gain', 'Medication', 'anxiety', 'anxiety', 'hope', 'obsession', 'bathroom', 'Thought', 'OCD']</td>\n",
       "      <td>['recover', 'prozac', 'depression', 'diagnose', 'psych', 'bump', 'higher_dosage', 'prozac', 'great', 'job', 'want', 'make', 'freaking', 'ocd_revolve', 'cheat', 'knowand', 'obsession', 'quote', 'question', 'obsession', 'real', 'start', 'fiance', 'friend', 'place', 'drink', 'play', 'card', 'game', 'fiance', 'time', 'bathroom', 'remember', 'night', 'alcohol', 'continue', 'drinking', 'fiance', 'eventually', 'black', 'end', 'dream', 'cheating', 'partner', 'early', 'night', 'cheat', 'guy', 'hand', 'place', 'odd', 'place', 'image', 'head', 'remember', 'wake', 'realize', 'dream', 'stir', 'sleep', 'remember', 'think', 'dream', 'happen', 'fiance', 'tell', 'time', 'happen', 'dream', 'image', 'day', 'drive', 'nuts', 'question', 'diagnose', 'feel', 'true', 'real', 'appt', 'psych', 'tomorrow', 'write', 'script', 'weight_gain', 'ssri', 'thing', 'thing', 'bother', 'thoughtsbut', 'medication', 'kind', 'think', 'cry', 'spell', 'concentrate', 'day', 'bathroom', 'work', 'bad', 'separation_anxiety', 'fiance', 'kind', 'ramble', 'want', 'vent', 'hope']</td>\n",
       "      <td>0</td>\n",
       "      <td>0</td>\n",
       "      <td>1</td>\n",
       "      <td>Hi -\\nSo I haven't been on here since December since I was recovering. I've been on prozac since I was 18 (now 24) for depression {depression} but I was diagnosed with OCD in January. My psych bumped me up to a higher dosage of prozac - 80mg - which was doing a great job. But I wanted to go off of it because it was making me gain weight and now I'm freaking out!! My OCD revolves around cheating like some of you know...and my most recent \"\"{obsession} {obsession} {aggressive obsession} {contamination obsession} {doubt obsession} obsession {hoarding obsession} {religious obsession} {sexual obsession} {somatic obsession} {symmetry obsession}\"\" (I put quotes around it cuz i question whether its an {obsession} {obsession} {aggressive obsession} {contamination obsession} {doubt obsession} obsession {hoarding obsession} {religious obsession} {sexual obsession} {somatic obsession} {symmetry obsession} or if its real) is that... well let me start from the beginning. I went to my fiancé's friends place and we all had a few drinks and played card games and such. I was with my fiance the whole time except for when I went to the bathroom {bathroom}. I remember everything from the night despite the alcohol in my system. We came home and continued drinking (just me and my fiance) and I eventually blacked out. I ended up having a dream about cheating on my partner with someone that I had seen earlier that night (well not really cheating just taking the guys hands and placing them in an odd place). But it's just that image in my head nothing else. I don't really remember waking up from it to realize it was a dream, I think I stirred but then went right back to sleep (i dont even remember)...I keep thinking what if it wasn't a dream what if it actually happened? My fiance keeps telling me he was with me the whole time and nothing happened but I think about the dream/image all day and it's driving me nuts! I always question whether I really have OCD or not and if the doc just diagnosed me to make me feel better and everything is true and real??? I have an appt with my psych tomorrow and I think I am going to have him write me a script for Zoloft...apparently it is an SSRI that doesn't cause {weight gain} {abnormal weight gain} weight gain {acute weight gain} {chronic weight gain}. SSRI's are the only thing that seem to help me to accept uncertainty, but the thing that bothers me is I've never been able to say yes or no to the thoughts...but when I'm on the medication I'm kind of just like eh whatever and then the thought goes away. When I'm not I have crying spells and can {bathroom}'t concentrate and just obsess and cry all day in the bathroom {bathroom} at work and also I get really bad separation {{anxiety} {anxiety} {intense anxiety} anxiety {anxiety} {castration anxiety} {koro} {performance anxiety}} {{anxiety} {anxiety} {intense anxiety} anxiety {anxiety} {castration anxiety} {koro} {performance anxiety}} {intense {anxiety} {anxiety} {intense anxiety} anxiety {anxiety} {castration anxiety} {koro} {performance anxiety}} {anxiety} {anxiety} {intense anxiety} anxiety {anxiety} {castration anxiety} {koro} {performance anxiety} {{anxiety} {anxiety} {intense anxiety} anxiety {anxiety} {castration anxiety} {koro} {performance anxiety}} {castration {anxiety} {anxiety} {intense anxiety} anxiety {anxiety} {castration anxiety} {koro} {performance anxiety}} {koro} {performance {anxiety} {anxiety} {intense anxiety} anxiety {anxiety} {castration anxiety} {koro} {performance anxiety}} from my fiance. Anyway I'm kind of just rambling just wanted to vent. {Hoffnung} Hope {espoir} {hope} everyone is doing okay.</td>\n",
       "    </tr>\n",
       "    <tr>\n",
       "      <th>1</th>\n",
       "      <td>1</td>\n",
       "      <td>Hi all, hope you're all having a wonderful bank holiday whatever it is you're doing😎 I however am taking an introverted approach and just chilling and if you're reading this I thank you for taking your time out to read my first post on this forum and giving it some notice. I've taken some time out to read others experiences relating to OCD and other mental illnesses, knowing that I am not alone and gaining more insight to a really important topic and by reading other people's stories, by doing this I find that I'm learning more about myself as well. Some made me laugh, some made me cry. But thankyou nonetheless. What a great, lovely bunch of people. \\nJust to add a little context, I'm a 21 year old male, recently come to terms with the fact I have OCD. As well as this I also have GAD, major depression and an eating disorder. \\nNot getting into too much detail about the discovery of my OCD. Although rather impactful, it in some way has helped me knowing that there is a reason I am the way I am. I'm aware to not use the term 'Pure O' as it's not a medically used term and it is exactly the same as the more commonly known OCD subtypes. My compulsions are mainly in the mind. The themes are around harm, pedophilia, relationships, sexuality, existential, incest, depression and unfortunately the list goes on with various different themes. I've been having these thoughts for what it seems almost all my life. I always thought there was something wrong with me. When I was around 15/16, when I got into a conversation with a friend about mental illnesses. I knew from then on what I had to do, I had to diagnose myself with whatever it is that is wrong with me and I had to then give myself CBT before I get thrown in a loony bin or reported to the police as a danger or even worse, before I could act on them thoughts. For 6 years, that has been my mission. I thought, my intrusive thoughts were a part of me just waiting to burst out at any random moment. I thought that someday I'm going to wake up, something would switch in my brain and I would either black out and forget what I had done or even more frighteningly, actually be completely aware and actually taking pleasure in said scenarios based around my intrusive thoughts. I thought I had a monster, living inside me, just waiting for its perfect time to attack. I wouldn't know it until I knew it.\\nI have lived (and still live) in complete fear that I am my thoughts and they are a tremendous flaw in my personality. I guess I'm still yet to convince myself that it is true but as you all know, you have your ups and downs with this ever so painful disorder. It has been difficult to me, as Im coming to terms with having OCD, I am currently piecing together all my symptoms and all the intrusive thoughts I've ever had throughout my life. It's like they've all come back at me and I'm in a bit of a pickle. But, I will be getting help very soon, just waiting to find a specialist in OCD and CBT in the Sheffield area and I will be making steps to make my life manageable again as I seemed to of gone off the rails after some family related issues and the breakdown of my relationship with my amazing ex girlfriend. And I am hopeful, even though I am actually scared. And admitting to being scared is something I've never done, even though scared is what I've been all my life. However, opening up to my loved ones about my thoughts, I have received nothing but love, support and compassion and honestly... That's what I was most scared of, their reaction to my thoughts, and in that moment I knew that I had lived in fear for too long. They're heartbroken I'm going through this and have been for a long time, but only because they see me for what I don't. A normal, human being. Just like everyone else on this forum, or reading the forum. You're all normal, at least to us. And take comfort in that as did I when I came across these posts. \\nThere's a lyric that I've always been attached to, by a band called Meshuggah (shout out to all metal heads on this forum) and I'd love to share it. \\n'The struggle to free myself from restraints, becomes my very shackles.' \\nI hope that whoever reads this post, whether youre someone who has been diagnosed with OCD for years or someone who is finding answers. Please know you're not alone in this. And it will and can get better because ultimately you deserve it and you ought to have the drive to go out there and do it. Because you are not your thoughts. You know what you are, just look a little deeper, and you'll see you for the beautiful person you are, because all you're doing and all I'm doing, is our own disorderly way of protecting us from the things we fear the most. \\nHave a good one guys. Enjoy the glorious weather. Thankyou so much.</td>\n",
       "      <td>['compulsion', 'anger', 'symptom', 'compassion', 'joy', 'depression', 'hope', 'fear', 'OCD', 'Intrusive thoughts', 'Thought']</td>\n",
       "      <td>['hope', 'wonderful', 'introvert', 'approach', 'chill', 'reading', 'time', 'read', 'post', 'notice', 'time', 'read', 'experience', 'relate', 'mental_illnesse', 'know', 'gain', 'insight', 'topic', 'read', 'people', 'story', 'learn', 'laugh', 'great', 'lovely', 'bunch', 'people', 'add', 'context', 'year', 'male', 'term', 'fact', 'major_depression', 'eating_disorder', 'help', 'know', 'reason', 'aware', 'term', 'pure', 'medically', 'term', 'commonly', 'ocd', 'subtype', 'compulsion', 'mind', 'theme', 'harm', 'relationship', 'sexuality', 'existential', 'incest', 'depression', 'list', 'theme', 'thought', 'life', 'think', 'wrong', 'conversation', 'friend', 'mental_illnesse', 'know', 'diagnose', 'wrong', 'cbt', 'throw', 'report', 'police', 'danger', 'bad', 'thought', 'year', 'mission', 'think', 'intrusive_thought', 'wait', 'burst', 'random', 'moment', 'think', 'someday', 'wake', 'switch', 'brain', 'black', 'forget', 'frighteningly', 'completely', 'aware', 'pleasure', 'scenario', 'base', 'think', 'monster', 'live', 'wait', 'perfect', 'time', 'attack', 'know', 'live', 'live', 'complete', 'fear', 'thought', 'tremendous', 'flaw', 'personality', 'guess', 'convince', 'true', 'down', 'painful', 'disorder', 'difficult', 'come', 'term', 'ocd', 'piece', 'symptom', 'intrusive_thought', 'life', 'bit', 'pickle', 'wait', 'sheffield', 'area', 'make', 'step', 'life', 'manageable', 'rail', 'family', 'issue', 'breakdown', 'relationship', 'amazing', 'hopeful', 'scared', 'admit', 'scared', 'scared', 'life', 'opening', 'love', 'thought', 'receive', 'love', 'support', 'compassion', 'honestly', 'scare', 'reaction', 'thought', 'moment', 'know', 'live', 'fear', 'long', 'heartbroken', 'long_time', 'normal_human', 'forum', 'read', 'normal', 'comfort', 'post', 'lyric', 'attach', 'band', 'call', 'shout', 'metal', 'head', 'struggle', 'free', 'restraint', 'shackle', 'hope', 'read', 'diagnose', 'ocd', 'year', 'find', 'answer', 'ultimately', 'deserve', 'drive', 'thought', 'deep', 'beautiful', 'person', 'disorderly', 'protect', 'thing', 'fear', 'good', 'guy', 'enjoy', 'glorious', 'weather', 'thankyou']</td>\n",
       "      <td>1</td>\n",
       "      <td>1</td>\n",
       "      <td>1</td>\n",
       "      <td>Hi all, {Hoffnung} hope {espoir} {hope} you're all having a wonderful bank holiday whatever it is you're doing😎 I however am taking an introverted approach and just chilling and if you're reading this I thank you for taking your time out to read my first post on this forum and giving it some notice. I've taken some time out to read others experiences relating to OCD and other mental illnesses, knowing that I am not alone and gaining more insight to a really important topic and by reading other people's stories, by doing this I find that I'm learning more about myself as well. Some made me laugh, some made me cry. But thankyou nonetheless. What a great, lovely bunch of people. \\nJust to add a little context, I'm a 21 year old male, recently come to terms with the fact I have OCD. As well as this I also have GAD, major depression {depression} and an eating disorder. \\nNot getting into too much detail about the discovery of my OCD. Although rather impactful, it in some way has helped me knowing that there is a reason I am the way I am. I'm aware to not use the term 'Pure O' as it's not a medically used term and it is exactly the same as the more commonly known OCD subtypes. My compulsions are mainly in the mind. The themes are around harm, pedophilia, relationships, sexuality, existential, incest, depression {depression} and unfortunately the list goes on with various different themes. I've been having these thoughts for what it seems almost all my life. I always thought there was something wrong with me. When I was around 15/16, when I got into a conversation with a friend about mental illnesses. I knew from then on what I had to do, I had to diagnose myself with whatever it is that is wrong with me and I had to then give myself CBT before I get thrown in a loony bin or reported to the police as a danger or even worse, before I could act on them thoughts. For 6 years, that has been my mission. I thought, my intrusive thoughts were a part of me just waiting to burst out at any random moment. I thought that someday I'm going to wake up, something would switch in my brain and I would either black out and forget what I had done or even more frighteningly, actually be completely aware and actually taking pleasure {joy} in said scenarios based around my intrusive thoughts. I thought I had a monster, living inside me, just waiting for its perfect time to attack. I wouldn't know it until I knew it.\\nI have lived (and still live) in complete {fear} {Terror} {la terreur} {terror} {Panik} fear {panic} {panique} {fear} {panic} {moral panic} that I am my thoughts and they are a tremendous flaw in my personality. I guess I'm still yet to convince myself that it is true but as you all know, you have your ups and downs with this ever so painful disorder. It has been difficult to me, as Im coming to terms with having OCD, I am currently piecing together all my symptoms and all the intrusive thoughts I've ever had throughout my life. It's like they've all come back at me and I'm in a bit of a pickle. But, I will be getting help very soon, just waiting to find a specialist in OCD and CBT in the Sheffield area and I will be making steps to make my life manageable again as I seemed to of gone off the rails after some family related issues and the breakdown of my relationship with my amazing ex girlfriend. And I am hopeful, even though I am actually scared. And admitting to being scared is something I've never done, even though scared is what I've been all my life. However, opening up to my loved ones about my thoughts, I have received nothing but love, support and compassion {compassion} and honestly... That's what I was most scared of, their reaction to my thoughts, and in that moment I knew that I had lived in {fear} {Terror} {la terreur} {terror} {Panik} fear {panic} {panique} {fear} {panic} {moral panic} for too long. They're heartbroken I'm going through this and have been for a long time, but only because they see me for what I don't. A normal, human being. Just like everyone else on this forum, or reading the forum. You're all normal, at least to us. And take comfort in that as did I when I came across these posts. \\nThere's a lyric that I've always been attached to, by a band called Meshuggah (shout out to all metal heads on this forum) and I'd love to share it. \\n'The struggle to free myself from restraints, becomes my very shackles.' \\nI {Hoffnung} hope {espoir} {hope} that whoever reads this post, whether youre someone who has been diagnosed with OCD for years or someone who is finding answers. Please know you're not alone in this. And it will and can get better because ultimately you deserve it and you ought to have the drive to go out there and do it. Because you are not your thoughts. You know what you are, just look a little deeper, and you'll see you for the beautiful person you are, because all you're doing and all I'm doing, is our own disorderly way of protecting us from the things we {fear} {Terror} {la terreur} {terror} {Panik} fear {panic} {panique} {fear} {panic} {moral panic} the most. \\nHave a good one guys. Enjoy the glorious weather. Thankyou so much.</td>\n",
       "    </tr>\n",
       "    <tr>\n",
       "      <th>2</th>\n",
       "      <td>2</td>\n",
       "      <td>Hi, \\nFirst, I hope everyone managed to have some joy and happiness this Christmas, especially those who are struggling a lot at the moment. \\nSecond, this post is going to be weird so I apologise.\\nToday I realised something very important. I realised that I actually am a bad person. When I look around I see normal and kind people; when I look at myself I see something disguting and weird (but not in a good way). This sounds silly but I received lots of presents today (I've never received so many before) and I felt so guilty. I don't deserve good things or people in my life. \\nBesides the fears of being attracted to children and being an abuser, I realised that I have so many other small obsessions. And they are absolutely disgusting. Take today for example. While having a nap with my boyfriend I had the feeling that I raped him by touching him in a weird way (by accident) and not doing anything about it for 30 seconds or so. While playing with my boyfriend's sister's cats I felt some sort of sick joy; I don't know if that was because I thought they were cute or because of something else. And these are only two examples, but there are so, so, so many other things that make me feel like a deviant and monster. My brain and body are so repugnant because they are the house of some of the most abnormal thoughts and feelings about the most normal things in the world, which automatically makes me a monster. And things would probably be easier if I were sure I didn't like all these feelings and thoughts, but here is the thing: I'm not sure. On the contrary, I think I do like and enjoy them, and I'm just too scared to accept it hence pretend to be scared, anxious and worried about it.\\nI think there is something seriously wrong with me. I'm a terrible person and I can feel it - I know this sounds weird but I can actually feel it. And because of that I don't want to be alive anymore, I really don't. For some reason I know I won't be able to survive like this for more than 10 (or even 5) years. I will never be happy with myslef; I'm way too rotten and evil inside for that to happen. \\nAgain, I apologise. I know this is not the post you would like to see during this festive period.</td>\n",
       "      <td>['hope', 'happiness', 'guilt', 'fear', 'obsession', 'disgust', 'joy', 'Thought']</td>\n",
       "      <td>['manage', 'joy', 'happiness', 'struggle', 'lot', 'moment', 'post', 'weird', 'apologise', 'today', 'realise', 'realise', 'normal', 'kind', 'people', 'disgute', 'weird', 'good', 'sounds_silly', 'receive', 'lot', 'present', 'today', 'receive', 'felt_guilty', 'deserve', 'good', 'thing', 'people', 'life', 'fear', 'attract', 'child', 'abuser', 'realise', 'small', 'obsession', 'absolutely', 'disgusting', 'today', 'nap', 'boyfriend', 'feeling', 'rape', 'touch', 'weird', 'accident', 'second', 'play', 'boyfriend', 'sister', 'cat', 'feel', 'sort', 'sick', 'joy', 'think', 'cute', 'example', 'thing', 'feel', 'deviant', 'monster', 'brain', 'body', 'repugnant', 'house', 'abnormal', 'thought', 'feeling', 'normal', 'thing', 'automatically', 'monster', 'thing', 'easy', 'feeling', 'thought', 'thing', 'contrary', 'enjoy', 'scare', 'accept', 'pretend', 'scare', 'anxious', 'worried', 'wrong', 'terrible_person', 'feel', 'sounds_weird', 'feel', 'alive', 'reason', 'survive', 'year', 'happy', 'myslef', 'rotten', 'evil', 'inside', 'happen']</td>\n",
       "      <td>0</td>\n",
       "      <td>0</td>\n",
       "      <td>1</td>\n",
       "      <td>Hi, \\nFirst, I {Hoffnung} hope {espoir} {hope} everyone managed to have some joy {joy} and {happiness} {joy {joy}} {Gelassenheit} {serenity} {sérénité} {Spaß} {amusement} {divertissement} {Hochgefühl} happiness {elation} {elation} {Euphorie} {euphoria} {l'euphorie} {contentment} {Genuss} {enjoyment} {jouissance} this Christmas, especially those who are struggling a lot at the moment. \\nSecond, this post is going to be weird so I apologise.\\nToday I realised something very important. I realised that I actually am a bad person. When I look around I see normal and kind people; when I look at myself I see something disguting and weird (but not in a good way). This sounds silly but I received lots of presents today (I've never received so many before) and I felt so guilty. I don't deserve good things or people in my life. \\nBesides the fears of being attracted to children and being an abuser, I realised that I have so many other small obsessions. And they are absolutely disgusting. Take today for example. While having a nap with my boyfriend I had the feeling that I raped him by touching him in a weird way (by accident) and not doing anything about it for 30 seconds or so. While playing with my boyfriend's sister's cats I felt some sort of sick joy {joy}; I don't know if that was because I thought they were cute or because of something else. And these are only two examples, but there are so, so, so many other things that make me feel like a deviant and monster. My brain and body are so repugnant because they are the house of some of the most abnormal thoughts and feelings about the most normal things in the world, which automatically makes me a monster. And things would probably be easier if I were sure I didn't like all these feelings and thoughts, but here is the thing: I'm not sure. On the contrary, I think I do like and enjoy them, and I'm just too scared to accept it hence pretend to be scared, anxious and worried about it.\\nI think there is something seriously wrong with me. I'm a terrible person and I can feel it - I know this sounds weird but I can actually feel it. And because of that I don't want to be alive anymore, I really don't. For some reason I know I won't be able to survive like this for more than 10 (or even 5) years. I will never be happy with myslef; I'm way too rotten and evil inside for that to happen. \\nAgain, I apologise. I know this is not the post you would like to see during this festive period.</td>\n",
       "    </tr>\n",
       "    <tr>\n",
       "      <th>3</th>\n",
       "      <td>3</td>\n",
       "      <td>Hello everyone. I could really use your help right now in identifying whether this is another OCD obsession or just my mind being corrupt\\nI hav suffered before with OCD obsessions about harming my family and it was the worst experience of my life. I did get treatment in the form of CBT and this helped. However, after my A level exams (which were STRESSFULL) my OCD has returned and now I obsess over harm, inappropriately touching people etc.\\nApart from this, a new obsession has come. Whenever I see any young child laughing or playing or just sitting (usually my 8 year old cousin who visits us) I start to have intrusive thought about negative experiences in my own childhood. My father was an alcoholic which left me with very panicky experiences. I get really distressed by thesehorrible reminders and I do cry.\\nAs a result, I avoid playing with my cousin at all costs so don't have to dwell on my own childhood and feel depressed. However, just seeing my cousin once brings these horrible memories which are followed by on-going thoughts in my mind that tell me\\n'I'm hopeless due to my childhood', 'I will never amount to anything' and 'My childhood made me this way'.\\nPlease help me. I need to know if this is another OCD obsession so I can find some peace of mind and know its not me being a bitter and twisted idiot.\\nSo is this OCD???</td>\n",
       "      <td>['Treatment', 'hope', 'Thought', 'obsession', 'OCD']</td>\n",
       "      <td>['identify', 'ocd', 'obsession', 'mind', 'corrupt', 'suffer', 'obsession', 'harm', 'family', 'bad', 'experience', 'life', 'treatment', 'form', 'help', 'return', 'obsess', 'harm', 'inappropriately', 'touch', 'people', 'obsession', 'young_child', 'laugh', 'play', 'sit', 'year', 'cousin', 'visit', 'start', 'negative', 'experience', 'leave', 'panicky', 'experience', 'distressed', 'thesehorrible', 'reminder', 'result', 'avoid', 'play', 'cousin', 'cost', 'dwell', 'childhood', 'feel', 'depressed', 'cousin', 'bring', 'horrible', 'memory', 'thought', 'mind', 'hopeless', 'childhood', 'obsession', 'peace', 'mind', 'bitter', 'twist']</td>\n",
       "      <td>0</td>\n",
       "      <td>0</td>\n",
       "      <td>1</td>\n",
       "      <td>Hello everyone. I could really use your help right now in identifying whether this is another OCD {obsession} {obsession} {aggressive obsession} {contamination obsession} {doubt obsession} obsession {hoarding obsession} {religious obsession} {sexual obsession} {somatic obsession} {symmetry obsession} or just my mind being corrupt\\nI hav suffered before with OCD obsessions about harming my family and it was the worst experience of my life. I did get treatment in the form of CBT and this helped. However, after my A level exams (which were STRESSFULL) my OCD has returned and now I obsess over harm, inappropriately touching people etc.\\nApart from this, a new {obsession} {obsession} {aggressive obsession} {contamination obsession} {doubt obsession} obsession {hoarding obsession} {religious obsession} {sexual obsession} {somatic obsession} {symmetry obsession} has come. Whenever I see any young child laughing or playing or just sitting (usually my 8 year old cousin who visits us) I start to have intrusive thought about negative experiences in my own childhood. My father was an alcoholic which left me with very panicky experiences. I get really distressed by thesehorrible reminders and I do cry.\\nAs a result, I avoid playing with my cousin at all costs so don't have to dwell on my own childhood and feel depressed. However, just seeing my cousin once brings these horrible memories which are followed by on-going thoughts in my mind that tell me\\n'I'm hopeless due to my childhood', 'I will never amount to anything' and 'My childhood made me this way'.\\nPlease help me. I need to know if this is another OCD {obsession} {obsession} {aggressive obsession} {contamination obsession} {doubt obsession} obsession {hoarding obsession} {religious obsession} {sexual obsession} {somatic obsession} {symmetry obsession} so I can find some peace of mind and know its not me being a bitter and twisted idiot.\\nSo is this OCD???</td>\n",
       "    </tr>\n",
       "    <tr>\n",
       "      <th>4</th>\n",
       "      <td>4</td>\n",
       "      <td>Though it comes in many flavors, one of the more common OCD themes we see on the forum is that of (no) crime and punishment. I wrote it that way for a reason. The sufferer believes they made an egregious mistake or have even committed a crime (what they did was so terrible), yet everyone else on the forum responds that no such crime exists or that the mistake is nothing to worry about. This theme has one thing in common: the sufferer's steadfast determination to punish themselves for the perceived transgression.\\nMany times someone will raise an issue like this on the forum, then vehemently stick to the belief that the situation has nothing to do with OCD. We see it so often here one would have to wonder how it could not be OCD, since the posts appear on an OCD forum. Further, people with this particular theme often have other, more easily identifiable versions of OCD, lending credence to the belief that the current problem is also OCD.\\nThe main reason why people balk at the thought that OCD is involved is that the situation (the crime) was real. OCD apparently didn't have any part in the formation of the crime/mistake. While that appears to be true in most cases of this theme, the person nonetheless is dealing with OCD now. Real mistakes or errors in judgment or perceived crimes can happen in real life. OCD comes into play when the person becomes overly focused on the mistake/crime/error to the detriment of their ability to live a quality life.\\nSometimes the 'crime' took place recently. In many cases it happened years and years ago but suddenly popped into the mind of the OCD sufferer. In all cases sufferers with this theme become obsessed with what happened. They fixate on the alleged crime and can't shake it from their mind. The thought of what happened (obsession) causes distress. And the sufferer performs compulsions, most notably ruminating -- going over the event in their mind repeatedly.\\nA notable manifestation of this theme is the very common belief that the crime/mistake/error made in the past is absolutely terrible. Sufferers commonly come across as being devastated that they made such a mistake, which they believe is life changing. Interestingly, the nearly unanimous verdict of responders to threads about this OCD theme is that the crime/mistake/error appears to be minor in origin and not worth worrying about.\\nOne by-product of this OCD theme and the way it manifests is what can be an overwhelming feeling of guilt. As everyone should know, OCD involves obsessions (intrusive thoughts) that cause distress. With this theme the majority of that distress is expressed as guilt. Consquently, sufferers with this theme commonly believe that they should be/must be punished for their transgression. This is expressed in self loathing comments and an interest shown in confessing the transgression to loved ones/the police.\\nOther people look at the situations and see they are minor incidents that should be dismissed, but the sufferers of this theme truly believe it is a case of crime and required punishment. Attempts at reassuring sufferers that they did not do bad, that they are not bad and that they deserve no punishment usually fall on deaf ears.\\nLike with other OCD themes, sufferers of this theme are their own worst enemies. Although the obsessions (thoughts that the sufferer did wrong) can be fleeting and last only seconds, sufferers can spend hours and hours ruminating on the subject. They can perform other compulsions, such as searching the Internet for stories of people who similarly screwed up, searching to find out what truly bad people do as a way of comparison, seeking reassurance and confessing.\\nInterestingly, with this OCD theme, the reassurance seeking can be the reverse of what is normally seen. While some people may ask for reassurance that they aren't a terrible person, some sufferers come across as if they want confirmation that they are bad and that what they did was egregious, terrible and worth punishment.\\nThis theme can result in cognitive distortions being exhibited, including all-or-nothing-thinking. \"\"I did X, therefore I am evil.\"\"\\nLike any other theme, this theme can be dealt with using the tenets of CBT. From the cognitive side the person can start saying positive statements as opposed to negative, all-or-nothing-thinking statements. (I am a good person. I make mistakes but I am still a good person).\\nOn the behavioral side, it is important that sufferers identify the compulsions they perform and work to resist them. No doubt ruminating is a big one with this theme. Refusal to confess past transgressions is essential, as is stopping searching on the Internet for similar stories.</td>\n",
       "      <td>['quality', 'Intrusive thoughts', 'fall', 'behavior', 'guilt', 'obsession', 'compulsion', 'interest', 'OCD', 'Thought']</td>\n",
       "      <td>['flavor', 'common', 'theme', 'crime', 'punishment', 'write', 'reason', 'sufferer', 'believe', 'egregious', 'mistake', 'committed_crime', 'terrible', 'forum', 'respond', 'crime', 'exist', 'mistake', 'worry', 'theme', 'thing', 'common', 'sufferer', 'steadfast', 'determination', 'punish', 'perceive', 'transgression', 'time', 'raise', 'issue', 'vehemently', 'stick', 'belief', 'post', 'ocd', 'people', 'theme', 'easily', 'identifiable', 'version', 'lending', 'credence', 'belief', 'current', 'problem', 'people', 'balk', 'think', 'involve', 'situation', 'crime', 'real', 'formation', 'crime', 'mistake', 'appear', 'true', 'case', 'theme', 'person', 'deal', 'real', 'mistake', 'error', 'judgment', 'perceive', 'crime', 'happen', 'real_life', 'play', 'person', 'overly', 'focus', 'crime', 'error', 'detriment', 'ability', 'live', 'quality', 'life', 'crime', 'place', 'case', 'happen', 'year', 'suddenly', 'pop', 'mind', 'ocd_sufferer', 'case', 'sufferer', 'theme', 'obsess', 'happen', 'fixate', 'allege', 'crime', 'shake', 'mind', 'think', 'happen', 'obsession', 'distress', 'sufferer', 'perform', 'compulsion', 'notably', 'ruminate', 'event', 'mind', 'repeatedly', 'notable', 'manifestation', 'theme', 'common', 'belief', 'crime', 'mistake', 'error', 'absolutely_terrible', 'sufferer', 'commonly', 'devastate', 'mistake', 'life', 'change', 'interestingly', 'unanimous', 'verdict', 'responder', 'thread', 'theme', 'crime', 'mistake', 'error', 'appear', 'minor', 'origin', 'worth', 'worry', 'product', 'ocd', 'theme', 'manifest', 'overwhelming_feele', 'guilt', 'ocd', 'involve', 'obsession', 'distress', 'theme', 'majority', 'distress', 'express', 'guilt', 'consquently', 'sufferer', 'theme', 'commonly', 'punish', 'transgression', 'express', 'loathing', 'comment', 'confess', 'transgression', 'love', 'police', 'people', 'situation', 'minor', 'incident', 'dismiss', 'sufferer', 'theme', 'case', 'crime', 'require', 'punishment', 'attempt', 'reassure', 'sufferer', 'bad', 'bad', 'deserve', 'punishment', 'fall', 'deaf', 'ear', 'theme', 'bad', 'enemy', 'obsession', 'thought', 'sufferer', 'wrong', 'fleeting', 'second', 'sufferer', 'hour', 'ruminate', 'subject', 'perform_compulsion', 'search', 'internet', 'story', 'people', 'screw', 'search', 'bad', 'people', 'comparison', 'seeking_reassurance', 'confess', 'interestingly', 'ocd', 'theme', 'reassurance_seeke', 'reverse', 'people', 'reassurance', 'sufferer', 'confirmation', 'bad', 'egregious', 'terrible', 'worth', 'punishment', 'theme', 'result', 'cognitive_distortion', 'exhibit', 'include', 'think', 'evil', 'theme', 'theme', 'deal', 'tenet', 'cbt_cognitive', 'person', 'start', 'positive', 'statement', 'oppose', 'negative', 'thinking', 'statement', 'good', 'person', 'mistake', 'good', 'person', 'behavioral', 'sufferer', 'identify', 'compulsion', 'perform', 'work', 'resist', 'doubt', 'ruminate', 'big', 'theme', 'refusal', 'confess', 'transgression', 'essential', 'stop', 'search', 'internet', 'story']</td>\n",
       "      <td>1</td>\n",
       "      <td>1</td>\n",
       "      <td>1</td>\n",
       "      <td>Though it comes in many flavors, one of the more common OCD themes we see on the forum is that of (no) crime and punishment. I wrote it that way for a reason. The sufferer believes they made an egregious mistake or have even committed a crime (what they did was so terrible), yet everyone else on the forum responds that no such crime exists or that the mistake is nothing to worry {interest} about. This theme has one thing in common: the sufferer's steadfast determination to punish themselves for the perceived transgression.\\nMany times someone will raise an issue like this on the forum, then vehemently stick to the belief that the situation has nothing to do with OCD. We see it so often here one would have to wonder how it could not be OCD, since the posts appear on an OCD forum. Further, people with this particular theme often have other, more easily identifiable versions of OCD, lending credence to the belief that the current problem is also OCD.\\nThe main reason why people balk at the thought that OCD is involved is that the situation (the crime) was real. OCD apparently didn't have any part in the formation of the crime/mistake. While that appears to be true in most cases of this theme, the person nonetheless is dealing with OCD now. Real mistakes or errors in judgment or perceived crimes can happen in real life. OCD comes into play when the person becomes overly focused on the mistake/crime/error to the detriment of their ability to live a {quality} {relational quality} {bodily quality} {mental quality} {intentionality} {manifestation of a disease} {clinical manifestation of a disease} {preclinical manifestation of a disease} quality {phenotype} {clinical phenotype} {disease phenotype} {configuration} {pathological physical configuration} {syndrome} {recovered from disease} {qualitative sign} {http://www.semanticweb.org/OntoOCD#Impairment} life.\\nSometimes the 'crime' took place recently. In many cases it happened years and years ago but suddenly popped into the mind of the OCD sufferer. In all cases sufferers with this theme become obsessed with what happened. They fixate on the alleged crime and can't shake it from their mind. The thought of what happened ({{compulsion} obsession {compulsion}} {{compulsion} obsession {compulsion}} {aggressive {compulsion} obsession {compulsion}} {contamination {compulsion} obsession {compulsion}} {doubt {compulsion} obsession {compulsion}} {compulsion} obsession {compulsion} {hoarding {compulsion} obsession {compulsion}} {religious {compulsion} obsession {compulsion}} {sexual {compulsion} obsession {compulsion}} {somatic {compulsion} obsession {compulsion}} {symmetry {compulsion} obsession {compulsion}}) causes distress. And the sufferer performs compulsions, most notably ruminating -- going over the event in their mind repeatedly.\\nA notable manifestation of this theme is the very common belief that the crime/mistake/error made in the past is absolutely terrible. Sufferers commonly come {fall} across as being devastated that they made such a mistake, which they believe is life changing. Interestingly, the nearly unanimous verdict of responders to threads about this OCD theme is that the crime/mistake/error appears to be minor in origin and not worth worrying about.\\nOne by-product of this OCD theme and the way it manifests is what can be an overwhelming feeling of {guilt} guilt {guilt} {survivor guilt}. As everyone should know, OCD involves obsessions (intrusive thoughts) that cause distress. With this theme the majority of that distress is expressed as {guilt} guilt {guilt} {survivor guilt}. Consquently, sufferers with this theme commonly believe that they should be/must be punished for their transgression. This is expressed in self loathing comments and an interest {interest} shown in confessing the transgression to loved ones/the police.\\nOther people look at the situations and see they are minor incidents that should be dismissed, but the sufferers of this theme truly believe it is a case of crime and required punishment. Attempts at reassuring sufferers that they did not do bad, that they are not bad and that they deserve no punishment usually fall {fall} on deaf ears.\\nLike with other OCD themes, sufferers of this theme are their own worst enemies. Although the obsessions (thoughts that the sufferer did wrong) can be fleeting and last only seconds, sufferers can spend hours and hours ruminating on the subject. They can perform other compulsions, such as searching the Internet for stories of people who similarly screwed up, searching to find out what truly bad people do as a way of comparison, seeking reassurance and confessing.\\nInterestingly, with this OCD theme, the reassurance seeking can be the reverse of what is normally seen. While some people may ask for reassurance that they aren't a terrible person, some sufferers come {fall} across as if they want confirmation that they are bad and that what they did was egregious, terrible and worth punishment.\\nThis theme can result in cognitive distortions being exhibited, including all-or-nothing-thinking. \"\"I did X, therefore I am evil.\"\"\\nLike any other theme, this theme can be dealt with using the tenets of CBT. From the cognitive side the person can start saying positive statements as opposed to negative, all-or-nothing-thinking statements. (I am a good person. I make mistakes but I am still a good person).\\nOn the behavioral side, it is important that sufferers identify the compulsions they perform and work to resist them. No doubt ruminating is a big one with this theme. Refusal to confess past transgressions is essential, as is stopping searching on the Internet for similar stories.</td>\n",
       "    </tr>\n",
       "  </tbody>\n",
       "</table>\n",
       "</div>"
      ],
      "text/plain": [
       "   Unnamed: 0  \\\n",
       "0           0   \n",
       "1           1   \n",
       "2           2   \n",
       "3           3   \n",
       "4           4   \n",
       "\n",
       "                                                                                                                                                                                                                                                                                                                                                                                                                                                                                                                                                                                                                                                                                                                                                                                                                                                                                                                                                                                                                                                                                                                                                                                                                                                                                                                                                                                                                                                                                                                                                                                                                                                                                                                                                                                                                                                                                                                                                                                                                                                                                                                                                                                                                                                                                                                                                                                                                                                                                                                                                                                                                                                                                                                                                                                                                                                                                                                                                                                                                                                                                                                                                                                                                                                                                                                                                                                                                                                                                                                                                                                                                                                                                                                                                                                                                                                                                                                                                                                                                                                                                                                                                                                                                                                                                                                                                                                                                                                                                                                                                                                                                                                                                                                                                                                                                                                                                                                                                                    post  \\\n",
       "0                                                                                                                                                                                                                                                                                                                                                                                                                                                                                                                                                                                                                                                                                                                                                                                                                                                                                                                                                                                                                                                                                                                                                                                                                                                                                                                                                                                                                                                                                                                                                                                                                                                                                                                                                                                                                                                                                                                                                                                                                                                                                                                                                                                                                                                                                                                                                                                                                                                                                                                                                    Hi -\\nSo I haven't been on here since December since I was recovering. I've been on prozac since I was 18 (now 24) for depression but I was diagnosed with OCD in January. My psych bumped me up to a higher dosage of prozac - 80mg - which was doing a great job. But I wanted to go off of it because it was making me gain weight and now I'm freaking out!! My OCD revolves around cheating like some of you know...and my most recent \"\"obsession\"\" (I put quotes around it cuz i question whether its an obsession or if its real) is that... well let me start from the beginning. I went to my fiancé's friends place and we all had a few drinks and played card games and such. I was with my fiance the whole time except for when I went to the bathroom. I remember everything from the night despite the alcohol in my system. We came home and continued drinking (just me and my fiance) and I eventually blacked out. I ended up having a dream about cheating on my partner with someone that I had seen earlier that night (well not really cheating just taking the guys hands and placing them in an odd place). But it's just that image in my head nothing else. I don't really remember waking up from it to realize it was a dream, I think I stirred but then went right back to sleep (i dont even remember)...I keep thinking what if it wasn't a dream what if it actually happened? My fiance keeps telling me he was with me the whole time and nothing happened but I think about the dream/image all day and it's driving me nuts! I always question whether I really have OCD or not and if the doc just diagnosed me to make me feel better and everything is true and real??? I have an appt with my psych tomorrow and I think I am going to have him write me a script for Zoloft...apparently it is an SSRI that doesn't cause weight gain. SSRI's are the only thing that seem to help me to accept uncertainty, but the thing that bothers me is I've never been able to say yes or no to the thoughts...but when I'm on the medication I'm kind of just like eh whatever and then the thought goes away. When I'm not I have crying spells and can't concentrate and just obsess and cry all day in the bathroom at work and also I get really bad separation anxiety from my fiance. Anyway I'm kind of just rambling just wanted to vent. Hope everyone is doing okay.   \n",
       "1  Hi all, hope you're all having a wonderful bank holiday whatever it is you're doing😎 I however am taking an introverted approach and just chilling and if you're reading this I thank you for taking your time out to read my first post on this forum and giving it some notice. I've taken some time out to read others experiences relating to OCD and other mental illnesses, knowing that I am not alone and gaining more insight to a really important topic and by reading other people's stories, by doing this I find that I'm learning more about myself as well. Some made me laugh, some made me cry. But thankyou nonetheless. What a great, lovely bunch of people. \\nJust to add a little context, I'm a 21 year old male, recently come to terms with the fact I have OCD. As well as this I also have GAD, major depression and an eating disorder. \\nNot getting into too much detail about the discovery of my OCD. Although rather impactful, it in some way has helped me knowing that there is a reason I am the way I am. I'm aware to not use the term 'Pure O' as it's not a medically used term and it is exactly the same as the more commonly known OCD subtypes. My compulsions are mainly in the mind. The themes are around harm, pedophilia, relationships, sexuality, existential, incest, depression and unfortunately the list goes on with various different themes. I've been having these thoughts for what it seems almost all my life. I always thought there was something wrong with me. When I was around 15/16, when I got into a conversation with a friend about mental illnesses. I knew from then on what I had to do, I had to diagnose myself with whatever it is that is wrong with me and I had to then give myself CBT before I get thrown in a loony bin or reported to the police as a danger or even worse, before I could act on them thoughts. For 6 years, that has been my mission. I thought, my intrusive thoughts were a part of me just waiting to burst out at any random moment. I thought that someday I'm going to wake up, something would switch in my brain and I would either black out and forget what I had done or even more frighteningly, actually be completely aware and actually taking pleasure in said scenarios based around my intrusive thoughts. I thought I had a monster, living inside me, just waiting for its perfect time to attack. I wouldn't know it until I knew it.\\nI have lived (and still live) in complete fear that I am my thoughts and they are a tremendous flaw in my personality. I guess I'm still yet to convince myself that it is true but as you all know, you have your ups and downs with this ever so painful disorder. It has been difficult to me, as Im coming to terms with having OCD, I am currently piecing together all my symptoms and all the intrusive thoughts I've ever had throughout my life. It's like they've all come back at me and I'm in a bit of a pickle. But, I will be getting help very soon, just waiting to find a specialist in OCD and CBT in the Sheffield area and I will be making steps to make my life manageable again as I seemed to of gone off the rails after some family related issues and the breakdown of my relationship with my amazing ex girlfriend. And I am hopeful, even though I am actually scared. And admitting to being scared is something I've never done, even though scared is what I've been all my life. However, opening up to my loved ones about my thoughts, I have received nothing but love, support and compassion and honestly... That's what I was most scared of, their reaction to my thoughts, and in that moment I knew that I had lived in fear for too long. They're heartbroken I'm going through this and have been for a long time, but only because they see me for what I don't. A normal, human being. Just like everyone else on this forum, or reading the forum. You're all normal, at least to us. And take comfort in that as did I when I came across these posts. \\nThere's a lyric that I've always been attached to, by a band called Meshuggah (shout out to all metal heads on this forum) and I'd love to share it. \\n'The struggle to free myself from restraints, becomes my very shackles.' \\nI hope that whoever reads this post, whether youre someone who has been diagnosed with OCD for years or someone who is finding answers. Please know you're not alone in this. And it will and can get better because ultimately you deserve it and you ought to have the drive to go out there and do it. Because you are not your thoughts. You know what you are, just look a little deeper, and you'll see you for the beautiful person you are, because all you're doing and all I'm doing, is our own disorderly way of protecting us from the things we fear the most. \\nHave a good one guys. Enjoy the glorious weather. Thankyou so much.   \n",
       "2                                                                                                                                                                                                                                                                                                                                                                                                                                                                                                                                                                                                                                                                                                                                                                                                                                                                                                                                                                                                                                                                                                                                                                                                                                                                                                                                                                                                                                                                                                                                                                                                                                                                                                                                                                                                                                                                                                                                                                                                                                                                                                                                                                                                                                                                                                                                                                                                                                                                                                                                                                                                                                                                      Hi, \\nFirst, I hope everyone managed to have some joy and happiness this Christmas, especially those who are struggling a lot at the moment. \\nSecond, this post is going to be weird so I apologise.\\nToday I realised something very important. I realised that I actually am a bad person. When I look around I see normal and kind people; when I look at myself I see something disguting and weird (but not in a good way). This sounds silly but I received lots of presents today (I've never received so many before) and I felt so guilty. I don't deserve good things or people in my life. \\nBesides the fears of being attracted to children and being an abuser, I realised that I have so many other small obsessions. And they are absolutely disgusting. Take today for example. While having a nap with my boyfriend I had the feeling that I raped him by touching him in a weird way (by accident) and not doing anything about it for 30 seconds or so. While playing with my boyfriend's sister's cats I felt some sort of sick joy; I don't know if that was because I thought they were cute or because of something else. And these are only two examples, but there are so, so, so many other things that make me feel like a deviant and monster. My brain and body are so repugnant because they are the house of some of the most abnormal thoughts and feelings about the most normal things in the world, which automatically makes me a monster. And things would probably be easier if I were sure I didn't like all these feelings and thoughts, but here is the thing: I'm not sure. On the contrary, I think I do like and enjoy them, and I'm just too scared to accept it hence pretend to be scared, anxious and worried about it.\\nI think there is something seriously wrong with me. I'm a terrible person and I can feel it - I know this sounds weird but I can actually feel it. And because of that I don't want to be alive anymore, I really don't. For some reason I know I won't be able to survive like this for more than 10 (or even 5) years. I will never be happy with myslef; I'm way too rotten and evil inside for that to happen. \\nAgain, I apologise. I know this is not the post you would like to see during this festive period.   \n",
       "3                                                                                                                                                                                                                                                                                                                                                                                                                                                                                                                                                                                                                                                                                                                                                                                                                                                                                                                                                                                                                                                                                                                                                                                                                                                                                                                                                                                                                                                                                                                                                                                                                                                                                                                                                                                                                                                                                                                                                                                                                                                                                                                                                                                                                                                                                                                                                                                                                                                                                                                                                                                                                                                                                                                                                                                                                                                                                                                                                                                                                                                                                                                                                                                                                                                                                                                                                                                                                                                                                                                                                                Hello everyone. I could really use your help right now in identifying whether this is another OCD obsession or just my mind being corrupt\\nI hav suffered before with OCD obsessions about harming my family and it was the worst experience of my life. I did get treatment in the form of CBT and this helped. However, after my A level exams (which were STRESSFULL) my OCD has returned and now I obsess over harm, inappropriately touching people etc.\\nApart from this, a new obsession has come. Whenever I see any young child laughing or playing or just sitting (usually my 8 year old cousin who visits us) I start to have intrusive thought about negative experiences in my own childhood. My father was an alcoholic which left me with very panicky experiences. I get really distressed by thesehorrible reminders and I do cry.\\nAs a result, I avoid playing with my cousin at all costs so don't have to dwell on my own childhood and feel depressed. However, just seeing my cousin once brings these horrible memories which are followed by on-going thoughts in my mind that tell me\\n'I'm hopeless due to my childhood', 'I will never amount to anything' and 'My childhood made me this way'.\\nPlease help me. I need to know if this is another OCD obsession so I can find some peace of mind and know its not me being a bitter and twisted idiot.\\nSo is this OCD???   \n",
       "4                                                                           Though it comes in many flavors, one of the more common OCD themes we see on the forum is that of (no) crime and punishment. I wrote it that way for a reason. The sufferer believes they made an egregious mistake or have even committed a crime (what they did was so terrible), yet everyone else on the forum responds that no such crime exists or that the mistake is nothing to worry about. This theme has one thing in common: the sufferer's steadfast determination to punish themselves for the perceived transgression.\\nMany times someone will raise an issue like this on the forum, then vehemently stick to the belief that the situation has nothing to do with OCD. We see it so often here one would have to wonder how it could not be OCD, since the posts appear on an OCD forum. Further, people with this particular theme often have other, more easily identifiable versions of OCD, lending credence to the belief that the current problem is also OCD.\\nThe main reason why people balk at the thought that OCD is involved is that the situation (the crime) was real. OCD apparently didn't have any part in the formation of the crime/mistake. While that appears to be true in most cases of this theme, the person nonetheless is dealing with OCD now. Real mistakes or errors in judgment or perceived crimes can happen in real life. OCD comes into play when the person becomes overly focused on the mistake/crime/error to the detriment of their ability to live a quality life.\\nSometimes the 'crime' took place recently. In many cases it happened years and years ago but suddenly popped into the mind of the OCD sufferer. In all cases sufferers with this theme become obsessed with what happened. They fixate on the alleged crime and can't shake it from their mind. The thought of what happened (obsession) causes distress. And the sufferer performs compulsions, most notably ruminating -- going over the event in their mind repeatedly.\\nA notable manifestation of this theme is the very common belief that the crime/mistake/error made in the past is absolutely terrible. Sufferers commonly come across as being devastated that they made such a mistake, which they believe is life changing. Interestingly, the nearly unanimous verdict of responders to threads about this OCD theme is that the crime/mistake/error appears to be minor in origin and not worth worrying about.\\nOne by-product of this OCD theme and the way it manifests is what can be an overwhelming feeling of guilt. As everyone should know, OCD involves obsessions (intrusive thoughts) that cause distress. With this theme the majority of that distress is expressed as guilt. Consquently, sufferers with this theme commonly believe that they should be/must be punished for their transgression. This is expressed in self loathing comments and an interest shown in confessing the transgression to loved ones/the police.\\nOther people look at the situations and see they are minor incidents that should be dismissed, but the sufferers of this theme truly believe it is a case of crime and required punishment. Attempts at reassuring sufferers that they did not do bad, that they are not bad and that they deserve no punishment usually fall on deaf ears.\\nLike with other OCD themes, sufferers of this theme are their own worst enemies. Although the obsessions (thoughts that the sufferer did wrong) can be fleeting and last only seconds, sufferers can spend hours and hours ruminating on the subject. They can perform other compulsions, such as searching the Internet for stories of people who similarly screwed up, searching to find out what truly bad people do as a way of comparison, seeking reassurance and confessing.\\nInterestingly, with this OCD theme, the reassurance seeking can be the reverse of what is normally seen. While some people may ask for reassurance that they aren't a terrible person, some sufferers come across as if they want confirmation that they are bad and that what they did was egregious, terrible and worth punishment.\\nThis theme can result in cognitive distortions being exhibited, including all-or-nothing-thinking. \"\"I did X, therefore I am evil.\"\"\\nLike any other theme, this theme can be dealt with using the tenets of CBT. From the cognitive side the person can start saying positive statements as opposed to negative, all-or-nothing-thinking statements. (I am a good person. I make mistakes but I am still a good person).\\nOn the behavioral side, it is important that sufferers identify the compulsions they perform and work to resist them. No doubt ruminating is a big one with this theme. Refusal to confess past transgressions is essential, as is stopping searching on the Internet for similar stories.   \n",
       "\n",
       "                                                                                                                       prefLabel  \\\n",
       "0           ['depression', 'weight gain', 'Medication', 'anxiety', 'anxiety', 'hope', 'obsession', 'bathroom', 'Thought', 'OCD']   \n",
       "1  ['compulsion', 'anger', 'symptom', 'compassion', 'joy', 'depression', 'hope', 'fear', 'OCD', 'Intrusive thoughts', 'Thought']   \n",
       "2                                               ['hope', 'happiness', 'guilt', 'fear', 'obsession', 'disgust', 'joy', 'Thought']   \n",
       "3                                                                           ['Treatment', 'hope', 'Thought', 'obsession', 'OCD']   \n",
       "4        ['quality', 'Intrusive thoughts', 'fall', 'behavior', 'guilt', 'obsession', 'compulsion', 'interest', 'OCD', 'Thought']   \n",
       "\n",
       "                                                                                                                                                                                                                                                                                                                                                                                                                                                                                                                                                                                                                                                                                                                                                                                                                                                                                                                                                                                                                                                                                                                                                                                                                                                                                                                                                                                                                                                                                                                                                                                                                                                                                                                                                                                                                                                                                                                                                                                                                                                                                                                                                                                                                                                                                                                                                                                                                                                                                                                                                                                                                                                                                                                                                                                                                                                                                                                                                                                                                                                                Document_Keywords  \\\n",
       "0                                                                                                                                                                                                                                                                                                                                                                                                                                                                                                                                                                                                                                                                                                                                                                                                                                                                                                                                                                                                                                                                                                                                                                                                                                                                                                                                                                                                                                                                                                                                                                                                                                                                                                                                                                                                                                                                                                                                                                                           ['recover', 'prozac', 'depression', 'diagnose', 'psych', 'bump', 'higher_dosage', 'prozac', 'great', 'job', 'want', 'make', 'freaking', 'ocd_revolve', 'cheat', 'knowand', 'obsession', 'quote', 'question', 'obsession', 'real', 'start', 'fiance', 'friend', 'place', 'drink', 'play', 'card', 'game', 'fiance', 'time', 'bathroom', 'remember', 'night', 'alcohol', 'continue', 'drinking', 'fiance', 'eventually', 'black', 'end', 'dream', 'cheating', 'partner', 'early', 'night', 'cheat', 'guy', 'hand', 'place', 'odd', 'place', 'image', 'head', 'remember', 'wake', 'realize', 'dream', 'stir', 'sleep', 'remember', 'think', 'dream', 'happen', 'fiance', 'tell', 'time', 'happen', 'dream', 'image', 'day', 'drive', 'nuts', 'question', 'diagnose', 'feel', 'true', 'real', 'appt', 'psych', 'tomorrow', 'write', 'script', 'weight_gain', 'ssri', 'thing', 'thing', 'bother', 'thoughtsbut', 'medication', 'kind', 'think', 'cry', 'spell', 'concentrate', 'day', 'bathroom', 'work', 'bad', 'separation_anxiety', 'fiance', 'kind', 'ramble', 'want', 'vent', 'hope']   \n",
       "1                                                                                                                                                                                                                                                                                                                                                                                                                                                                                                                                                                                                                                                                                                                                                                                                                                                                                                ['hope', 'wonderful', 'introvert', 'approach', 'chill', 'reading', 'time', 'read', 'post', 'notice', 'time', 'read', 'experience', 'relate', 'mental_illnesse', 'know', 'gain', 'insight', 'topic', 'read', 'people', 'story', 'learn', 'laugh', 'great', 'lovely', 'bunch', 'people', 'add', 'context', 'year', 'male', 'term', 'fact', 'major_depression', 'eating_disorder', 'help', 'know', 'reason', 'aware', 'term', 'pure', 'medically', 'term', 'commonly', 'ocd', 'subtype', 'compulsion', 'mind', 'theme', 'harm', 'relationship', 'sexuality', 'existential', 'incest', 'depression', 'list', 'theme', 'thought', 'life', 'think', 'wrong', 'conversation', 'friend', 'mental_illnesse', 'know', 'diagnose', 'wrong', 'cbt', 'throw', 'report', 'police', 'danger', 'bad', 'thought', 'year', 'mission', 'think', 'intrusive_thought', 'wait', 'burst', 'random', 'moment', 'think', 'someday', 'wake', 'switch', 'brain', 'black', 'forget', 'frighteningly', 'completely', 'aware', 'pleasure', 'scenario', 'base', 'think', 'monster', 'live', 'wait', 'perfect', 'time', 'attack', 'know', 'live', 'live', 'complete', 'fear', 'thought', 'tremendous', 'flaw', 'personality', 'guess', 'convince', 'true', 'down', 'painful', 'disorder', 'difficult', 'come', 'term', 'ocd', 'piece', 'symptom', 'intrusive_thought', 'life', 'bit', 'pickle', 'wait', 'sheffield', 'area', 'make', 'step', 'life', 'manageable', 'rail', 'family', 'issue', 'breakdown', 'relationship', 'amazing', 'hopeful', 'scared', 'admit', 'scared', 'scared', 'life', 'opening', 'love', 'thought', 'receive', 'love', 'support', 'compassion', 'honestly', 'scare', 'reaction', 'thought', 'moment', 'know', 'live', 'fear', 'long', 'heartbroken', 'long_time', 'normal_human', 'forum', 'read', 'normal', 'comfort', 'post', 'lyric', 'attach', 'band', 'call', 'shout', 'metal', 'head', 'struggle', 'free', 'restraint', 'shackle', 'hope', 'read', 'diagnose', 'ocd', 'year', 'find', 'answer', 'ultimately', 'deserve', 'drive', 'thought', 'deep', 'beautiful', 'person', 'disorderly', 'protect', 'thing', 'fear', 'good', 'guy', 'enjoy', 'glorious', 'weather', 'thankyou']   \n",
       "2                                                                                                                                                                                                                                                                                                                                                                                                                                                                                                                                                                                                                                                                                                                                                                                                                                                                                                                                                                                                                                                                                                                                                                                                                                                                                                                                                                                                                                                                                                                                                                                                                                                                                                                                                                                                                                                                                                                                                                                                          ['manage', 'joy', 'happiness', 'struggle', 'lot', 'moment', 'post', 'weird', 'apologise', 'today', 'realise', 'realise', 'normal', 'kind', 'people', 'disgute', 'weird', 'good', 'sounds_silly', 'receive', 'lot', 'present', 'today', 'receive', 'felt_guilty', 'deserve', 'good', 'thing', 'people', 'life', 'fear', 'attract', 'child', 'abuser', 'realise', 'small', 'obsession', 'absolutely', 'disgusting', 'today', 'nap', 'boyfriend', 'feeling', 'rape', 'touch', 'weird', 'accident', 'second', 'play', 'boyfriend', 'sister', 'cat', 'feel', 'sort', 'sick', 'joy', 'think', 'cute', 'example', 'thing', 'feel', 'deviant', 'monster', 'brain', 'body', 'repugnant', 'house', 'abnormal', 'thought', 'feeling', 'normal', 'thing', 'automatically', 'monster', 'thing', 'easy', 'feeling', 'thought', 'thing', 'contrary', 'enjoy', 'scare', 'accept', 'pretend', 'scare', 'anxious', 'worried', 'wrong', 'terrible_person', 'feel', 'sounds_weird', 'feel', 'alive', 'reason', 'survive', 'year', 'happy', 'myslef', 'rotten', 'evil', 'inside', 'happen']   \n",
       "3                                                                                                                                                                                                                                                                                                                                                                                                                                                                                                                                                                                                                                                                                                                                                                                                                                                                                                                                                                                                                                                                                                                                                                                                                                                                                                                                                                                                                                                                                                                                                                                                                                                                                                                                                                                                                                                                                                                                                                                                                                                                                                                                                                                                                                                                                                                                                                                                                           ['identify', 'ocd', 'obsession', 'mind', 'corrupt', 'suffer', 'obsession', 'harm', 'family', 'bad', 'experience', 'life', 'treatment', 'form', 'help', 'return', 'obsess', 'harm', 'inappropriately', 'touch', 'people', 'obsession', 'young_child', 'laugh', 'play', 'sit', 'year', 'cousin', 'visit', 'start', 'negative', 'experience', 'leave', 'panicky', 'experience', 'distressed', 'thesehorrible', 'reminder', 'result', 'avoid', 'play', 'cousin', 'cost', 'dwell', 'childhood', 'feel', 'depressed', 'cousin', 'bring', 'horrible', 'memory', 'thought', 'mind', 'hopeless', 'childhood', 'obsession', 'peace', 'mind', 'bitter', 'twist']   \n",
       "4  ['flavor', 'common', 'theme', 'crime', 'punishment', 'write', 'reason', 'sufferer', 'believe', 'egregious', 'mistake', 'committed_crime', 'terrible', 'forum', 'respond', 'crime', 'exist', 'mistake', 'worry', 'theme', 'thing', 'common', 'sufferer', 'steadfast', 'determination', 'punish', 'perceive', 'transgression', 'time', 'raise', 'issue', 'vehemently', 'stick', 'belief', 'post', 'ocd', 'people', 'theme', 'easily', 'identifiable', 'version', 'lending', 'credence', 'belief', 'current', 'problem', 'people', 'balk', 'think', 'involve', 'situation', 'crime', 'real', 'formation', 'crime', 'mistake', 'appear', 'true', 'case', 'theme', 'person', 'deal', 'real', 'mistake', 'error', 'judgment', 'perceive', 'crime', 'happen', 'real_life', 'play', 'person', 'overly', 'focus', 'crime', 'error', 'detriment', 'ability', 'live', 'quality', 'life', 'crime', 'place', 'case', 'happen', 'year', 'suddenly', 'pop', 'mind', 'ocd_sufferer', 'case', 'sufferer', 'theme', 'obsess', 'happen', 'fixate', 'allege', 'crime', 'shake', 'mind', 'think', 'happen', 'obsession', 'distress', 'sufferer', 'perform', 'compulsion', 'notably', 'ruminate', 'event', 'mind', 'repeatedly', 'notable', 'manifestation', 'theme', 'common', 'belief', 'crime', 'mistake', 'error', 'absolutely_terrible', 'sufferer', 'commonly', 'devastate', 'mistake', 'life', 'change', 'interestingly', 'unanimous', 'verdict', 'responder', 'thread', 'theme', 'crime', 'mistake', 'error', 'appear', 'minor', 'origin', 'worth', 'worry', 'product', 'ocd', 'theme', 'manifest', 'overwhelming_feele', 'guilt', 'ocd', 'involve', 'obsession', 'distress', 'theme', 'majority', 'distress', 'express', 'guilt', 'consquently', 'sufferer', 'theme', 'commonly', 'punish', 'transgression', 'express', 'loathing', 'comment', 'confess', 'transgression', 'love', 'police', 'people', 'situation', 'minor', 'incident', 'dismiss', 'sufferer', 'theme', 'case', 'crime', 'require', 'punishment', 'attempt', 'reassure', 'sufferer', 'bad', 'bad', 'deserve', 'punishment', 'fall', 'deaf', 'ear', 'theme', 'bad', 'enemy', 'obsession', 'thought', 'sufferer', 'wrong', 'fleeting', 'second', 'sufferer', 'hour', 'ruminate', 'subject', 'perform_compulsion', 'search', 'internet', 'story', 'people', 'screw', 'search', 'bad', 'people', 'comparison', 'seeking_reassurance', 'confess', 'interestingly', 'ocd', 'theme', 'reassurance_seeke', 'reverse', 'people', 'reassurance', 'sufferer', 'confirmation', 'bad', 'egregious', 'terrible', 'worth', 'punishment', 'theme', 'result', 'cognitive_distortion', 'exhibit', 'include', 'think', 'evil', 'theme', 'theme', 'deal', 'tenet', 'cbt_cognitive', 'person', 'start', 'positive', 'statement', 'oppose', 'negative', 'thinking', 'statement', 'good', 'person', 'mistake', 'good', 'person', 'behavioral', 'sufferer', 'identify', 'compulsion', 'perform', 'work', 'resist', 'doubt', 'ruminate', 'big', 'theme', 'refusal', 'confess', 'transgression', 'essential', 'stop', 'search', 'internet', 'story']   \n",
       "\n",
       "   compulsion  obs-com  obsession  \\\n",
       "0           0        0          1   \n",
       "1           1        1          1   \n",
       "2           0        0          1   \n",
       "3           0        0          1   \n",
       "4           1        1          1   \n",
       "\n",
       "                                                                                                                                                                                                                                                                                                                                                                                                                                                                                                                                                                                                                                                                                                                                                                                                                                                                                                                                                                                                                                                                                                                                                                                                                                                                                                                                                                                                                                                                                                                                                                                                                                                                                                                                                                                                                                                                                                                                                                                                                                                                                                                                                                                                                                                                                                                                                                                                                                                                                                                                                                                                                                                                                                                                                                                                                                                                                                                                                                                                                                                                                                                                                                                                                                                                                                                                                                                                                                                                                                                                                                                                                                                                                                                                                                                                                                                                                                                                                                                                                                                                                                                                                                                                                                                                                                                                                                                                                                                                                                                                                                                                                                                                                                                                                                                                                                                                                                                                                                                                                                                                                                                                                                                                                                                                                                                                                                                                                                                                                                                                                                                                                                                                                                                                                                                                                                                                                                               enriched_post  \n",
       "0                                                                                                                                                                                                                                                                                                                                                                                                                                                                                                                                                                                                                                                                                                                                                                                                                                                                                                                                                                                                                                                                                                                                                                                                                                                                                                                                                                                                                                                                                                                                                                                                                                                                                                                                                                                                                                                                                                                                                                                                                                                                                                                            Hi -\\nSo I haven't been on here since December since I was recovering. I've been on prozac since I was 18 (now 24) for depression {depression} but I was diagnosed with OCD in January. My psych bumped me up to a higher dosage of prozac - 80mg - which was doing a great job. But I wanted to go off of it because it was making me gain weight and now I'm freaking out!! My OCD revolves around cheating like some of you know...and my most recent \"\"{obsession} {obsession} {aggressive obsession} {contamination obsession} {doubt obsession} obsession {hoarding obsession} {religious obsession} {sexual obsession} {somatic obsession} {symmetry obsession}\"\" (I put quotes around it cuz i question whether its an {obsession} {obsession} {aggressive obsession} {contamination obsession} {doubt obsession} obsession {hoarding obsession} {religious obsession} {sexual obsession} {somatic obsession} {symmetry obsession} or if its real) is that... well let me start from the beginning. I went to my fiancé's friends place and we all had a few drinks and played card games and such. I was with my fiance the whole time except for when I went to the bathroom {bathroom}. I remember everything from the night despite the alcohol in my system. We came home and continued drinking (just me and my fiance) and I eventually blacked out. I ended up having a dream about cheating on my partner with someone that I had seen earlier that night (well not really cheating just taking the guys hands and placing them in an odd place). But it's just that image in my head nothing else. I don't really remember waking up from it to realize it was a dream, I think I stirred but then went right back to sleep (i dont even remember)...I keep thinking what if it wasn't a dream what if it actually happened? My fiance keeps telling me he was with me the whole time and nothing happened but I think about the dream/image all day and it's driving me nuts! I always question whether I really have OCD or not and if the doc just diagnosed me to make me feel better and everything is true and real??? I have an appt with my psych tomorrow and I think I am going to have him write me a script for Zoloft...apparently it is an SSRI that doesn't cause {weight gain} {abnormal weight gain} weight gain {acute weight gain} {chronic weight gain}. SSRI's are the only thing that seem to help me to accept uncertainty, but the thing that bothers me is I've never been able to say yes or no to the thoughts...but when I'm on the medication I'm kind of just like eh whatever and then the thought goes away. When I'm not I have crying spells and can {bathroom}'t concentrate and just obsess and cry all day in the bathroom {bathroom} at work and also I get really bad separation {{anxiety} {anxiety} {intense anxiety} anxiety {anxiety} {castration anxiety} {koro} {performance anxiety}} {{anxiety} {anxiety} {intense anxiety} anxiety {anxiety} {castration anxiety} {koro} {performance anxiety}} {intense {anxiety} {anxiety} {intense anxiety} anxiety {anxiety} {castration anxiety} {koro} {performance anxiety}} {anxiety} {anxiety} {intense anxiety} anxiety {anxiety} {castration anxiety} {koro} {performance anxiety} {{anxiety} {anxiety} {intense anxiety} anxiety {anxiety} {castration anxiety} {koro} {performance anxiety}} {castration {anxiety} {anxiety} {intense anxiety} anxiety {anxiety} {castration anxiety} {koro} {performance anxiety}} {koro} {performance {anxiety} {anxiety} {intense anxiety} anxiety {anxiety} {castration anxiety} {koro} {performance anxiety}} from my fiance. Anyway I'm kind of just rambling just wanted to vent. {Hoffnung} Hope {espoir} {hope} everyone is doing okay.  \n",
       "1                                                                                                                                                                                                                                                                                                                                                                                                                                                                                                                                                            Hi all, {Hoffnung} hope {espoir} {hope} you're all having a wonderful bank holiday whatever it is you're doing😎 I however am taking an introverted approach and just chilling and if you're reading this I thank you for taking your time out to read my first post on this forum and giving it some notice. I've taken some time out to read others experiences relating to OCD and other mental illnesses, knowing that I am not alone and gaining more insight to a really important topic and by reading other people's stories, by doing this I find that I'm learning more about myself as well. Some made me laugh, some made me cry. But thankyou nonetheless. What a great, lovely bunch of people. \\nJust to add a little context, I'm a 21 year old male, recently come to terms with the fact I have OCD. As well as this I also have GAD, major depression {depression} and an eating disorder. \\nNot getting into too much detail about the discovery of my OCD. Although rather impactful, it in some way has helped me knowing that there is a reason I am the way I am. I'm aware to not use the term 'Pure O' as it's not a medically used term and it is exactly the same as the more commonly known OCD subtypes. My compulsions are mainly in the mind. The themes are around harm, pedophilia, relationships, sexuality, existential, incest, depression {depression} and unfortunately the list goes on with various different themes. I've been having these thoughts for what it seems almost all my life. I always thought there was something wrong with me. When I was around 15/16, when I got into a conversation with a friend about mental illnesses. I knew from then on what I had to do, I had to diagnose myself with whatever it is that is wrong with me and I had to then give myself CBT before I get thrown in a loony bin or reported to the police as a danger or even worse, before I could act on them thoughts. For 6 years, that has been my mission. I thought, my intrusive thoughts were a part of me just waiting to burst out at any random moment. I thought that someday I'm going to wake up, something would switch in my brain and I would either black out and forget what I had done or even more frighteningly, actually be completely aware and actually taking pleasure {joy} in said scenarios based around my intrusive thoughts. I thought I had a monster, living inside me, just waiting for its perfect time to attack. I wouldn't know it until I knew it.\\nI have lived (and still live) in complete {fear} {Terror} {la terreur} {terror} {Panik} fear {panic} {panique} {fear} {panic} {moral panic} that I am my thoughts and they are a tremendous flaw in my personality. I guess I'm still yet to convince myself that it is true but as you all know, you have your ups and downs with this ever so painful disorder. It has been difficult to me, as Im coming to terms with having OCD, I am currently piecing together all my symptoms and all the intrusive thoughts I've ever had throughout my life. It's like they've all come back at me and I'm in a bit of a pickle. But, I will be getting help very soon, just waiting to find a specialist in OCD and CBT in the Sheffield area and I will be making steps to make my life manageable again as I seemed to of gone off the rails after some family related issues and the breakdown of my relationship with my amazing ex girlfriend. And I am hopeful, even though I am actually scared. And admitting to being scared is something I've never done, even though scared is what I've been all my life. However, opening up to my loved ones about my thoughts, I have received nothing but love, support and compassion {compassion} and honestly... That's what I was most scared of, their reaction to my thoughts, and in that moment I knew that I had lived in {fear} {Terror} {la terreur} {terror} {Panik} fear {panic} {panique} {fear} {panic} {moral panic} for too long. They're heartbroken I'm going through this and have been for a long time, but only because they see me for what I don't. A normal, human being. Just like everyone else on this forum, or reading the forum. You're all normal, at least to us. And take comfort in that as did I when I came across these posts. \\nThere's a lyric that I've always been attached to, by a band called Meshuggah (shout out to all metal heads on this forum) and I'd love to share it. \\n'The struggle to free myself from restraints, becomes my very shackles.' \\nI {Hoffnung} hope {espoir} {hope} that whoever reads this post, whether youre someone who has been diagnosed with OCD for years or someone who is finding answers. Please know you're not alone in this. And it will and can get better because ultimately you deserve it and you ought to have the drive to go out there and do it. Because you are not your thoughts. You know what you are, just look a little deeper, and you'll see you for the beautiful person you are, because all you're doing and all I'm doing, is our own disorderly way of protecting us from the things we {fear} {Terror} {la terreur} {terror} {Panik} fear {panic} {panique} {fear} {panic} {moral panic} the most. \\nHave a good one guys. Enjoy the glorious weather. Thankyou so much.  \n",
       "2                                                                                                                                                                                                                                                                                                                                                                                                                                                                                                                                                                                                                                                                                                                                                                                                                                                                                                                                                                                                                                                                                                                                                                                                                                                                                                                                                                                                                                                                                                                                                                                                                                                                                                                                                                                                                                                                                                                                                                                                                                                                                                                                                                                                                                                                                                                                                                                                                                                                                                                                                                                                                                                                                                                                                                                                                                                                                                                                                                                                                                                                                                                                                                                                                                                                                                                                                              Hi, \\nFirst, I {Hoffnung} hope {espoir} {hope} everyone managed to have some joy {joy} and {happiness} {joy {joy}} {Gelassenheit} {serenity} {sérénité} {Spaß} {amusement} {divertissement} {Hochgefühl} happiness {elation} {elation} {Euphorie} {euphoria} {l'euphorie} {contentment} {Genuss} {enjoyment} {jouissance} this Christmas, especially those who are struggling a lot at the moment. \\nSecond, this post is going to be weird so I apologise.\\nToday I realised something very important. I realised that I actually am a bad person. When I look around I see normal and kind people; when I look at myself I see something disguting and weird (but not in a good way). This sounds silly but I received lots of presents today (I've never received so many before) and I felt so guilty. I don't deserve good things or people in my life. \\nBesides the fears of being attracted to children and being an abuser, I realised that I have so many other small obsessions. And they are absolutely disgusting. Take today for example. While having a nap with my boyfriend I had the feeling that I raped him by touching him in a weird way (by accident) and not doing anything about it for 30 seconds or so. While playing with my boyfriend's sister's cats I felt some sort of sick joy {joy}; I don't know if that was because I thought they were cute or because of something else. And these are only two examples, but there are so, so, so many other things that make me feel like a deviant and monster. My brain and body are so repugnant because they are the house of some of the most abnormal thoughts and feelings about the most normal things in the world, which automatically makes me a monster. And things would probably be easier if I were sure I didn't like all these feelings and thoughts, but here is the thing: I'm not sure. On the contrary, I think I do like and enjoy them, and I'm just too scared to accept it hence pretend to be scared, anxious and worried about it.\\nI think there is something seriously wrong with me. I'm a terrible person and I can feel it - I know this sounds weird but I can actually feel it. And because of that I don't want to be alive anymore, I really don't. For some reason I know I won't be able to survive like this for more than 10 (or even 5) years. I will never be happy with myslef; I'm way too rotten and evil inside for that to happen. \\nAgain, I apologise. I know this is not the post you would like to see during this festive period.  \n",
       "3                                                                                                                                                                                                                                                                                                                                                                                                                                                                                                                                                                                                                                                                                                                                                                                                                                                                                                                                                                                                                                                                                                                                                                                                                                                                                                                                                                                                                                                                                                                                                                                                                                                                                                                                                                                                                                                                                                                                                                                                                                                                                                                                                                                                                                                                                                                                                                                                                                                                                                                                                                                                                                                                                                                                                                                                                                                                                                                                                                                                                                                                                                                                                                                                                                                                                                                                                                                                                                                                                                                                                                                                                                                                                                                                                                                                                                                                                                              Hello everyone. I could really use your help right now in identifying whether this is another OCD {obsession} {obsession} {aggressive obsession} {contamination obsession} {doubt obsession} obsession {hoarding obsession} {religious obsession} {sexual obsession} {somatic obsession} {symmetry obsession} or just my mind being corrupt\\nI hav suffered before with OCD obsessions about harming my family and it was the worst experience of my life. I did get treatment in the form of CBT and this helped. However, after my A level exams (which were STRESSFULL) my OCD has returned and now I obsess over harm, inappropriately touching people etc.\\nApart from this, a new {obsession} {obsession} {aggressive obsession} {contamination obsession} {doubt obsession} obsession {hoarding obsession} {religious obsession} {sexual obsession} {somatic obsession} {symmetry obsession} has come. Whenever I see any young child laughing or playing or just sitting (usually my 8 year old cousin who visits us) I start to have intrusive thought about negative experiences in my own childhood. My father was an alcoholic which left me with very panicky experiences. I get really distressed by thesehorrible reminders and I do cry.\\nAs a result, I avoid playing with my cousin at all costs so don't have to dwell on my own childhood and feel depressed. However, just seeing my cousin once brings these horrible memories which are followed by on-going thoughts in my mind that tell me\\n'I'm hopeless due to my childhood', 'I will never amount to anything' and 'My childhood made me this way'.\\nPlease help me. I need to know if this is another OCD {obsession} {obsession} {aggressive obsession} {contamination obsession} {doubt obsession} obsession {hoarding obsession} {religious obsession} {sexual obsession} {somatic obsession} {symmetry obsession} so I can find some peace of mind and know its not me being a bitter and twisted idiot.\\nSo is this OCD???  \n",
       "4  Though it comes in many flavors, one of the more common OCD themes we see on the forum is that of (no) crime and punishment. I wrote it that way for a reason. The sufferer believes they made an egregious mistake or have even committed a crime (what they did was so terrible), yet everyone else on the forum responds that no such crime exists or that the mistake is nothing to worry {interest} about. This theme has one thing in common: the sufferer's steadfast determination to punish themselves for the perceived transgression.\\nMany times someone will raise an issue like this on the forum, then vehemently stick to the belief that the situation has nothing to do with OCD. We see it so often here one would have to wonder how it could not be OCD, since the posts appear on an OCD forum. Further, people with this particular theme often have other, more easily identifiable versions of OCD, lending credence to the belief that the current problem is also OCD.\\nThe main reason why people balk at the thought that OCD is involved is that the situation (the crime) was real. OCD apparently didn't have any part in the formation of the crime/mistake. While that appears to be true in most cases of this theme, the person nonetheless is dealing with OCD now. Real mistakes or errors in judgment or perceived crimes can happen in real life. OCD comes into play when the person becomes overly focused on the mistake/crime/error to the detriment of their ability to live a {quality} {relational quality} {bodily quality} {mental quality} {intentionality} {manifestation of a disease} {clinical manifestation of a disease} {preclinical manifestation of a disease} quality {phenotype} {clinical phenotype} {disease phenotype} {configuration} {pathological physical configuration} {syndrome} {recovered from disease} {qualitative sign} {http://www.semanticweb.org/OntoOCD#Impairment} life.\\nSometimes the 'crime' took place recently. In many cases it happened years and years ago but suddenly popped into the mind of the OCD sufferer. In all cases sufferers with this theme become obsessed with what happened. They fixate on the alleged crime and can't shake it from their mind. The thought of what happened ({{compulsion} obsession {compulsion}} {{compulsion} obsession {compulsion}} {aggressive {compulsion} obsession {compulsion}} {contamination {compulsion} obsession {compulsion}} {doubt {compulsion} obsession {compulsion}} {compulsion} obsession {compulsion} {hoarding {compulsion} obsession {compulsion}} {religious {compulsion} obsession {compulsion}} {sexual {compulsion} obsession {compulsion}} {somatic {compulsion} obsession {compulsion}} {symmetry {compulsion} obsession {compulsion}}) causes distress. And the sufferer performs compulsions, most notably ruminating -- going over the event in their mind repeatedly.\\nA notable manifestation of this theme is the very common belief that the crime/mistake/error made in the past is absolutely terrible. Sufferers commonly come {fall} across as being devastated that they made such a mistake, which they believe is life changing. Interestingly, the nearly unanimous verdict of responders to threads about this OCD theme is that the crime/mistake/error appears to be minor in origin and not worth worrying about.\\nOne by-product of this OCD theme and the way it manifests is what can be an overwhelming feeling of {guilt} guilt {guilt} {survivor guilt}. As everyone should know, OCD involves obsessions (intrusive thoughts) that cause distress. With this theme the majority of that distress is expressed as {guilt} guilt {guilt} {survivor guilt}. Consquently, sufferers with this theme commonly believe that they should be/must be punished for their transgression. This is expressed in self loathing comments and an interest {interest} shown in confessing the transgression to loved ones/the police.\\nOther people look at the situations and see they are minor incidents that should be dismissed, but the sufferers of this theme truly believe it is a case of crime and required punishment. Attempts at reassuring sufferers that they did not do bad, that they are not bad and that they deserve no punishment usually fall {fall} on deaf ears.\\nLike with other OCD themes, sufferers of this theme are their own worst enemies. Although the obsessions (thoughts that the sufferer did wrong) can be fleeting and last only seconds, sufferers can spend hours and hours ruminating on the subject. They can perform other compulsions, such as searching the Internet for stories of people who similarly screwed up, searching to find out what truly bad people do as a way of comparison, seeking reassurance and confessing.\\nInterestingly, with this OCD theme, the reassurance seeking can be the reverse of what is normally seen. While some people may ask for reassurance that they aren't a terrible person, some sufferers come {fall} across as if they want confirmation that they are bad and that what they did was egregious, terrible and worth punishment.\\nThis theme can result in cognitive distortions being exhibited, including all-or-nothing-thinking. \"\"I did X, therefore I am evil.\"\"\\nLike any other theme, this theme can be dealt with using the tenets of CBT. From the cognitive side the person can start saying positive statements as opposed to negative, all-or-nothing-thinking statements. (I am a good person. I make mistakes but I am still a good person).\\nOn the behavioral side, it is important that sufferers identify the compulsions they perform and work to resist them. No doubt ruminating is a big one with this theme. Refusal to confess past transgressions is essential, as is stopping searching on the Internet for similar stories.  "
      ]
     },
     "execution_count": 5,
     "metadata": {},
     "output_type": "execute_result"
    }
   ],
   "source": [
    "data.head()"
   ]
  },
  {
   "cell_type": "markdown",
   "metadata": {
    "id": "pWEsQqbtgbrL"
   },
   "source": [
    "# **EDA**"
   ]
  },
  {
   "cell_type": "code",
   "execution_count": 6,
   "metadata": {
    "colab": {
     "base_uri": "https://localhost:8080/"
    },
    "executionInfo": {
     "elapsed": 18,
     "status": "ok",
     "timestamp": 1698079503059,
     "user": {
      "displayName": "mouez yazidi",
      "userId": "00351224737978389278"
     },
     "user_tz": -60
    },
    "id": "4DxfU7Z4ecJV",
    "outputId": "aac465f5-0fe8-4e33-d4c4-7442ae22335c"
   },
   "outputs": [
    {
     "data": {
      "text/plain": [
       "(6544, 8)"
      ]
     },
     "execution_count": 6,
     "metadata": {},
     "output_type": "execute_result"
    }
   ],
   "source": [
    "data.shape"
   ]
  },
  {
   "cell_type": "code",
   "execution_count": 7,
   "metadata": {
    "colab": {
     "base_uri": "https://localhost:8080/"
    },
    "id": "LNCCQ-WWmwqD",
    "outputId": "f520f869-7b5f-46ac-d96d-1f72f8b5e178"
   },
   "outputs": [
    {
     "data": {
      "text/plain": [
       "Unnamed: 0           0\n",
       "post                 0\n",
       "prefLabel            0\n",
       "Document_Keywords    0\n",
       "compulsion           0\n",
       "obs-com              0\n",
       "obsession            0\n",
       "enriched_post        0\n",
       "dtype: int64"
      ]
     },
     "execution_count": 7,
     "metadata": {},
     "output_type": "execute_result"
    }
   ],
   "source": [
    "data.isna().sum()"
   ]
  },
  {
   "cell_type": "code",
   "execution_count": 10,
   "metadata": {
    "executionInfo": {
     "elapsed": 328,
     "status": "ok",
     "timestamp": 1698079512443,
     "user": {
      "displayName": "mouez yazidi",
      "userId": "00351224737978389278"
     },
     "user_tz": -60
    },
    "id": "DSAPld7XSyvV"
   },
   "outputs": [],
   "source": [
    "# defne new column named 'email_length' that contain the length of each email in the dataset\n",
    "data[\"post_length\"]=data[\"enriched_post\"].apply(len)"
   ]
  },
  {
   "cell_type": "code",
   "execution_count": 11,
   "metadata": {
    "colab": {
     "base_uri": "https://localhost:8080/"
    },
    "executionInfo": {
     "elapsed": 16,
     "status": "ok",
     "timestamp": 1698079514031,
     "user": {
      "displayName": "mouez yazidi",
      "userId": "00351224737978389278"
     },
     "user_tz": -60
    },
    "id": "UfAG3ARnbgAe",
    "outputId": "8344babf-741a-4806-d0f2-62f36d5bc4ce"
   },
   "outputs": [
    {
     "name": "stdout",
     "output_type": "stream",
     "text": [
      "the max length post is: 5686270\n",
      "the min length post is: 27\n",
      "the avg length post is: 8715.565709046456\n"
     ]
    }
   ],
   "source": [
    "print('the max length post is:',data['post_length'].max())\n",
    "print('the min length post is:',data['post_length'].min())\n",
    "print('the avg length post is:',data['post_length'].mean())"
   ]
  },
  {
   "cell_type": "code",
   "execution_count": 12,
   "metadata": {
    "colab": {
     "base_uri": "https://localhost:8080/",
     "height": 447
    },
    "executionInfo": {
     "elapsed": 501,
     "status": "ok",
     "timestamp": 1698079516417,
     "user": {
      "displayName": "mouez yazidi",
      "userId": "00351224737978389278"
     },
     "user_tz": -60
    },
    "id": "LCS4dWkibvWM",
    "outputId": "97f9cf3c-48bc-40ee-85d0-0da781a9a3c4"
   },
   "outputs": [
    {
     "data": {
      "text/plain": [
       "<Axes: ylabel='Frequency'>"
      ]
     },
     "execution_count": 12,
     "metadata": {},
     "output_type": "execute_result"
    },
    {
     "data": {
      "image/png": "[encoded data removed]",
      "text/plain": [
       "<Figure size 640x480 with 1 Axes>"
      ]
     },
     "metadata": {},
     "output_type": "display_data"
    }
   ],
   "source": [
    "#display the distribution of email's length\n",
    "data['post_length'].plot.hist()"
   ]
  },
  {
   "cell_type": "code",
   "execution_count": 13,
   "metadata": {
    "executionInfo": {
     "elapsed": 524,
     "status": "ok",
     "timestamp": 1698079519579,
     "user": {
      "displayName": "mouez yazidi",
      "userId": "00351224737978389278"
     },
     "user_tz": -60
    },
    "id": "xf2sz4hRjyRK"
   },
   "outputs": [],
   "source": [
    "# delete all emails that its length not in [2500:10]\n",
    "data = data[data.post_length<2500]\n",
    "data = data[data.post_length>10]"
   ]
  },
  {
   "cell_type": "code",
   "execution_count": 14,
   "metadata": {
    "colab": {
     "base_uri": "https://localhost:8080/",
     "height": 447
    },
    "executionInfo": {
     "elapsed": 364,
     "status": "ok",
     "timestamp": 1698079522408,
     "user": {
      "displayName": "mouez yazidi",
      "userId": "00351224737978389278"
     },
     "user_tz": -60
    },
    "id": "u_g6goGYj8hV",
    "outputId": "823f8a3a-2457-4f95-e03c-257c525117fc"
   },
   "outputs": [
    {
     "data": {
      "text/plain": [
       "<Axes: ylabel='Frequency'>"
      ]
     },
     "execution_count": 14,
     "metadata": {},
     "output_type": "execute_result"
    },
    {
     "data": {
      "image/png": "[encoded data removed]",
      "text/plain": [
       "<Figure size 640x480 with 1 Axes>"
      ]
     },
     "metadata": {},
     "output_type": "display_data"
    }
   ],
   "source": [
    "\n",
    "data['post_length'].plot.hist()"
   ]
  },
  {
   "cell_type": "code",
   "execution_count": 15,
   "metadata": {
    "colab": {
     "base_uri": "https://localhost:8080/"
    },
    "executionInfo": {
     "elapsed": 324,
     "status": "ok",
     "timestamp": 1698079525607,
     "user": {
      "displayName": "mouez yazidi",
      "userId": "00351224737978389278"
     },
     "user_tz": -60
    },
    "id": "fRxrvcXwgsmh",
    "outputId": "c2e54c18-3daa-4d2e-bf8f-8d10a7344460"
   },
   "outputs": [
    {
     "data": {
      "text/plain": [
       "(4374, 9)"
      ]
     },
     "execution_count": 15,
     "metadata": {},
     "output_type": "execute_result"
    }
   ],
   "source": [
    "#shape of new data\n",
    "data.shape"
   ]
  },
  {
   "cell_type": "markdown",
   "metadata": {
    "id": "vaKqv8ZMrAmV"
   },
   "source": [
    "# **Text Pre-Processing**"
   ]
  },
  {
   "cell_type": "markdown",
   "metadata": {
    "id": "ItHJekO3rHNt"
   },
   "source": [
    "### **Text Cleaning**"
   ]
  },
  {
   "cell_type": "code",
   "execution_count": 16,
   "metadata": {
    "executionInfo": {
     "elapsed": 14,
     "status": "ok",
     "timestamp": 1698079538193,
     "user": {
      "displayName": "mouez yazidi",
      "userId": "00351224737978389278"
     },
     "user_tz": -60
    },
    "id": "GEUSnO0-nL6e"
   },
   "outputs": [],
   "source": [
    "#Clean Text\n",
    "def clean_text(data):\n",
    "  # convert catacter to lowercase\n",
    "  data['clean_text']=data['enriched_post'].str.lower()\n",
    "  #remove URLS\n",
    "  data['clean_text'] = data['clean_text'].apply(lambda elem:re.sub(r\"http\\S+\", \"\", elem))\n",
    "  #remove ponctuation\n",
    "  data['clean_text'] = data['clean_text'].apply(lambda elem:re.sub(r\"[^\\w\\s]\", \"\", elem))\n",
    "  #remove\n",
    "  data['clean_text'] = data['clean_text'].apply(lambda elem:re.sub(r'/n',\"\",elem))\n",
    "  #remove degits\n",
    "  data['clean_text'] = data['clean_text'].apply(lambda elem:re.sub(r'\\d+',\"\",elem))\n",
    "  #remove multiple spaces\n",
    "  data['clean_text'] = data['clean_text'].apply(lambda elem:re.sub(r'\\s+',\" \",elem))\n",
    "  #remove single caracter\n",
    "  data['clean_text'] = data['clean_text'].apply(lambda elem:re.sub(r'\\s+[a-zA-Z]\\s+',\" \",elem))\n",
    "  return data"
   ]
  },
  {
   "cell_type": "code",
   "execution_count": 17,
   "metadata": {
    "executionInfo": {
     "elapsed": 1096,
     "status": "ok",
     "timestamp": 1698079541047,
     "user": {
      "displayName": "mouez yazidi",
      "userId": "00351224737978389278"
     },
     "user_tz": -60
    },
    "id": "c2CRaT75nguJ"
   },
   "outputs": [],
   "source": [
    "data = clean_text(data)"
   ]
  },
  {
   "cell_type": "markdown",
   "metadata": {
    "id": "x4caFoP51Ray"
   },
   "source": [
    "### **Remove StopWords**\n",
    "Stop words are a set of commonly used words in a language. Examples of stop words in English are “a”, “the”, “is”, “are” and etc. Stop words are commonly used in Text Mining and Natural Language Processing (NLP) to eliminate words that are so commonly used that they carry very little useful information."
   ]
  },
  {
   "cell_type": "markdown",
   "metadata": {
    "id": "iZl0WvXbFYab"
   },
   "source": [
    "![image.png](data:image/png;base64,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)"
   ]
  },
  {
   "cell_type": "code",
   "execution_count": 18,
   "metadata": {
    "colab": {
     "base_uri": "https://localhost:8080/"
    },
    "executionInfo": {
     "elapsed": 348,
     "status": "ok",
     "timestamp": 1698079550366,
     "user": {
      "displayName": "mouez yazidi",
      "userId": "00351224737978389278"
     },
     "user_tz": -60
    },
    "id": "ruiLzp1219TA",
    "outputId": "824a3bc0-ed39-479c-8f00-ba2299467288"
   },
   "outputs": [
    {
     "name": "stderr",
     "output_type": "stream",
     "text": [
      "[nltk_data] Downloading package stopwords to\n",
      "[nltk_data]     C:\\Users\\pc\\AppData\\Roaming\\nltk_data...\n",
      "[nltk_data]   Package stopwords is already up-to-date!\n"
     ]
    }
   ],
   "source": [
    "nltk.download('stopwords')\n",
    "from nltk.corpus import stopwords"
   ]
  },
  {
   "cell_type": "code",
   "execution_count": 19,
   "metadata": {
    "executionInfo": {
     "elapsed": 345,
     "status": "ok",
     "timestamp": 1698079554097,
     "user": {
      "displayName": "mouez yazidi",
      "userId": "00351224737978389278"
     },
     "user_tz": -60
    },
    "id": "-DeXxh1P2bkE"
   },
   "outputs": [],
   "source": [
    "def remove_stop_words(text):\n",
    "  stopW=stopwords.words('english')\n",
    "  s=\"\"\n",
    "  for i in text.split():\n",
    "    if i not in stopW:\n",
    "        s=s+i+\" \"\n",
    "  return s"
   ]
  },
  {
   "cell_type": "code",
   "execution_count": 20,
   "metadata": {
    "executionInfo": {
     "elapsed": 4170,
     "status": "ok",
     "timestamp": 1698079560774,
     "user": {
      "displayName": "mouez yazidi",
      "userId": "00351224737978389278"
     },
     "user_tz": -60
    },
    "id": "nnuTrYEu4bxe"
   },
   "outputs": [],
   "source": [
    "data['clean_text']=data['clean_text'].apply(lambda x:remove_stop_words(x))"
   ]
  },
  {
   "cell_type": "markdown",
   "metadata": {
    "id": "NUva2fcDu9Qw"
   },
   "source": [
    "### **Stemming and Lemmatization**\n",
    "This can be done using Stemming or Lemmatization.\n",
    "\n",
    "*   **Stemming**: It uses a rule-based system to bring a word to its\n",
    "canonical form. Like removing ‘ing’ from ‘dancing’ to form ‘danc’ or ‘ticked’ to ‘tick’. As you can see, stemming might not produce a dictionary word all the time after normalization.\n",
    "\n",
    "*  **Lemmatizer**: It is a more intelligent system that keeps a dictionary on its side while normalizing words. Hence it will normalize ‘dancing’ to ‘dance’ & not ‘danc’ as done in stemming."
   ]
  },
  {
   "cell_type": "markdown",
   "metadata": {
    "id": "QI8hrUt4vDLr"
   },
   "source": [
    "![1_9QnH8llyI9hEqllyx1TxVQ.png](data:image/png;base64,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)"
   ]
  },
  {
   "cell_type": "code",
   "execution_count": 21,
   "metadata": {
    "executionInfo": {
     "elapsed": 13602,
     "status": "ok",
     "timestamp": 1698079580643,
     "user": {
      "displayName": "mouez yazidi",
      "userId": "00351224737978389278"
     },
     "user_tz": -60
    },
    "id": "--E_2z_mfoTp"
   },
   "outputs": [],
   "source": [
    "def stem(ch):\n",
    "  stem = PorterStemmer()\n",
    "  return \" \".join([stem.stem(i) for i in ch.split()])\n",
    "\n",
    "#apply the stem function to each row in the dataframe\n",
    "data['clean_text'] = data['clean_text'].apply(lambda x:stem(x))"
   ]
  },
  {
   "cell_type": "code",
   "execution_count": 26,
   "metadata": {
    "colab": {
     "base_uri": "https://localhost:8080/"
    },
    "id": "ostreQdBabpy",
    "outputId": "2f9e67dd-2690-4b7a-f8fc-c9fbbae01ed8"
   },
   "outputs": [
    {
     "name": "stdout",
     "output_type": "stream",
     "text": [
      "text before cleaning : Hi, \n",
      "First, I {Hoffnung} hope {espoir} {hope} everyone managed to have some joy {joy} and {happiness} {joy {joy}} {Gelassenheit} {serenity} {sérénité} {Spaß} {amusement} {divertissement} {Hochgefühl} happiness {elation} {elation} {Euphorie} {euphoria} {l'euphorie} {contentment} {Genuss} {enjoyment} {jouissance} this Christmas, especially those who are struggling a lot at the moment. \n",
      "Second, this post is going to be weird so I apologise.\n",
      "Today I realised something very important. I realised that I actually am a bad person. When I look around I see normal and kind people; when I look at myself I see something disguting and weird (but not in a good way). This sounds silly but I received lots of presents today (I've never received so many before) and I felt so guilty. I don't deserve good things or people in my life. \n",
      "Besides the fears of being attracted to children and being an abuser, I realised that I have so many other small obsessions. And they are absolutely disgusting. Take today for example. While having a nap with my boyfriend I had the feeling that I raped him by touching him in a weird way (by accident) and not doing anything about it for 30 seconds or so. While playing with my boyfriend's sister's cats I felt some sort of sick joy {joy}; I don't know if that was because I thought they were cute or because of something else. And these are only two examples, but there are so, so, so many other things that make me feel like a deviant and monster. My brain and body are so repugnant because they are the house of some of the most abnormal thoughts and feelings about the most normal things in the world, which automatically makes me a monster. And things would probably be easier if I were sure I didn't like all these feelings and thoughts, but here is the thing: I'm not sure. On the contrary, I think I do like and enjoy them, and I'm just too scared to accept it hence pretend to be scared, anxious and worried about it.\n",
      "I think there is something seriously wrong with me. I'm a terrible person and I can feel it - I know this sounds weird but I can actually feel it. And because of that I don't want to be alive anymore, I really don't. For some reason I know I won't be able to survive like this for more than 10 (or even 5) years. I will never be happy with myslef; I'm way too rotten and evil inside for that to happen. \n",
      "Again, I apologise. I know this is not the post you would like to see during this festive period.\n",
      "------------------------------------------------------------------------------------------------------------------------------------------------------\n",
      "text after cleaning : hi first hoffnung hope espoir hope everyon manag joy joy happi joy joy gelassenheit seren sérénité spaß amus divertiss hochgefühl happi elat elat euphori euphoria leuphori content genuss enjoy jouissanc christma especi struggl lot moment second post go weird apologis today realis someth import realis actual bad person look around see normal kind peopl look see someth disgut weird good way sound silli receiv lot present today ive never receiv mani felt guilti dont deserv good thing peopl life besid fear attract children abus realis mani small obsess absolut disgust take today exampl nap boyfriend feel rape touch weird way accid anyth second play boyfriend sister cat felt sort sick joy joy dont know thought cute someth els two exampl mani thing make feel like deviant monster brain bodi repugn hous abnorm thought feel normal thing world automat make monster thing would probabl easier sure didnt like feel thought thing im sure contrari think like enjoy im scare accept henc pretend scare anxiou worri think someth serious wrong im terribl person feel know sound weird actual feel dont want aliv anymor realli dont reason know wont abl surviv like even year never happi myslef im way rotten evil insid happen apologis know post would like see festiv period\n"
     ]
    }
   ],
   "source": [
    "print('text before cleaning :',data['enriched_post'].iloc[0])\n",
    "print('-'*150)\n",
    "print('text after cleaning :',data['clean_text'].iloc[0])"
   ]
  },
  {
   "cell_type": "markdown",
   "metadata": {
    "id": "ScJ8Ccus7Slh"
   },
   "source": [
    "# **Feature Extraction ( Word Vector Using Bag Of Word *BOW*)**"
   ]
  },
  {
   "cell_type": "markdown",
   "metadata": {
    "id": "okRGro-bvXjB"
   },
   "source": [
    "![image.png](data:image/png;base64,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)"
   ]
  },
  {
   "cell_type": "code",
   "execution_count": 27,
   "metadata": {
    "executionInfo": {
     "elapsed": 1418,
     "status": "ok",
     "timestamp": 1698079585865,
     "user": {
      "displayName": "mouez yazidi",
      "userId": "00351224737978389278"
     },
     "user_tz": -60
    },
    "id": "nMHIVYLuInlK"
   },
   "outputs": [],
   "source": [
    "\"\"\"\n",
    " CountVectorizer creates a dictionary containing the occurrence number of tokens\n",
    "\"\"\"\n",
    "#convert text to vector (using Count Vectorizer)\n",
    "count_vect = CountVectorizer()\n",
    "X= count_vect.fit_transform(data['clean_text'])\n",
    "Y = np.asarray(data[['compulsion',\t'obs-com','obsession']])"
   ]
  },
  {
   "cell_type": "code",
   "execution_count": 28,
   "metadata": {
    "colab": {
     "base_uri": "https://localhost:8080/"
    },
    "executionInfo": {
     "elapsed": 331,
     "status": "ok",
     "timestamp": 1698079906366,
     "user": {
      "displayName": "mouez yazidi",
      "userId": "00351224737978389278"
     },
     "user_tz": -60
    },
    "id": "xmIakGwrbjmc",
    "outputId": "8726d53a-3171-4024-c0a8-06860c2a9634"
   },
   "outputs": [
    {
     "name": "stdout",
     "output_type": "stream",
     "text": [
      "{'sky': 2, 'blue': 0, 'sun': 3, 'bright': 1}\n"
     ]
    }
   ],
   "source": [
    "from sklearn.feature_extraction.text import CountVectorizer\n",
    "train_set = (\"The sky is blue.\", \"The sun is bright.\")\n",
    "test_set = (\"The sun in the sky is bright.\",\n",
    "    \"We can see the shining sun, the bright sun.\")\n",
    "\n",
    "vectorizer = CountVectorizer(stop_words='english')\n",
    "document_term_matrix = vectorizer.fit_transform(train_set)\n",
    "print(vectorizer.vocabulary_)"
   ]
  },
  {
   "cell_type": "code",
   "execution_count": 29,
   "metadata": {
    "colab": {
     "base_uri": "https://localhost:8080/"
    },
    "id": "mO1O2phS3Dim",
    "outputId": "4177979f-4b7e-4448-cd1d-48f589676c8f"
   },
   "outputs": [
    {
     "name": "stdout",
     "output_type": "stream",
     "text": [
      "(4374, 14665)\n",
      "(4374, 3)\n"
     ]
    }
   ],
   "source": [
    "print(X.shape)\n",
    "print(Y.shape)"
   ]
  },
  {
   "cell_type": "code",
   "execution_count": 30,
   "metadata": {
    "id": "lW8Yita5jczR"
   },
   "outputs": [],
   "source": [
    "#devide the data into train and test\n",
    "X_train, X_test, y_train, y_test = train_test_split(X, Y, test_size=0.2, random_state=0)"
   ]
  },
  {
   "cell_type": "code",
   "execution_count": null,
   "metadata": {
    "id": "rk5l5Bb-d82o"
   },
   "outputs": [],
   "source": []
  },
  {
   "cell_type": "markdown",
   "metadata": {
    "id": "gAAX1Cbz9pZL"
   },
   "source": [
    "# **Model training & evaluation**"
   ]
  },
  {
   "cell_type": "markdown",
   "metadata": {
    "id": "_wB4pVLy9xOy"
   },
   "source": [
    "### **Logistic Regression**"
   ]
  },
  {
   "cell_type": "code",
   "execution_count": 31,
   "metadata": {
    "colab": {
     "base_uri": "https://localhost:8080/"
    },
    "id": "0KsSFRk609f1",
    "outputId": "2af79d10-7346-49a3-e1a9-3ec4490a3dac"
   },
   "outputs": [
    {
     "name": "stderr",
     "output_type": "stream",
     "text": [
      "C:\\Users\\pc\\anaconda3\\lib\\site-packages\\sklearn\\linear_model\\_logistic.py:458: ConvergenceWarning: lbfgs failed to converge (status=1):\n",
      "STOP: TOTAL NO. of ITERATIONS REACHED LIMIT.\n",
      "\n",
      "Increase the number of iterations (max_iter) or scale the data as shown in:\n",
      "    https://scikit-learn.org/stable/modules/preprocessing.html\n",
      "Please also refer to the documentation for alternative solver options:\n",
      "    https://scikit-learn.org/stable/modules/linear_model.html#logistic-regression\n",
      "  n_iter_i = _check_optimize_result(\n",
      "C:\\Users\\pc\\anaconda3\\lib\\site-packages\\sklearn\\linear_model\\_logistic.py:458: ConvergenceWarning: lbfgs failed to converge (status=1):\n",
      "STOP: TOTAL NO. of ITERATIONS REACHED LIMIT.\n",
      "\n",
      "Increase the number of iterations (max_iter) or scale the data as shown in:\n",
      "    https://scikit-learn.org/stable/modules/preprocessing.html\n",
      "Please also refer to the documentation for alternative solver options:\n",
      "    https://scikit-learn.org/stable/modules/linear_model.html#logistic-regression\n",
      "  n_iter_i = _check_optimize_result(\n",
      "C:\\Users\\pc\\anaconda3\\lib\\site-packages\\sklearn\\linear_model\\_logistic.py:458: ConvergenceWarning: lbfgs failed to converge (status=1):\n",
      "STOP: TOTAL NO. of ITERATIONS REACHED LIMIT.\n",
      "\n",
      "Increase the number of iterations (max_iter) or scale the data as shown in:\n",
      "    https://scikit-learn.org/stable/modules/preprocessing.html\n",
      "Please also refer to the documentation for alternative solver options:\n",
      "    https://scikit-learn.org/stable/modules/linear_model.html#logistic-regression\n",
      "  n_iter_i = _check_optimize_result(\n"
     ]
    }
   ],
   "source": [
    "#initialize the Naive Bayes model\n",
    "from sklearn.multioutput import MultiOutputClassifier\n",
    "from sklearn.linear_model import LogisticRegression\n",
    "\n",
    "clf_LR = MultiOutputClassifier(LogisticRegression()).fit(X_train, y_train)"
   ]
  },
  {
   "cell_type": "code",
   "execution_count": 32,
   "metadata": {
    "id": "1tibZI50QuEz"
   },
   "outputs": [],
   "source": [
    "prediction_LR = clf_LR.predict(X_test)"
   ]
  },
  {
   "cell_type": "code",
   "execution_count": 33,
   "metadata": {
    "colab": {
     "base_uri": "https://localhost:8080/"
    },
    "id": "GosnCWMI1qd6",
    "outputId": "3e375ea2-6f5e-40fc-c2d7-b5254d9d678a"
   },
   "outputs": [
    {
     "name": "stdout",
     "output_type": "stream",
     "text": [
      "F1 Score:  0.74\n"
     ]
    }
   ],
   "source": [
    "#model accuracy\n",
    "from sklearn.metrics import f1_score\n",
    "score_LR = f1_score(y_test, prediction_LR,average='macro')\n",
    "print('F1 Score: ', round(score_LR,2))"
   ]
  },
  {
   "cell_type": "code",
   "execution_count": 34,
   "metadata": {
    "colab": {
     "base_uri": "https://localhost:8080/"
    },
    "id": "BfJPhwBKA-Pr",
    "outputId": "f5f7909a-88f9-4800-f9a8-fed08787d667"
   },
   "outputs": [
    {
     "name": "stdout",
     "output_type": "stream",
     "text": [
      "Hamming Loss:  0.06\n"
     ]
    }
   ],
   "source": [
    "\"\"\"\n",
    "Hamming Loss is calculated by taking a fraction of the wrong prediction with the total number of labels.\n",
    "Because Hamming Loss is a loss function, the lower the score is,\n",
    "the better (0 indicates no wrong prediction and 1 indicates all the prediction is wrong).\n",
    "\"\"\"\n",
    "from sklearn.metrics import hamming_loss\n",
    "loss_LR = hamming_loss(y_test, prediction_LR)\n",
    "print('Hamming Loss: ', round(loss_LR,2))"
   ]
  },
  {
   "cell_type": "code",
   "execution_count": 35,
   "metadata": {
    "id": "2px8pKLmQuE0",
    "outputId": "649c0af0-6277-4d49-ec0b-5748321b10f3"
   },
   "outputs": [
    {
     "name": "stdout",
     "output_type": "stream",
     "text": [
      "              precision    recall  f1-score   support\n",
      "\n",
      "  compulsion       0.99      0.96      0.98       298\n",
      "     obs-com       0.43      0.24      0.31        84\n",
      "   obsession       0.95      0.95      0.95       661\n",
      "\n",
      "   micro avg       0.94      0.90      0.92      1043\n",
      "   macro avg       0.79      0.72      0.74      1043\n",
      "weighted avg       0.92      0.90      0.91      1043\n",
      " samples avg       0.95      0.95      0.94      1043\n",
      "\n"
     ]
    },
    {
     "name": "stderr",
     "output_type": "stream",
     "text": [
      "C:\\Users\\pc\\anaconda3\\lib\\site-packages\\sklearn\\metrics\\_classification.py:1344: UndefinedMetricWarning: Precision and F-score are ill-defined and being set to 0.0 in samples with no predicted labels. Use `zero_division` parameter to control this behavior.\n",
      "  _warn_prf(average, modifier, msg_start, len(result))\n"
     ]
    }
   ],
   "source": [
    "#classification report\n",
    "label_names = ['compulsion','obs-com','obsession']\n",
    "print(classification_report(y_test, prediction_LR,target_names=label_names))"
   ]
  },
  {
   "cell_type": "markdown",
   "metadata": {
    "id": "BFbROQCQ93oq"
   },
   "source": [
    "### **Random Forest Classifier**"
   ]
  },
  {
   "cell_type": "code",
   "execution_count": 36,
   "metadata": {
    "colab": {
     "base_uri": "https://localhost:8080/"
    },
    "id": "HLm_1B2r3Eud",
    "outputId": "0edde89b-16b1-4708-c232-ffae84a6398d"
   },
   "outputs": [
    {
     "data": {
      "text/html": [
       "<style>#sk-container-id-1 {color: black;background-color: white;}#sk-container-id-1 pre{padding: 0;}#sk-container-id-1 div.sk-toggleable {background-color: white;}#sk-container-id-1 label.sk-toggleable__label {cursor: pointer;display: block;width: 100%;margin-bottom: 0;padding: 0.3em;box-sizing: border-box;text-align: center;}#sk-container-id-1 label.sk-toggleable__label-arrow:before {content: \"▸\";float: left;margin-right: 0.25em;color: #696969;}#sk-container-id-1 label.sk-toggleable__label-arrow:hover:before {color: black;}#sk-container-id-1 div.sk-estimator:hover label.sk-toggleable__label-arrow:before {color: black;}#sk-container-id-1 div.sk-toggleable__content {max-height: 0;max-width: 0;overflow: hidden;text-align: left;background-color: #f0f8ff;}#sk-container-id-1 div.sk-toggleable__content pre {margin: 0.2em;color: black;border-radius: 0.25em;background-color: #f0f8ff;}#sk-container-id-1 input.sk-toggleable__control:checked~div.sk-toggleable__content {max-height: 200px;max-width: 100%;overflow: auto;}#sk-container-id-1 input.sk-toggleable__control:checked~label.sk-toggleable__label-arrow:before {content: \"▾\";}#sk-container-id-1 div.sk-estimator input.sk-toggleable__control:checked~label.sk-toggleable__label {background-color: #d4ebff;}#sk-container-id-1 div.sk-label input.sk-toggleable__control:checked~label.sk-toggleable__label {background-color: #d4ebff;}#sk-container-id-1 input.sk-hidden--visually {border: 0;clip: rect(1px 1px 1px 1px);clip: rect(1px, 1px, 1px, 1px);height: 1px;margin: -1px;overflow: hidden;padding: 0;position: absolute;width: 1px;}#sk-container-id-1 div.sk-estimator {font-family: monospace;background-color: #f0f8ff;border: 1px dotted black;border-radius: 0.25em;box-sizing: border-box;margin-bottom: 0.5em;}#sk-container-id-1 div.sk-estimator:hover {background-color: #d4ebff;}#sk-container-id-1 div.sk-parallel-item::after {content: \"\";width: 100%;border-bottom: 1px solid gray;flex-grow: 1;}#sk-container-id-1 div.sk-label:hover label.sk-toggleable__label {background-color: #d4ebff;}#sk-container-id-1 div.sk-serial::before {content: \"\";position: absolute;border-left: 1px solid gray;box-sizing: border-box;top: 0;bottom: 0;left: 50%;z-index: 0;}#sk-container-id-1 div.sk-serial {display: flex;flex-direction: column;align-items: center;background-color: white;padding-right: 0.2em;padding-left: 0.2em;position: relative;}#sk-container-id-1 div.sk-item {position: relative;z-index: 1;}#sk-container-id-1 div.sk-parallel {display: flex;align-items: stretch;justify-content: center;background-color: white;position: relative;}#sk-container-id-1 div.sk-item::before, #sk-container-id-1 div.sk-parallel-item::before {content: \"\";position: absolute;border-left: 1px solid gray;box-sizing: border-box;top: 0;bottom: 0;left: 50%;z-index: -1;}#sk-container-id-1 div.sk-parallel-item {display: flex;flex-direction: column;z-index: 1;position: relative;background-color: white;}#sk-container-id-1 div.sk-parallel-item:first-child::after {align-self: flex-end;width: 50%;}#sk-container-id-1 div.sk-parallel-item:last-child::after {align-self: flex-start;width: 50%;}#sk-container-id-1 div.sk-parallel-item:only-child::after {width: 0;}#sk-container-id-1 div.sk-dashed-wrapped {border: 1px dashed gray;margin: 0 0.4em 0.5em 0.4em;box-sizing: border-box;padding-bottom: 0.4em;background-color: white;}#sk-container-id-1 div.sk-label label {font-family: monospace;font-weight: bold;display: inline-block;line-height: 1.2em;}#sk-container-id-1 div.sk-label-container {text-align: center;}#sk-container-id-1 div.sk-container {/* jupyter's `normalize.less` sets `[hidden] { display: none; }` but bootstrap.min.css set `[hidden] { display: none !important; }` so we also need the `!important` here to be able to override the default hidden behavior on the sphinx rendered scikit-learn.org. See: https://github.com/scikit-learn/scikit-learn/issues/21755 */display: inline-block !important;position: relative;}#sk-container-id-1 div.sk-text-repr-fallback {display: none;}</style><div id=\"sk-container-id-1\" class=\"sk-top-container\"><div class=\"sk-text-repr-fallback\"><pre>MultiOutputClassifier(estimator=RandomForestClassifier())</pre><b>In a Jupyter environment, please rerun this cell to show the HTML representation or trust the notebook. <br />On GitHub, the HTML representation is unable to render, please try loading this page with nbviewer.org.</b></div><div class=\"sk-container\" hidden><div class=\"sk-item sk-dashed-wrapped\"><div class=\"sk-label-container\"><div class=\"sk-label sk-toggleable\"><input class=\"sk-toggleable__control sk-hidden--visually\" id=\"sk-estimator-id-1\" type=\"checkbox\" ><label for=\"sk-estimator-id-1\" class=\"sk-toggleable__label sk-toggleable__label-arrow\">MultiOutputClassifier</label><div class=\"sk-toggleable__content\"><pre>MultiOutputClassifier(estimator=RandomForestClassifier())</pre></div></div></div><div class=\"sk-parallel\"><div class=\"sk-parallel-item\"><div class=\"sk-item\"><div class=\"sk-label-container\"><div class=\"sk-label sk-toggleable\"><input class=\"sk-toggleable__control sk-hidden--visually\" id=\"sk-estimator-id-2\" type=\"checkbox\" ><label for=\"sk-estimator-id-2\" class=\"sk-toggleable__label sk-toggleable__label-arrow\">estimator: RandomForestClassifier</label><div class=\"sk-toggleable__content\"><pre>RandomForestClassifier()</pre></div></div></div><div class=\"sk-serial\"><div class=\"sk-item\"><div class=\"sk-estimator sk-toggleable\"><input class=\"sk-toggleable__control sk-hidden--visually\" id=\"sk-estimator-id-3\" type=\"checkbox\" ><label for=\"sk-estimator-id-3\" class=\"sk-toggleable__label sk-toggleable__label-arrow\">RandomForestClassifier</label><div class=\"sk-toggleable__content\"><pre>RandomForestClassifier()</pre></div></div></div></div></div></div></div></div></div></div>"
      ],
      "text/plain": [
       "MultiOutputClassifier(estimator=RandomForestClassifier())"
      ]
     },
     "execution_count": 36,
     "metadata": {},
     "output_type": "execute_result"
    }
   ],
   "source": [
    "#intialize the Random Forest Model\n",
    "clf_RF = MultiOutputClassifier(RandomForestClassifier()).fit(X_train, y_train)\n",
    "#train the model\n",
    "clf_RF.fit(X_train,y_train)"
   ]
  },
  {
   "cell_type": "code",
   "execution_count": 37,
   "metadata": {
    "id": "7Aavlg7B-EUI"
   },
   "outputs": [],
   "source": [
    "prediction_RF= clf_RF.predict(X_test)"
   ]
  },
  {
   "cell_type": "code",
   "execution_count": 38,
   "metadata": {
    "colab": {
     "base_uri": "https://localhost:8080/"
    },
    "id": "nBLNi8Hu_iJy",
    "outputId": "ccd2b6e9-c485-4893-acc1-6dbb7a603992"
   },
   "outputs": [
    {
     "name": "stdout",
     "output_type": "stream",
     "text": [
      "F1 Score:  0.63\n"
     ]
    }
   ],
   "source": [
    "#model accuracy\n",
    "from sklearn.metrics import f1_score\n",
    "score_RF = f1_score(y_test, prediction_RF,average='macro')\n",
    "print('F1 Score: ', round(score_RF,2))"
   ]
  },
  {
   "cell_type": "code",
   "execution_count": 39,
   "metadata": {
    "id": "8YXcIKeYQuE2",
    "outputId": "11324a63-d8c5-49ac-9fe3-173c4c079f27"
   },
   "outputs": [
    {
     "name": "stdout",
     "output_type": "stream",
     "text": [
      "Hamming Loss:  0.07\n"
     ]
    }
   ],
   "source": [
    "from sklearn.metrics import hamming_loss\n",
    "loss_RF = hamming_loss(y_test, prediction_RF)\n",
    "print('Hamming Loss: ', round(loss_RF,2))"
   ]
  },
  {
   "cell_type": "code",
   "execution_count": 40,
   "metadata": {
    "id": "JYD6j8MnQuE2",
    "outputId": "bd24556d-b937-4a9a-d54e-58f02b024ca1"
   },
   "outputs": [
    {
     "name": "stdout",
     "output_type": "stream",
     "text": [
      "              precision    recall  f1-score   support\n",
      "\n",
      "  compulsion       0.99      0.84      0.91       298\n",
      "     obs-com       1.00      0.01      0.02        84\n",
      "   obsession       0.92      0.99      0.96       661\n",
      "\n",
      "   micro avg       0.94      0.87      0.90      1043\n",
      "   macro avg       0.97      0.61      0.63      1043\n",
      "weighted avg       0.95      0.87      0.87      1043\n",
      " samples avg       0.96      0.94      0.94      1043\n",
      "\n"
     ]
    }
   ],
   "source": [
    "#classification report\n",
    "label_names = ['compulsion','obs-com','obsession']\n",
    "print(classification_report(y_test, prediction_RF,target_names=label_names))"
   ]
  },
  {
   "cell_type": "markdown",
   "metadata": {
    "id": "wZ6-YAY_QuE3"
   },
   "source": [
    "# **Naive Bayes**"
   ]
  },
  {
   "cell_type": "code",
   "execution_count": 41,
   "metadata": {
    "id": "hmxCtdfxQuE3",
    "outputId": "3d616393-2c7b-4302-9d70-fcae4df0c090"
   },
   "outputs": [
    {
     "data": {
      "text/html": [
       "<style>#sk-container-id-2 {color: black;background-color: white;}#sk-container-id-2 pre{padding: 0;}#sk-container-id-2 div.sk-toggleable {background-color: white;}#sk-container-id-2 label.sk-toggleable__label {cursor: pointer;display: block;width: 100%;margin-bottom: 0;padding: 0.3em;box-sizing: border-box;text-align: center;}#sk-container-id-2 label.sk-toggleable__label-arrow:before {content: \"▸\";float: left;margin-right: 0.25em;color: #696969;}#sk-container-id-2 label.sk-toggleable__label-arrow:hover:before {color: black;}#sk-container-id-2 div.sk-estimator:hover label.sk-toggleable__label-arrow:before {color: black;}#sk-container-id-2 div.sk-toggleable__content {max-height: 0;max-width: 0;overflow: hidden;text-align: left;background-color: #f0f8ff;}#sk-container-id-2 div.sk-toggleable__content pre {margin: 0.2em;color: black;border-radius: 0.25em;background-color: #f0f8ff;}#sk-container-id-2 input.sk-toggleable__control:checked~div.sk-toggleable__content {max-height: 200px;max-width: 100%;overflow: auto;}#sk-container-id-2 input.sk-toggleable__control:checked~label.sk-toggleable__label-arrow:before {content: \"▾\";}#sk-container-id-2 div.sk-estimator input.sk-toggleable__control:checked~label.sk-toggleable__label {background-color: #d4ebff;}#sk-container-id-2 div.sk-label input.sk-toggleable__control:checked~label.sk-toggleable__label {background-color: #d4ebff;}#sk-container-id-2 input.sk-hidden--visually {border: 0;clip: rect(1px 1px 1px 1px);clip: rect(1px, 1px, 1px, 1px);height: 1px;margin: -1px;overflow: hidden;padding: 0;position: absolute;width: 1px;}#sk-container-id-2 div.sk-estimator {font-family: monospace;background-color: #f0f8ff;border: 1px dotted black;border-radius: 0.25em;box-sizing: border-box;margin-bottom: 0.5em;}#sk-container-id-2 div.sk-estimator:hover {background-color: #d4ebff;}#sk-container-id-2 div.sk-parallel-item::after {content: \"\";width: 100%;border-bottom: 1px solid gray;flex-grow: 1;}#sk-container-id-2 div.sk-label:hover label.sk-toggleable__label {background-color: #d4ebff;}#sk-container-id-2 div.sk-serial::before {content: \"\";position: absolute;border-left: 1px solid gray;box-sizing: border-box;top: 0;bottom: 0;left: 50%;z-index: 0;}#sk-container-id-2 div.sk-serial {display: flex;flex-direction: column;align-items: center;background-color: white;padding-right: 0.2em;padding-left: 0.2em;position: relative;}#sk-container-id-2 div.sk-item {position: relative;z-index: 1;}#sk-container-id-2 div.sk-parallel {display: flex;align-items: stretch;justify-content: center;background-color: white;position: relative;}#sk-container-id-2 div.sk-item::before, #sk-container-id-2 div.sk-parallel-item::before {content: \"\";position: absolute;border-left: 1px solid gray;box-sizing: border-box;top: 0;bottom: 0;left: 50%;z-index: -1;}#sk-container-id-2 div.sk-parallel-item {display: flex;flex-direction: column;z-index: 1;position: relative;background-color: white;}#sk-container-id-2 div.sk-parallel-item:first-child::after {align-self: flex-end;width: 50%;}#sk-container-id-2 div.sk-parallel-item:last-child::after {align-self: flex-start;width: 50%;}#sk-container-id-2 div.sk-parallel-item:only-child::after {width: 0;}#sk-container-id-2 div.sk-dashed-wrapped {border: 1px dashed gray;margin: 0 0.4em 0.5em 0.4em;box-sizing: border-box;padding-bottom: 0.4em;background-color: white;}#sk-container-id-2 div.sk-label label {font-family: monospace;font-weight: bold;display: inline-block;line-height: 1.2em;}#sk-container-id-2 div.sk-label-container {text-align: center;}#sk-container-id-2 div.sk-container {/* jupyter's `normalize.less` sets `[hidden] { display: none; }` but bootstrap.min.css set `[hidden] { display: none !important; }` so we also need the `!important` here to be able to override the default hidden behavior on the sphinx rendered scikit-learn.org. See: https://github.com/scikit-learn/scikit-learn/issues/21755 */display: inline-block !important;position: relative;}#sk-container-id-2 div.sk-text-repr-fallback {display: none;}</style><div id=\"sk-container-id-2\" class=\"sk-top-container\"><div class=\"sk-text-repr-fallback\"><pre>MultiOutputClassifier(estimator=MultinomialNB())</pre><b>In a Jupyter environment, please rerun this cell to show the HTML representation or trust the notebook. <br />On GitHub, the HTML representation is unable to render, please try loading this page with nbviewer.org.</b></div><div class=\"sk-container\" hidden><div class=\"sk-item sk-dashed-wrapped\"><div class=\"sk-label-container\"><div class=\"sk-label sk-toggleable\"><input class=\"sk-toggleable__control sk-hidden--visually\" id=\"sk-estimator-id-4\" type=\"checkbox\" ><label for=\"sk-estimator-id-4\" class=\"sk-toggleable__label sk-toggleable__label-arrow\">MultiOutputClassifier</label><div class=\"sk-toggleable__content\"><pre>MultiOutputClassifier(estimator=MultinomialNB())</pre></div></div></div><div class=\"sk-parallel\"><div class=\"sk-parallel-item\"><div class=\"sk-item\"><div class=\"sk-label-container\"><div class=\"sk-label sk-toggleable\"><input class=\"sk-toggleable__control sk-hidden--visually\" id=\"sk-estimator-id-5\" type=\"checkbox\" ><label for=\"sk-estimator-id-5\" class=\"sk-toggleable__label sk-toggleable__label-arrow\">estimator: MultinomialNB</label><div class=\"sk-toggleable__content\"><pre>MultinomialNB()</pre></div></div></div><div class=\"sk-serial\"><div class=\"sk-item\"><div class=\"sk-estimator sk-toggleable\"><input class=\"sk-toggleable__control sk-hidden--visually\" id=\"sk-estimator-id-6\" type=\"checkbox\" ><label for=\"sk-estimator-id-6\" class=\"sk-toggleable__label sk-toggleable__label-arrow\">MultinomialNB</label><div class=\"sk-toggleable__content\"><pre>MultinomialNB()</pre></div></div></div></div></div></div></div></div></div></div>"
      ],
      "text/plain": [
       "MultiOutputClassifier(estimator=MultinomialNB())"
      ]
     },
     "execution_count": 41,
     "metadata": {},
     "output_type": "execute_result"
    }
   ],
   "source": [
    "#intialize the Random Forest Model\n",
    "clf_NB = MultiOutputClassifier(MultinomialNB()).fit(X_train, y_train)\n",
    "#train the model\n",
    "clf_NB.fit(X_train,y_train)"
   ]
  },
  {
   "cell_type": "code",
   "execution_count": 42,
   "metadata": {
    "id": "sW-qzaZOQuE3"
   },
   "outputs": [],
   "source": [
    "prediction_NB= clf_NB.predict(X_test)"
   ]
  },
  {
   "cell_type": "code",
   "execution_count": 43,
   "metadata": {
    "id": "pDqHztJKQuE4",
    "outputId": "f3990ff4-3830-4367-cc59-216a8a86d0e3"
   },
   "outputs": [
    {
     "name": "stdout",
     "output_type": "stream",
     "text": [
      "F1 Score:  0.6\n"
     ]
    }
   ],
   "source": [
    "#model accuracy\n",
    "from sklearn.metrics import f1_score\n",
    "score_NB = f1_score(y_test, prediction_NB,average='macro')\n",
    "print('F1 Score: ', round(score_NB,2))"
   ]
  },
  {
   "cell_type": "code",
   "execution_count": 44,
   "metadata": {
    "id": "DEvk1p8oQuE4",
    "outputId": "82bb9d45-d97f-4dbf-b0c3-eea968b9240d"
   },
   "outputs": [
    {
     "name": "stdout",
     "output_type": "stream",
     "text": [
      "Hamming Loss:  0.16\n"
     ]
    }
   ],
   "source": [
    "from sklearn.metrics import hamming_loss\n",
    "loss_NB = round(hamming_loss(y_test, prediction_NB),2)\n",
    "print('Hamming Loss: ', loss_NB )"
   ]
  },
  {
   "cell_type": "code",
   "execution_count": 45,
   "metadata": {
    "id": "zbjE7ldLQuE4",
    "outputId": "f1fdfd22-6c68-4ab3-9042-cad360a3dbed"
   },
   "outputs": [
    {
     "name": "stdout",
     "output_type": "stream",
     "text": [
      "              precision    recall  f1-score   support\n",
      "\n",
      "  compulsion       0.72      0.82      0.77       298\n",
      "     obs-com       0.26      0.12      0.16        84\n",
      "   obsession       0.87      0.88      0.88       661\n",
      "\n",
      "   micro avg       0.80      0.80      0.80      1043\n",
      "   macro avg       0.61      0.61      0.60      1043\n",
      "weighted avg       0.78      0.80      0.79      1043\n",
      " samples avg       0.83      0.86      0.83      1043\n",
      "\n"
     ]
    },
    {
     "name": "stderr",
     "output_type": "stream",
     "text": [
      "C:\\Users\\pc\\anaconda3\\lib\\site-packages\\sklearn\\metrics\\_classification.py:1344: UndefinedMetricWarning: Precision and F-score are ill-defined and being set to 0.0 in samples with no predicted labels. Use `zero_division` parameter to control this behavior.\n",
      "  _warn_prf(average, modifier, msg_start, len(result))\n"
     ]
    }
   ],
   "source": [
    "#classification report\n",
    "label_names = ['compulsion','obs-com','obsession']\n",
    "print(classification_report(y_test, prediction_NB,target_names=label_names))"
   ]
  },
  {
   "cell_type": "markdown",
   "metadata": {
    "id": "8ZQTYMmnQuE5"
   },
   "source": [
    "### **SVM**"
   ]
  },
  {
   "cell_type": "code",
   "execution_count": 46,
   "metadata": {
    "id": "v_MBMiBrQuE5",
    "outputId": "86d07cf6-9c24-4007-f780-51570f274974"
   },
   "outputs": [
    {
     "data": {
      "text/html": [
       "<style>#sk-container-id-3 {color: black;background-color: white;}#sk-container-id-3 pre{padding: 0;}#sk-container-id-3 div.sk-toggleable {background-color: white;}#sk-container-id-3 label.sk-toggleable__label {cursor: pointer;display: block;width: 100%;margin-bottom: 0;padding: 0.3em;box-sizing: border-box;text-align: center;}#sk-container-id-3 label.sk-toggleable__label-arrow:before {content: \"▸\";float: left;margin-right: 0.25em;color: #696969;}#sk-container-id-3 label.sk-toggleable__label-arrow:hover:before {color: black;}#sk-container-id-3 div.sk-estimator:hover label.sk-toggleable__label-arrow:before {color: black;}#sk-container-id-3 div.sk-toggleable__content {max-height: 0;max-width: 0;overflow: hidden;text-align: left;background-color: #f0f8ff;}#sk-container-id-3 div.sk-toggleable__content pre {margin: 0.2em;color: black;border-radius: 0.25em;background-color: #f0f8ff;}#sk-container-id-3 input.sk-toggleable__control:checked~div.sk-toggleable__content {max-height: 200px;max-width: 100%;overflow: auto;}#sk-container-id-3 input.sk-toggleable__control:checked~label.sk-toggleable__label-arrow:before {content: \"▾\";}#sk-container-id-3 div.sk-estimator input.sk-toggleable__control:checked~label.sk-toggleable__label {background-color: #d4ebff;}#sk-container-id-3 div.sk-label input.sk-toggleable__control:checked~label.sk-toggleable__label {background-color: #d4ebff;}#sk-container-id-3 input.sk-hidden--visually {border: 0;clip: rect(1px 1px 1px 1px);clip: rect(1px, 1px, 1px, 1px);height: 1px;margin: -1px;overflow: hidden;padding: 0;position: absolute;width: 1px;}#sk-container-id-3 div.sk-estimator {font-family: monospace;background-color: #f0f8ff;border: 1px dotted black;border-radius: 0.25em;box-sizing: border-box;margin-bottom: 0.5em;}#sk-container-id-3 div.sk-estimator:hover {background-color: #d4ebff;}#sk-container-id-3 div.sk-parallel-item::after {content: \"\";width: 100%;border-bottom: 1px solid gray;flex-grow: 1;}#sk-container-id-3 div.sk-label:hover label.sk-toggleable__label {background-color: #d4ebff;}#sk-container-id-3 div.sk-serial::before {content: \"\";position: absolute;border-left: 1px solid gray;box-sizing: border-box;top: 0;bottom: 0;left: 50%;z-index: 0;}#sk-container-id-3 div.sk-serial {display: flex;flex-direction: column;align-items: center;background-color: white;padding-right: 0.2em;padding-left: 0.2em;position: relative;}#sk-container-id-3 div.sk-item {position: relative;z-index: 1;}#sk-container-id-3 div.sk-parallel {display: flex;align-items: stretch;justify-content: center;background-color: white;position: relative;}#sk-container-id-3 div.sk-item::before, #sk-container-id-3 div.sk-parallel-item::before {content: \"\";position: absolute;border-left: 1px solid gray;box-sizing: border-box;top: 0;bottom: 0;left: 50%;z-index: -1;}#sk-container-id-3 div.sk-parallel-item {display: flex;flex-direction: column;z-index: 1;position: relative;background-color: white;}#sk-container-id-3 div.sk-parallel-item:first-child::after {align-self: flex-end;width: 50%;}#sk-container-id-3 div.sk-parallel-item:last-child::after {align-self: flex-start;width: 50%;}#sk-container-id-3 div.sk-parallel-item:only-child::after {width: 0;}#sk-container-id-3 div.sk-dashed-wrapped {border: 1px dashed gray;margin: 0 0.4em 0.5em 0.4em;box-sizing: border-box;padding-bottom: 0.4em;background-color: white;}#sk-container-id-3 div.sk-label label {font-family: monospace;font-weight: bold;display: inline-block;line-height: 1.2em;}#sk-container-id-3 div.sk-label-container {text-align: center;}#sk-container-id-3 div.sk-container {/* jupyter's `normalize.less` sets `[hidden] { display: none; }` but bootstrap.min.css set `[hidden] { display: none !important; }` so we also need the `!important` here to be able to override the default hidden behavior on the sphinx rendered scikit-learn.org. See: https://github.com/scikit-learn/scikit-learn/issues/21755 */display: inline-block !important;position: relative;}#sk-container-id-3 div.sk-text-repr-fallback {display: none;}</style><div id=\"sk-container-id-3\" class=\"sk-top-container\"><div class=\"sk-text-repr-fallback\"><pre>MultiOutputClassifier(estimator=SVC())</pre><b>In a Jupyter environment, please rerun this cell to show the HTML representation or trust the notebook. <br />On GitHub, the HTML representation is unable to render, please try loading this page with nbviewer.org.</b></div><div class=\"sk-container\" hidden><div class=\"sk-item sk-dashed-wrapped\"><div class=\"sk-label-container\"><div class=\"sk-label sk-toggleable\"><input class=\"sk-toggleable__control sk-hidden--visually\" id=\"sk-estimator-id-7\" type=\"checkbox\" ><label for=\"sk-estimator-id-7\" class=\"sk-toggleable__label sk-toggleable__label-arrow\">MultiOutputClassifier</label><div class=\"sk-toggleable__content\"><pre>MultiOutputClassifier(estimator=SVC())</pre></div></div></div><div class=\"sk-parallel\"><div class=\"sk-parallel-item\"><div class=\"sk-item\"><div class=\"sk-label-container\"><div class=\"sk-label sk-toggleable\"><input class=\"sk-toggleable__control sk-hidden--visually\" id=\"sk-estimator-id-8\" type=\"checkbox\" ><label for=\"sk-estimator-id-8\" class=\"sk-toggleable__label sk-toggleable__label-arrow\">estimator: SVC</label><div class=\"sk-toggleable__content\"><pre>SVC()</pre></div></div></div><div class=\"sk-serial\"><div class=\"sk-item\"><div class=\"sk-estimator sk-toggleable\"><input class=\"sk-toggleable__control sk-hidden--visually\" id=\"sk-estimator-id-9\" type=\"checkbox\" ><label for=\"sk-estimator-id-9\" class=\"sk-toggleable__label sk-toggleable__label-arrow\">SVC</label><div class=\"sk-toggleable__content\"><pre>SVC()</pre></div></div></div></div></div></div></div></div></div></div>"
      ],
      "text/plain": [
       "MultiOutputClassifier(estimator=SVC())"
      ]
     },
     "execution_count": 46,
     "metadata": {},
     "output_type": "execute_result"
    }
   ],
   "source": [
    "#intialize the Random Forest Model\n",
    "clf_svm = MultiOutputClassifier(SVC()).fit(X_train, y_train)\n",
    "#train the model\n",
    "clf_svm.fit(X_train,y_train)"
   ]
  },
  {
   "cell_type": "code",
   "execution_count": 47,
   "metadata": {
    "id": "VOpUm8UKQuE5"
   },
   "outputs": [],
   "source": [
    "prediction_svm= clf_svm.predict(X_test)"
   ]
  },
  {
   "cell_type": "code",
   "execution_count": 48,
   "metadata": {
    "id": "NW_II1k8QuE5",
    "outputId": "e6a7c4ed-9b0c-4e88-ccfb-e8cba53628f5"
   },
   "outputs": [
    {
     "name": "stdout",
     "output_type": "stream",
     "text": [
      "F1 Score:  0.68\n"
     ]
    }
   ],
   "source": [
    "#model accuracy\n",
    "from sklearn.metrics import f1_score\n",
    "score_svm = f1_score(y_test, prediction_svm,average='macro')\n",
    "print('F1 Score: ', round(score_svm,2))"
   ]
  },
  {
   "cell_type": "code",
   "execution_count": 49,
   "metadata": {
    "id": "mAgfqZ0mQuE5",
    "outputId": "f97ca66e-9b98-4819-85f5-9f65aaf09e6c"
   },
   "outputs": [
    {
     "name": "stdout",
     "output_type": "stream",
     "text": [
      "Hamming Loss:  0.08\n"
     ]
    }
   ],
   "source": [
    "from sklearn.metrics import hamming_loss\n",
    "loss_svm = round(hamming_loss(y_test, prediction_svm),2)\n",
    "print('Hamming Loss: ', loss_svm )"
   ]
  },
  {
   "cell_type": "code",
   "execution_count": 50,
   "metadata": {
    "id": "uVzMmJ3pQuE6",
    "outputId": "eb24ef77-472d-4190-8236-45d14342c529"
   },
   "outputs": [
    {
     "name": "stdout",
     "output_type": "stream",
     "text": [
      "              precision    recall  f1-score   support\n",
      "\n",
      "  compulsion       0.99      0.85      0.92       298\n",
      "     obs-com       1.00      0.11      0.19        84\n",
      "   obsession       0.90      0.97      0.93       661\n",
      "\n",
      "   micro avg       0.92      0.87      0.89      1043\n",
      "   macro avg       0.96      0.64      0.68      1043\n",
      "weighted avg       0.93      0.87      0.87      1043\n",
      " samples avg       0.94      0.93      0.92      1043\n",
      "\n"
     ]
    }
   ],
   "source": [
    "#classification report\n",
    "label_names = ['compulsion','obs-com','obsession']\n",
    "print(classification_report(y_test, prediction_svm,target_names=label_names))"
   ]
  },
  {
   "cell_type": "markdown",
   "metadata": {
    "id": "nmUtek5iQuE6"
   },
   "source": [
    "# **Evaluation summary**"
   ]
  },
  {
   "cell_type": "code",
   "execution_count": 51,
   "metadata": {
    "id": "N9og4uB7QuE6",
    "outputId": "8ee61168-c1dd-4232-f1c6-27c6ef326c4d"
   },
   "outputs": [
    {
     "data": {
      "text/html": [
       "<div>\n",
       "<style scoped>\n",
       "    .dataframe tbody tr th:only-of-type {\n",
       "        vertical-align: middle;\n",
       "    }\n",
       "\n",
       "    .dataframe tbody tr th {\n",
       "        vertical-align: top;\n",
       "    }\n",
       "\n",
       "    .dataframe thead th {\n",
       "        text-align: right;\n",
       "    }\n",
       "</style>\n",
       "<table border=\"1\" class=\"dataframe\">\n",
       "  <thead>\n",
       "    <tr style=\"text-align: right;\">\n",
       "      <th></th>\n",
       "      <th>models</th>\n",
       "      <th>F1_score</th>\n",
       "      <th>loss_score</th>\n",
       "    </tr>\n",
       "  </thead>\n",
       "  <tbody>\n",
       "    <tr>\n",
       "      <th>0</th>\n",
       "      <td>LogisticRegression</td>\n",
       "      <td>0.744110</td>\n",
       "      <td>0.064762</td>\n",
       "    </tr>\n",
       "    <tr>\n",
       "      <th>1</th>\n",
       "      <td>RandomForestClassifier</td>\n",
       "      <td>0.629080</td>\n",
       "      <td>0.073905</td>\n",
       "    </tr>\n",
       "    <tr>\n",
       "      <th>2</th>\n",
       "      <td>Naive Bayes</td>\n",
       "      <td>0.601538</td>\n",
       "      <td>0.160000</td>\n",
       "    </tr>\n",
       "    <tr>\n",
       "      <th>3</th>\n",
       "      <td>SVM</td>\n",
       "      <td>0.680700</td>\n",
       "      <td>0.080000</td>\n",
       "    </tr>\n",
       "  </tbody>\n",
       "</table>\n",
       "</div>"
      ],
      "text/plain": [
       "                   models  F1_score  loss_score\n",
       "0      LogisticRegression  0.744110    0.064762\n",
       "1  RandomForestClassifier  0.629080    0.073905\n",
       "2             Naive Bayes  0.601538    0.160000\n",
       "3                     SVM  0.680700    0.080000"
      ]
     },
     "execution_count": 51,
     "metadata": {},
     "output_type": "execute_result"
    }
   ],
   "source": [
    "model_result  = pd.DataFrame({})\n",
    "model_result['models'] = ['LogisticRegression','RandomForestClassifier','Naive Bayes',\"SVM\"]\n",
    "model_result['F1_score'] = [score_LR,score_RF,score_NB,score_svm]\n",
    "model_result['loss_score'] = [loss_LR,loss_RF,loss_NB,loss_svm]\n",
    "model_result"
   ]
  },
  {
   "cell_type": "markdown",
   "metadata": {
    "id": "AhqCjtI2QuE7"
   },
   "source": [
    "# **Use tf-IDF VECTORIZER**"
   ]
  },
  {
   "cell_type": "code",
   "execution_count": 52,
   "metadata": {
    "id": "kthCIobaQuE7"
   },
   "outputs": [],
   "source": [
    "\n",
    "#convert text to vector (using TF-IDF)\n",
    "from sklearn.feature_extraction.text import TfidfVectorizer\n",
    "vectorizer = TfidfVectorizer(max_features=2500, max_df=0.9)\n",
    "\n",
    "tf_idf = vectorizer.fit(data['clean_text'])\n",
    "X = vectorizer.fit_transform(data['clean_text'])\n",
    "Y = np.asarray(data[['compulsion',\t'obs-com','obsession']])"
   ]
  },
  {
   "cell_type": "code",
   "execution_count": 53,
   "metadata": {
    "id": "7NAEfIw-QuE7"
   },
   "outputs": [],
   "source": [
    "#devide the data into train and test\n",
    "X_train_tfidf, X_test_tfidf, y_train, y_test = train_test_split(X, Y, test_size=0.2, random_state=0)"
   ]
  },
  {
   "cell_type": "markdown",
   "metadata": {
    "id": "0oaUIqo3QuE8"
   },
   "source": [
    "# **Model training & evaluation**"
   ]
  },
  {
   "cell_type": "markdown",
   "metadata": {
    "id": "Eham7Q86QuE8"
   },
   "source": [
    "### **Logistic Regression**"
   ]
  },
  {
   "cell_type": "code",
   "execution_count": 54,
   "metadata": {
    "id": "PNyr_j3PQuE8"
   },
   "outputs": [],
   "source": [
    "#initialize the Naive Bayes model\n",
    "from sklearn.multioutput import MultiOutputClassifier\n",
    "from sklearn.linear_model import LogisticRegression\n",
    "\n",
    "clf_LR = MultiOutputClassifier(LogisticRegression()).fit(X_train_tfidf, y_train)"
   ]
  },
  {
   "cell_type": "code",
   "execution_count": 55,
   "metadata": {
    "id": "pHuL6ixgQuE8"
   },
   "outputs": [],
   "source": [
    "prediction_LR = clf_LR.predict(X_test_tfidf)"
   ]
  },
  {
   "cell_type": "code",
   "execution_count": 56,
   "metadata": {
    "id": "vKQrQOpWQuE8",
    "outputId": "a2f60ea9-fbe4-412b-a3e7-9042103b1526"
   },
   "outputs": [
    {
     "name": "stdout",
     "output_type": "stream",
     "text": [
      "Accuracy Score:  0.63\n"
     ]
    }
   ],
   "source": [
    "#model accuracy\n",
    "from sklearn.metrics import f1_score\n",
    "score_LR = f1_score(y_test, prediction_LR,average='macro')\n",
    "print('Accuracy Score: ', round(score_LR,2))"
   ]
  },
  {
   "cell_type": "code",
   "execution_count": 57,
   "metadata": {
    "id": "jGQnxtLbQuE8",
    "outputId": "dcbc07f7-be2e-41d1-e8d6-56bae83c4cd2"
   },
   "outputs": [
    {
     "name": "stdout",
     "output_type": "stream",
     "text": [
      "Hamming Loss:  0.11\n"
     ]
    }
   ],
   "source": [
    "\"\"\"\n",
    "Hamming Loss is calculated by taking a fraction of the wrong prediction with the total number of labels.\n",
    "Because Hamming Loss is a loss function, the lower the score is,\n",
    "the better (0 indicates no wrong prediction and 1 indicates all the prediction is wrong).\n",
    "\"\"\"\n",
    "from sklearn.metrics import hamming_loss\n",
    "loss_LR = hamming_loss(y_test, prediction_LR)\n",
    "print('Hamming Loss: ', round(loss_LR,2))"
   ]
  },
  {
   "cell_type": "code",
   "execution_count": 58,
   "metadata": {
    "id": "5PweWCQ-e_j5"
   },
   "outputs": [
    {
     "ename": "SyntaxError",
     "evalue": "invalid syntax (590789328.py, line 1)",
     "output_type": "error",
     "traceback": [
      "\u001b[1;36m  Cell \u001b[1;32mIn[58], line 1\u001b[1;36m\u001b[0m\n\u001b[1;33m    t1 0.78  0.22 1  1\u001b[0m\n\u001b[1;37m       ^\u001b[0m\n\u001b[1;31mSyntaxError\u001b[0m\u001b[1;31m:\u001b[0m invalid syntax\n"
     ]
    }
   ],
   "source": [
    "t1 0.78  0.22 1  1\n",
    "t2 0.68 0.32  1   1 1\n",
    "\n",
    "\n",
    "\n",
    "\n",
    "1"
   ]
  },
  {
   "cell_type": "code",
   "execution_count": 59,
   "metadata": {
    "id": "Jcx6E4zAQuE9",
    "outputId": "d1dd7283-2100-4aa4-c1df-d201d04216fc"
   },
   "outputs": [
    {
     "name": "stdout",
     "output_type": "stream",
     "text": [
      "              precision    recall  f1-score   support\n",
      "\n",
      "  compulsion       0.99      0.75      0.85       298\n",
      "     obs-com       0.62      0.06      0.11        84\n",
      "   obsession       0.86      0.97      0.91       661\n",
      "\n",
      "   micro avg       0.89      0.84      0.86      1043\n",
      "   macro avg       0.83      0.59      0.63      1043\n",
      "weighted avg       0.88      0.84      0.83      1043\n",
      " samples avg       0.91      0.90      0.89      1043\n",
      "\n"
     ]
    },
    {
     "name": "stderr",
     "output_type": "stream",
     "text": [
      "C:\\Users\\pc\\anaconda3\\lib\\site-packages\\sklearn\\metrics\\_classification.py:1344: UndefinedMetricWarning: Precision and F-score are ill-defined and being set to 0.0 in samples with no predicted labels. Use `zero_division` parameter to control this behavior.\n",
      "  _warn_prf(average, modifier, msg_start, len(result))\n"
     ]
    }
   ],
   "source": [
    "#classification report\n",
    "label_names = ['compulsion','obs-com','obsession']\n",
    "print(classification_report(y_test, prediction_LR,target_names=label_names))"
   ]
  },
  {
   "cell_type": "markdown",
   "metadata": {
    "id": "Fy9Red7SQuE9"
   },
   "source": [
    "### **Random Forest Classifier**"
   ]
  },
  {
   "cell_type": "code",
   "execution_count": 60,
   "metadata": {
    "id": "KoxRyL7vQuE9",
    "outputId": "ae3a56ba-442e-4c67-e4e0-8ef32e66c905"
   },
   "outputs": [
    {
     "data": {
      "text/html": [
       "<style>#sk-container-id-4 {color: black;background-color: white;}#sk-container-id-4 pre{padding: 0;}#sk-container-id-4 div.sk-toggleable {background-color: white;}#sk-container-id-4 label.sk-toggleable__label {cursor: pointer;display: block;width: 100%;margin-bottom: 0;padding: 0.3em;box-sizing: border-box;text-align: center;}#sk-container-id-4 label.sk-toggleable__label-arrow:before {content: \"▸\";float: left;margin-right: 0.25em;color: #696969;}#sk-container-id-4 label.sk-toggleable__label-arrow:hover:before {color: black;}#sk-container-id-4 div.sk-estimator:hover label.sk-toggleable__label-arrow:before {color: black;}#sk-container-id-4 div.sk-toggleable__content {max-height: 0;max-width: 0;overflow: hidden;text-align: left;background-color: #f0f8ff;}#sk-container-id-4 div.sk-toggleable__content pre {margin: 0.2em;color: black;border-radius: 0.25em;background-color: #f0f8ff;}#sk-container-id-4 input.sk-toggleable__control:checked~div.sk-toggleable__content {max-height: 200px;max-width: 100%;overflow: auto;}#sk-container-id-4 input.sk-toggleable__control:checked~label.sk-toggleable__label-arrow:before {content: \"▾\";}#sk-container-id-4 div.sk-estimator input.sk-toggleable__control:checked~label.sk-toggleable__label {background-color: #d4ebff;}#sk-container-id-4 div.sk-label input.sk-toggleable__control:checked~label.sk-toggleable__label {background-color: #d4ebff;}#sk-container-id-4 input.sk-hidden--visually {border: 0;clip: rect(1px 1px 1px 1px);clip: rect(1px, 1px, 1px, 1px);height: 1px;margin: -1px;overflow: hidden;padding: 0;position: absolute;width: 1px;}#sk-container-id-4 div.sk-estimator {font-family: monospace;background-color: #f0f8ff;border: 1px dotted black;border-radius: 0.25em;box-sizing: border-box;margin-bottom: 0.5em;}#sk-container-id-4 div.sk-estimator:hover {background-color: #d4ebff;}#sk-container-id-4 div.sk-parallel-item::after {content: \"\";width: 100%;border-bottom: 1px solid gray;flex-grow: 1;}#sk-container-id-4 div.sk-label:hover label.sk-toggleable__label {background-color: #d4ebff;}#sk-container-id-4 div.sk-serial::before {content: \"\";position: absolute;border-left: 1px solid gray;box-sizing: border-box;top: 0;bottom: 0;left: 50%;z-index: 0;}#sk-container-id-4 div.sk-serial {display: flex;flex-direction: column;align-items: center;background-color: white;padding-right: 0.2em;padding-left: 0.2em;position: relative;}#sk-container-id-4 div.sk-item {position: relative;z-index: 1;}#sk-container-id-4 div.sk-parallel {display: flex;align-items: stretch;justify-content: center;background-color: white;position: relative;}#sk-container-id-4 div.sk-item::before, #sk-container-id-4 div.sk-parallel-item::before {content: \"\";position: absolute;border-left: 1px solid gray;box-sizing: border-box;top: 0;bottom: 0;left: 50%;z-index: -1;}#sk-container-id-4 div.sk-parallel-item {display: flex;flex-direction: column;z-index: 1;position: relative;background-color: white;}#sk-container-id-4 div.sk-parallel-item:first-child::after {align-self: flex-end;width: 50%;}#sk-container-id-4 div.sk-parallel-item:last-child::after {align-self: flex-start;width: 50%;}#sk-container-id-4 div.sk-parallel-item:only-child::after {width: 0;}#sk-container-id-4 div.sk-dashed-wrapped {border: 1px dashed gray;margin: 0 0.4em 0.5em 0.4em;box-sizing: border-box;padding-bottom: 0.4em;background-color: white;}#sk-container-id-4 div.sk-label label {font-family: monospace;font-weight: bold;display: inline-block;line-height: 1.2em;}#sk-container-id-4 div.sk-label-container {text-align: center;}#sk-container-id-4 div.sk-container {/* jupyter's `normalize.less` sets `[hidden] { display: none; }` but bootstrap.min.css set `[hidden] { display: none !important; }` so we also need the `!important` here to be able to override the default hidden behavior on the sphinx rendered scikit-learn.org. See: https://github.com/scikit-learn/scikit-learn/issues/21755 */display: inline-block !important;position: relative;}#sk-container-id-4 div.sk-text-repr-fallback {display: none;}</style><div id=\"sk-container-id-4\" class=\"sk-top-container\"><div class=\"sk-text-repr-fallback\"><pre>MultiOutputClassifier(estimator=RandomForestClassifier())</pre><b>In a Jupyter environment, please rerun this cell to show the HTML representation or trust the notebook. <br />On GitHub, the HTML representation is unable to render, please try loading this page with nbviewer.org.</b></div><div class=\"sk-container\" hidden><div class=\"sk-item sk-dashed-wrapped\"><div class=\"sk-label-container\"><div class=\"sk-label sk-toggleable\"><input class=\"sk-toggleable__control sk-hidden--visually\" id=\"sk-estimator-id-10\" type=\"checkbox\" ><label for=\"sk-estimator-id-10\" class=\"sk-toggleable__label sk-toggleable__label-arrow\">MultiOutputClassifier</label><div class=\"sk-toggleable__content\"><pre>MultiOutputClassifier(estimator=RandomForestClassifier())</pre></div></div></div><div class=\"sk-parallel\"><div class=\"sk-parallel-item\"><div class=\"sk-item\"><div class=\"sk-label-container\"><div class=\"sk-label sk-toggleable\"><input class=\"sk-toggleable__control sk-hidden--visually\" id=\"sk-estimator-id-11\" type=\"checkbox\" ><label for=\"sk-estimator-id-11\" class=\"sk-toggleable__label sk-toggleable__label-arrow\">estimator: RandomForestClassifier</label><div class=\"sk-toggleable__content\"><pre>RandomForestClassifier()</pre></div></div></div><div class=\"sk-serial\"><div class=\"sk-item\"><div class=\"sk-estimator sk-toggleable\"><input class=\"sk-toggleable__control sk-hidden--visually\" id=\"sk-estimator-id-12\" type=\"checkbox\" ><label for=\"sk-estimator-id-12\" class=\"sk-toggleable__label sk-toggleable__label-arrow\">RandomForestClassifier</label><div class=\"sk-toggleable__content\"><pre>RandomForestClassifier()</pre></div></div></div></div></div></div></div></div></div></div>"
      ],
      "text/plain": [
       "MultiOutputClassifier(estimator=RandomForestClassifier())"
      ]
     },
     "execution_count": 60,
     "metadata": {},
     "output_type": "execute_result"
    }
   ],
   "source": [
    "#intialize the Random Forest Model\n",
    "clf_RF = MultiOutputClassifier(RandomForestClassifier())\n",
    "#train the model\n",
    "clf_RF.fit(X_train_tfidf,y_train)"
   ]
  },
  {
   "cell_type": "code",
   "execution_count": 61,
   "metadata": {
    "id": "urhkbAlDQuE9"
   },
   "outputs": [],
   "source": [
    "prediction_RF= clf_RF.predict(X_test_tfidf)"
   ]
  },
  {
   "cell_type": "code",
   "execution_count": 62,
   "metadata": {
    "id": "ORMitpsiQuE-",
    "outputId": "c0a8c6e1-26ea-4e69-c6c8-c7c1c23a249e"
   },
   "outputs": [
    {
     "name": "stdout",
     "output_type": "stream",
     "text": [
      "F1 Score:  0.74\n"
     ]
    }
   ],
   "source": [
    "#model accuracy\n",
    "from sklearn.metrics import f1_score\n",
    "score_RF = f1_score(y_test, prediction_RF,average='macro')\n",
    "print('F1 Score: ', round(score_RF,2))"
   ]
  },
  {
   "cell_type": "code",
   "execution_count": 63,
   "metadata": {
    "id": "apOD1HLmQuE-",
    "outputId": "76b3e2ca-ff55-47ad-bd63-677946f757f9"
   },
   "outputs": [
    {
     "name": "stdout",
     "output_type": "stream",
     "text": [
      "Hamming Loss:  0.05\n"
     ]
    }
   ],
   "source": [
    "from sklearn.metrics import hamming_loss\n",
    "loss_RF = hamming_loss(y_test, prediction_RF)\n",
    "print('Hamming Loss: ', round(loss_RF,2))"
   ]
  },
  {
   "cell_type": "code",
   "execution_count": 64,
   "metadata": {
    "id": "bSlON9_IQuE-",
    "outputId": "a01d064a-c009-405c-fb3b-fa6b91849886"
   },
   "outputs": [
    {
     "name": "stdout",
     "output_type": "stream",
     "text": [
      "              precision    recall  f1-score   support\n",
      "\n",
      "  compulsion       0.98      0.97      0.97       298\n",
      "     obs-com       1.00      0.15      0.27        84\n",
      "   obsession       0.95      1.00      0.97       661\n",
      "\n",
      "   micro avg       0.96      0.92      0.94      1043\n",
      "   macro avg       0.98      0.71      0.74      1043\n",
      "weighted avg       0.96      0.92      0.92      1043\n",
      " samples avg       0.98      0.97      0.96      1043\n",
      "\n"
     ]
    }
   ],
   "source": [
    "#classification report\n",
    "label_names = ['compulsion','obs-com','obsession']\n",
    "print(classification_report(y_test, prediction_RF,target_names=label_names))"
   ]
  },
  {
   "cell_type": "markdown",
   "metadata": {
    "id": "ctfefOd_QuE_"
   },
   "source": [
    "# **Naive Bayes**"
   ]
  },
  {
   "cell_type": "code",
   "execution_count": 65,
   "metadata": {
    "id": "wN-HWB6gQuE_",
    "outputId": "1d8af546-20f2-464b-94c4-d6390fc8f4c3"
   },
   "outputs": [
    {
     "data": {
      "text/html": [
       "<style>#sk-container-id-5 {color: black;background-color: white;}#sk-container-id-5 pre{padding: 0;}#sk-container-id-5 div.sk-toggleable {background-color: white;}#sk-container-id-5 label.sk-toggleable__label {cursor: pointer;display: block;width: 100%;margin-bottom: 0;padding: 0.3em;box-sizing: border-box;text-align: center;}#sk-container-id-5 label.sk-toggleable__label-arrow:before {content: \"▸\";float: left;margin-right: 0.25em;color: #696969;}#sk-container-id-5 label.sk-toggleable__label-arrow:hover:before {color: black;}#sk-container-id-5 div.sk-estimator:hover label.sk-toggleable__label-arrow:before {color: black;}#sk-container-id-5 div.sk-toggleable__content {max-height: 0;max-width: 0;overflow: hidden;text-align: left;background-color: #f0f8ff;}#sk-container-id-5 div.sk-toggleable__content pre {margin: 0.2em;color: black;border-radius: 0.25em;background-color: #f0f8ff;}#sk-container-id-5 input.sk-toggleable__control:checked~div.sk-toggleable__content {max-height: 200px;max-width: 100%;overflow: auto;}#sk-container-id-5 input.sk-toggleable__control:checked~label.sk-toggleable__label-arrow:before {content: \"▾\";}#sk-container-id-5 div.sk-estimator input.sk-toggleable__control:checked~label.sk-toggleable__label {background-color: #d4ebff;}#sk-container-id-5 div.sk-label input.sk-toggleable__control:checked~label.sk-toggleable__label {background-color: #d4ebff;}#sk-container-id-5 input.sk-hidden--visually {border: 0;clip: rect(1px 1px 1px 1px);clip: rect(1px, 1px, 1px, 1px);height: 1px;margin: -1px;overflow: hidden;padding: 0;position: absolute;width: 1px;}#sk-container-id-5 div.sk-estimator {font-family: monospace;background-color: #f0f8ff;border: 1px dotted black;border-radius: 0.25em;box-sizing: border-box;margin-bottom: 0.5em;}#sk-container-id-5 div.sk-estimator:hover {background-color: #d4ebff;}#sk-container-id-5 div.sk-parallel-item::after {content: \"\";width: 100%;border-bottom: 1px solid gray;flex-grow: 1;}#sk-container-id-5 div.sk-label:hover label.sk-toggleable__label {background-color: #d4ebff;}#sk-container-id-5 div.sk-serial::before {content: \"\";position: absolute;border-left: 1px solid gray;box-sizing: border-box;top: 0;bottom: 0;left: 50%;z-index: 0;}#sk-container-id-5 div.sk-serial {display: flex;flex-direction: column;align-items: center;background-color: white;padding-right: 0.2em;padding-left: 0.2em;position: relative;}#sk-container-id-5 div.sk-item {position: relative;z-index: 1;}#sk-container-id-5 div.sk-parallel {display: flex;align-items: stretch;justify-content: center;background-color: white;position: relative;}#sk-container-id-5 div.sk-item::before, #sk-container-id-5 div.sk-parallel-item::before {content: \"\";position: absolute;border-left: 1px solid gray;box-sizing: border-box;top: 0;bottom: 0;left: 50%;z-index: -1;}#sk-container-id-5 div.sk-parallel-item {display: flex;flex-direction: column;z-index: 1;position: relative;background-color: white;}#sk-container-id-5 div.sk-parallel-item:first-child::after {align-self: flex-end;width: 50%;}#sk-container-id-5 div.sk-parallel-item:last-child::after {align-self: flex-start;width: 50%;}#sk-container-id-5 div.sk-parallel-item:only-child::after {width: 0;}#sk-container-id-5 div.sk-dashed-wrapped {border: 1px dashed gray;margin: 0 0.4em 0.5em 0.4em;box-sizing: border-box;padding-bottom: 0.4em;background-color: white;}#sk-container-id-5 div.sk-label label {font-family: monospace;font-weight: bold;display: inline-block;line-height: 1.2em;}#sk-container-id-5 div.sk-label-container {text-align: center;}#sk-container-id-5 div.sk-container {/* jupyter's `normalize.less` sets `[hidden] { display: none; }` but bootstrap.min.css set `[hidden] { display: none !important; }` so we also need the `!important` here to be able to override the default hidden behavior on the sphinx rendered scikit-learn.org. See: https://github.com/scikit-learn/scikit-learn/issues/21755 */display: inline-block !important;position: relative;}#sk-container-id-5 div.sk-text-repr-fallback {display: none;}</style><div id=\"sk-container-id-5\" class=\"sk-top-container\"><div class=\"sk-text-repr-fallback\"><pre>MultiOutputClassifier(estimator=MultinomialNB())</pre><b>In a Jupyter environment, please rerun this cell to show the HTML representation or trust the notebook. <br />On GitHub, the HTML representation is unable to render, please try loading this page with nbviewer.org.</b></div><div class=\"sk-container\" hidden><div class=\"sk-item sk-dashed-wrapped\"><div class=\"sk-label-container\"><div class=\"sk-label sk-toggleable\"><input class=\"sk-toggleable__control sk-hidden--visually\" id=\"sk-estimator-id-13\" type=\"checkbox\" ><label for=\"sk-estimator-id-13\" class=\"sk-toggleable__label sk-toggleable__label-arrow\">MultiOutputClassifier</label><div class=\"sk-toggleable__content\"><pre>MultiOutputClassifier(estimator=MultinomialNB())</pre></div></div></div><div class=\"sk-parallel\"><div class=\"sk-parallel-item\"><div class=\"sk-item\"><div class=\"sk-label-container\"><div class=\"sk-label sk-toggleable\"><input class=\"sk-toggleable__control sk-hidden--visually\" id=\"sk-estimator-id-14\" type=\"checkbox\" ><label for=\"sk-estimator-id-14\" class=\"sk-toggleable__label sk-toggleable__label-arrow\">estimator: MultinomialNB</label><div class=\"sk-toggleable__content\"><pre>MultinomialNB()</pre></div></div></div><div class=\"sk-serial\"><div class=\"sk-item\"><div class=\"sk-estimator sk-toggleable\"><input class=\"sk-toggleable__control sk-hidden--visually\" id=\"sk-estimator-id-15\" type=\"checkbox\" ><label for=\"sk-estimator-id-15\" class=\"sk-toggleable__label sk-toggleable__label-arrow\">MultinomialNB</label><div class=\"sk-toggleable__content\"><pre>MultinomialNB()</pre></div></div></div></div></div></div></div></div></div></div>"
      ],
      "text/plain": [
       "MultiOutputClassifier(estimator=MultinomialNB())"
      ]
     },
     "execution_count": 65,
     "metadata": {},
     "output_type": "execute_result"
    }
   ],
   "source": [
    "#intialize the Random Forest Model\n",
    "clf_NB = MultiOutputClassifier(MultinomialNB())\n",
    "#train the model\n",
    "clf_NB.fit(X_train_tfidf,y_train)"
   ]
  },
  {
   "cell_type": "code",
   "execution_count": 66,
   "metadata": {
    "id": "AaduyuAdQuE_"
   },
   "outputs": [],
   "source": [
    "prediction_NB= clf_NB.predict(X_test_tfidf)"
   ]
  },
  {
   "cell_type": "code",
   "execution_count": 67,
   "metadata": {
    "id": "GLwj7F-rQuE_",
    "outputId": "1bd4f95a-f285-4cc2-b716-f39a891500f7"
   },
   "outputs": [
    {
     "name": "stdout",
     "output_type": "stream",
     "text": [
      "F1 Score:  0.46\n"
     ]
    }
   ],
   "source": [
    "#model accuracy\n",
    "from sklearn.metrics import f1_score\n",
    "score_NB = f1_score(y_test, prediction_NB,average='macro')\n",
    "print('F1 Score: ', round(score_NB,2))"
   ]
  },
  {
   "cell_type": "code",
   "execution_count": 68,
   "metadata": {
    "id": "YhtRMiJUQuE_",
    "outputId": "9754b4e5-ca2b-4d88-bfea-e1c9aed29394"
   },
   "outputs": [
    {
     "name": "stdout",
     "output_type": "stream",
     "text": [
      "Hamming Loss:  0.19\n"
     ]
    }
   ],
   "source": [
    "from sklearn.metrics import hamming_loss\n",
    "loss_NB = round(hamming_loss(y_test, prediction_NB),2)\n",
    "print('Hamming Loss: ', loss_NB )"
   ]
  },
  {
   "cell_type": "code",
   "execution_count": 69,
   "metadata": {
    "id": "EDjn8E4rQuFA",
    "outputId": "3e80f08b-ab51-4312-b69d-441623c33c74"
   },
   "outputs": [
    {
     "name": "stdout",
     "output_type": "stream",
     "text": [
      "              precision    recall  f1-score   support\n",
      "\n",
      "  compulsion       0.89      0.36      0.51       298\n",
      "     obs-com       0.00      0.00      0.00        84\n",
      "   obsession       0.76      0.99      0.86       661\n",
      "\n",
      "   micro avg       0.78      0.73      0.75      1043\n",
      "   macro avg       0.55      0.45      0.46      1043\n",
      "weighted avg       0.74      0.73      0.69      1043\n",
      " samples avg       0.80      0.79      0.77      1043\n",
      "\n"
     ]
    },
    {
     "name": "stderr",
     "output_type": "stream",
     "text": [
      "C:\\Users\\pc\\anaconda3\\lib\\site-packages\\sklearn\\metrics\\_classification.py:1344: UndefinedMetricWarning: Precision and F-score are ill-defined and being set to 0.0 in labels with no predicted samples. Use `zero_division` parameter to control this behavior.\n",
      "  _warn_prf(average, modifier, msg_start, len(result))\n",
      "C:\\Users\\pc\\anaconda3\\lib\\site-packages\\sklearn\\metrics\\_classification.py:1344: UndefinedMetricWarning: Precision and F-score are ill-defined and being set to 0.0 in samples with no predicted labels. Use `zero_division` parameter to control this behavior.\n",
      "  _warn_prf(average, modifier, msg_start, len(result))\n"
     ]
    }
   ],
   "source": [
    "#classification report\n",
    "label_names = ['compulsion','obs-com','obsession']\n",
    "print(classification_report(y_test, prediction_NB,target_names=label_names))"
   ]
  },
  {
   "cell_type": "markdown",
   "metadata": {
    "id": "h9XjX0RHQuFA"
   },
   "source": [
    "### **SVM**"
   ]
  },
  {
   "cell_type": "code",
   "execution_count": 70,
   "metadata": {
    "id": "QD19PRARQuFA",
    "outputId": "a7130b6b-bc9c-4e6f-c8fe-e08012f4cac6"
   },
   "outputs": [
    {
     "data": {
      "text/html": [
       "<style>#sk-container-id-6 {color: black;background-color: white;}#sk-container-id-6 pre{padding: 0;}#sk-container-id-6 div.sk-toggleable {background-color: white;}#sk-container-id-6 label.sk-toggleable__label {cursor: pointer;display: block;width: 100%;margin-bottom: 0;padding: 0.3em;box-sizing: border-box;text-align: center;}#sk-container-id-6 label.sk-toggleable__label-arrow:before {content: \"▸\";float: left;margin-right: 0.25em;color: #696969;}#sk-container-id-6 label.sk-toggleable__label-arrow:hover:before {color: black;}#sk-container-id-6 div.sk-estimator:hover label.sk-toggleable__label-arrow:before {color: black;}#sk-container-id-6 div.sk-toggleable__content {max-height: 0;max-width: 0;overflow: hidden;text-align: left;background-color: #f0f8ff;}#sk-container-id-6 div.sk-toggleable__content pre {margin: 0.2em;color: black;border-radius: 0.25em;background-color: #f0f8ff;}#sk-container-id-6 input.sk-toggleable__control:checked~div.sk-toggleable__content {max-height: 200px;max-width: 100%;overflow: auto;}#sk-container-id-6 input.sk-toggleable__control:checked~label.sk-toggleable__label-arrow:before {content: \"▾\";}#sk-container-id-6 div.sk-estimator input.sk-toggleable__control:checked~label.sk-toggleable__label {background-color: #d4ebff;}#sk-container-id-6 div.sk-label input.sk-toggleable__control:checked~label.sk-toggleable__label {background-color: #d4ebff;}#sk-container-id-6 input.sk-hidden--visually {border: 0;clip: rect(1px 1px 1px 1px);clip: rect(1px, 1px, 1px, 1px);height: 1px;margin: -1px;overflow: hidden;padding: 0;position: absolute;width: 1px;}#sk-container-id-6 div.sk-estimator {font-family: monospace;background-color: #f0f8ff;border: 1px dotted black;border-radius: 0.25em;box-sizing: border-box;margin-bottom: 0.5em;}#sk-container-id-6 div.sk-estimator:hover {background-color: #d4ebff;}#sk-container-id-6 div.sk-parallel-item::after {content: \"\";width: 100%;border-bottom: 1px solid gray;flex-grow: 1;}#sk-container-id-6 div.sk-label:hover label.sk-toggleable__label {background-color: #d4ebff;}#sk-container-id-6 div.sk-serial::before {content: \"\";position: absolute;border-left: 1px solid gray;box-sizing: border-box;top: 0;bottom: 0;left: 50%;z-index: 0;}#sk-container-id-6 div.sk-serial {display: flex;flex-direction: column;align-items: center;background-color: white;padding-right: 0.2em;padding-left: 0.2em;position: relative;}#sk-container-id-6 div.sk-item {position: relative;z-index: 1;}#sk-container-id-6 div.sk-parallel {display: flex;align-items: stretch;justify-content: center;background-color: white;position: relative;}#sk-container-id-6 div.sk-item::before, #sk-container-id-6 div.sk-parallel-item::before {content: \"\";position: absolute;border-left: 1px solid gray;box-sizing: border-box;top: 0;bottom: 0;left: 50%;z-index: -1;}#sk-container-id-6 div.sk-parallel-item {display: flex;flex-direction: column;z-index: 1;position: relative;background-color: white;}#sk-container-id-6 div.sk-parallel-item:first-child::after {align-self: flex-end;width: 50%;}#sk-container-id-6 div.sk-parallel-item:last-child::after {align-self: flex-start;width: 50%;}#sk-container-id-6 div.sk-parallel-item:only-child::after {width: 0;}#sk-container-id-6 div.sk-dashed-wrapped {border: 1px dashed gray;margin: 0 0.4em 0.5em 0.4em;box-sizing: border-box;padding-bottom: 0.4em;background-color: white;}#sk-container-id-6 div.sk-label label {font-family: monospace;font-weight: bold;display: inline-block;line-height: 1.2em;}#sk-container-id-6 div.sk-label-container {text-align: center;}#sk-container-id-6 div.sk-container {/* jupyter's `normalize.less` sets `[hidden] { display: none; }` but bootstrap.min.css set `[hidden] { display: none !important; }` so we also need the `!important` here to be able to override the default hidden behavior on the sphinx rendered scikit-learn.org. See: https://github.com/scikit-learn/scikit-learn/issues/21755 */display: inline-block !important;position: relative;}#sk-container-id-6 div.sk-text-repr-fallback {display: none;}</style><div id=\"sk-container-id-6\" class=\"sk-top-container\"><div class=\"sk-text-repr-fallback\"><pre>MultiOutputClassifier(estimator=SVC())</pre><b>In a Jupyter environment, please rerun this cell to show the HTML representation or trust the notebook. <br />On GitHub, the HTML representation is unable to render, please try loading this page with nbviewer.org.</b></div><div class=\"sk-container\" hidden><div class=\"sk-item sk-dashed-wrapped\"><div class=\"sk-label-container\"><div class=\"sk-label sk-toggleable\"><input class=\"sk-toggleable__control sk-hidden--visually\" id=\"sk-estimator-id-16\" type=\"checkbox\" ><label for=\"sk-estimator-id-16\" class=\"sk-toggleable__label sk-toggleable__label-arrow\">MultiOutputClassifier</label><div class=\"sk-toggleable__content\"><pre>MultiOutputClassifier(estimator=SVC())</pre></div></div></div><div class=\"sk-parallel\"><div class=\"sk-parallel-item\"><div class=\"sk-item\"><div class=\"sk-label-container\"><div class=\"sk-label sk-toggleable\"><input class=\"sk-toggleable__control sk-hidden--visually\" id=\"sk-estimator-id-17\" type=\"checkbox\" ><label for=\"sk-estimator-id-17\" class=\"sk-toggleable__label sk-toggleable__label-arrow\">estimator: SVC</label><div class=\"sk-toggleable__content\"><pre>SVC()</pre></div></div></div><div class=\"sk-serial\"><div class=\"sk-item\"><div class=\"sk-estimator sk-toggleable\"><input class=\"sk-toggleable__control sk-hidden--visually\" id=\"sk-estimator-id-18\" type=\"checkbox\" ><label for=\"sk-estimator-id-18\" class=\"sk-toggleable__label sk-toggleable__label-arrow\">SVC</label><div class=\"sk-toggleable__content\"><pre>SVC()</pre></div></div></div></div></div></div></div></div></div></div>"
      ],
      "text/plain": [
       "MultiOutputClassifier(estimator=SVC())"
      ]
     },
     "execution_count": 70,
     "metadata": {},
     "output_type": "execute_result"
    }
   ],
   "source": [
    "#intialize the Random Forest Model\n",
    "clf_svm = MultiOutputClassifier(SVC())\n",
    "#train the model\n",
    "clf_svm.fit(X_train_tfidf,y_train)"
   ]
  },
  {
   "cell_type": "code",
   "execution_count": 71,
   "metadata": {
    "id": "JEoXgXroQuFA"
   },
   "outputs": [],
   "source": [
    "prediction_svm= clf_svm.predict(X_test_tfidf)"
   ]
  },
  {
   "cell_type": "code",
   "execution_count": 72,
   "metadata": {
    "id": "oapfWMH8QuFA",
    "outputId": "9af3827a-ee90-4c43-8cbe-dca6a779bee7"
   },
   "outputs": [
    {
     "name": "stdout",
     "output_type": "stream",
     "text": [
      "F1 Score:  0.65\n"
     ]
    }
   ],
   "source": [
    "#model accuracy\n",
    "from sklearn.metrics import f1_score\n",
    "score_svm = f1_score(y_test, prediction_svm,average='macro')\n",
    "print('F1 Score: ', round(score_svm,2))"
   ]
  },
  {
   "cell_type": "code",
   "execution_count": 73,
   "metadata": {
    "id": "_VVaot54QuFB",
    "outputId": "8d630c71-04bd-41ab-b941-2fc5832094f3"
   },
   "outputs": [
    {
     "name": "stdout",
     "output_type": "stream",
     "text": [
      "Hamming Loss:  0.1\n"
     ]
    }
   ],
   "source": [
    "from sklearn.metrics import hamming_loss\n",
    "loss_svm = round(hamming_loss(y_test, prediction_svm),2)\n",
    "print('Hamming Loss: ', loss_svm )"
   ]
  },
  {
   "cell_type": "code",
   "execution_count": 74,
   "metadata": {
    "id": "U332EkS9QuFB",
    "outputId": "5bcba593-e0e7-41d5-97b5-12c4a0c85409"
   },
   "outputs": [
    {
     "name": "stdout",
     "output_type": "stream",
     "text": [
      "              precision    recall  f1-score   support\n",
      "\n",
      "  compulsion       0.98      0.76      0.86       298\n",
      "     obs-com       1.00      0.10      0.17        84\n",
      "   obsession       0.87      0.97      0.92       661\n",
      "\n",
      "   micro avg       0.90      0.84      0.87      1043\n",
      "   macro avg       0.95      0.61      0.65      1043\n",
      "weighted avg       0.91      0.84      0.84      1043\n",
      " samples avg       0.91      0.90      0.89      1043\n",
      "\n"
     ]
    },
    {
     "name": "stderr",
     "output_type": "stream",
     "text": [
      "C:\\Users\\pc\\anaconda3\\lib\\site-packages\\sklearn\\metrics\\_classification.py:1344: UndefinedMetricWarning: Precision and F-score are ill-defined and being set to 0.0 in samples with no predicted labels. Use `zero_division` parameter to control this behavior.\n",
      "  _warn_prf(average, modifier, msg_start, len(result))\n"
     ]
    }
   ],
   "source": [
    "#classification report\n",
    "label_names = ['compulsion','obs-com','obsession']\n",
    "print(classification_report(y_test, prediction_svm,target_names=label_names))"
   ]
  },
  {
   "cell_type": "markdown",
   "metadata": {
    "id": "fIAhQZ4GQuFB"
   },
   "source": [
    "# **Evaluation summary**"
   ]
  },
  {
   "cell_type": "code",
   "execution_count": 75,
   "metadata": {
    "id": "x9b6K6ASQuFC",
    "outputId": "dbfdeb18-1a60-4438-e6f7-3c11dfeae558"
   },
   "outputs": [
    {
     "data": {
      "text/html": [
       "<div>\n",
       "<style scoped>\n",
       "    .dataframe tbody tr th:only-of-type {\n",
       "        vertical-align: middle;\n",
       "    }\n",
       "\n",
       "    .dataframe tbody tr th {\n",
       "        vertical-align: top;\n",
       "    }\n",
       "\n",
       "    .dataframe thead th {\n",
       "        text-align: right;\n",
       "    }\n",
       "</style>\n",
       "<table border=\"1\" class=\"dataframe\">\n",
       "  <thead>\n",
       "    <tr style=\"text-align: right;\">\n",
       "      <th></th>\n",
       "      <th>models</th>\n",
       "      <th>F1_score</th>\n",
       "      <th>loss_score</th>\n",
       "    </tr>\n",
       "  </thead>\n",
       "  <tbody>\n",
       "    <tr>\n",
       "      <th>0</th>\n",
       "      <td>LogisticRegression</td>\n",
       "      <td>0.625454</td>\n",
       "      <td>0.107048</td>\n",
       "    </tr>\n",
       "    <tr>\n",
       "      <th>1</th>\n",
       "      <td>RandomForestClassifier</td>\n",
       "      <td>0.738451</td>\n",
       "      <td>0.046857</td>\n",
       "    </tr>\n",
       "    <tr>\n",
       "      <th>2</th>\n",
       "      <td>Naive Bayes</td>\n",
       "      <td>0.457935</td>\n",
       "      <td>0.190000</td>\n",
       "    </tr>\n",
       "    <tr>\n",
       "      <th>3</th>\n",
       "      <td>SVM</td>\n",
       "      <td>0.650674</td>\n",
       "      <td>0.100000</td>\n",
       "    </tr>\n",
       "  </tbody>\n",
       "</table>\n",
       "</div>"
      ],
      "text/plain": [
       "                   models  F1_score  loss_score\n",
       "0      LogisticRegression  0.625454    0.107048\n",
       "1  RandomForestClassifier  0.738451    0.046857\n",
       "2             Naive Bayes  0.457935    0.190000\n",
       "3                     SVM  0.650674    0.100000"
      ]
     },
     "execution_count": 75,
     "metadata": {},
     "output_type": "execute_result"
    }
   ],
   "source": [
    "model_result  = pd.DataFrame({})\n",
    "model_result['models'] = ['LogisticRegression','RandomForestClassifier','Naive Bayes',\"SVM\"]\n",
    "model_result['F1_score'] = [score_LR,score_RF,score_NB,score_svm]\n",
    "model_result['loss_score'] = [loss_LR,loss_RF,loss_NB,loss_svm]\n",
    "model_result"
   ]
  },
  {
   "cell_type": "markdown",
   "metadata": {
    "id": "WfvIp06RQuFC"
   },
   "source": [
    "# **Save best model**"
   ]
  },
  {
   "cell_type": "code",
   "execution_count": 76,
   "metadata": {
    "id": "mYaxw4x3QuFC",
    "outputId": "0dc2ab0a-246a-4d28-b1dd-a402054fdd9a"
   },
   "outputs": [
    {
     "data": {
      "text/plain": [
       "['../model/tf_idf_vectorizer_enrich.pkl']"
      ]
     },
     "execution_count": 76,
     "metadata": {},
     "output_type": "execute_result"
    }
   ],
   "source": [
    "import joblib\n",
    "\n",
    "# Save the trained model\n",
    "joblib.dump(clf_RF, '../model/RFModel_enrich.pkl')\n",
    "\n",
    "# Save the TF-IDF vectorizer\n",
    "joblib.dump(tf_idf, '../model/tf_idf_vectorizer_enrich.pkl')"
   ]
  },
  {
   "cell_type": "markdown",
   "metadata": {
    "id": "jHPI_YAcQuFC"
   },
   "source": [
    "# make Prediction"
   ]
  },
  {
   "cell_type": "code",
   "execution_count": 77,
   "metadata": {
    "id": "SAV4Wb3XQuFD"
   },
   "outputs": [],
   "source": [
    "#import data\n",
    "import pandas as pd\n",
    "unlabed_data = pd.read_csv('../processed_data/unlabled_data.csv')"
   ]
  },
  {
   "cell_type": "code",
   "execution_count": 78,
   "metadata": {
    "id": "UiaHZVKMQuFD"
   },
   "outputs": [],
   "source": [
    "#import model\n",
    "import joblib\n",
    "clf = joblib.load('../model/RFModel_enrich.pkl')\n",
    "tf_idf = joblib.load(\"../model/tf_idf_vectorizer_enrich.pkl\")"
   ]
  },
  {
   "cell_type": "code",
   "execution_count": 79,
   "metadata": {
    "id": "sajI0MfUQuFD"
   },
   "outputs": [],
   "source": [
    "#Clean Text\n",
    "def clean_text(unlabed_data):\n",
    "  # convert catacter to lowercase\n",
    "  unlabed_data['clean_text']=unlabed_data['post'].str.lower()\n",
    "  #remove URLS\n",
    "  unlabed_data['clean_text'] = unlabed_data['clean_text'].apply(lambda elem:re.sub(r\"http\\S+\", \"\", elem))\n",
    "  #remove ponctuation\n",
    "  unlabed_data['clean_text'] = unlabed_data['clean_text'].apply(lambda elem:re.sub(r\"[^\\w\\s]\", \"\", elem))\n",
    "  #remove\n",
    "  unlabed_data['clean_text'] = unlabed_data['clean_text'].apply(lambda elem:re.sub(r'/n',\"\",elem))\n",
    "  #remove degits\n",
    "  unlabed_data['clean_text'] = unlabed_data['clean_text'].apply(lambda elem:re.sub(r'\\d+',\"\",elem))\n",
    "  #remove multiple spaces\n",
    "  unlabed_data['clean_text'] = unlabed_data['clean_text'].apply(lambda elem:re.sub(r'\\s+',\" \",elem))\n",
    "  #remove single caracter\n",
    "  unlabed_data['clean_text'] = unlabed_data['clean_text'].apply(lambda elem:re.sub(r'\\s+[a-zA-Z]\\s+',\" \",elem))\n",
    "  return unlabed_data\n"
   ]
  },
  {
   "cell_type": "code",
   "execution_count": 80,
   "metadata": {
    "id": "JPgu4ekyQuFD"
   },
   "outputs": [],
   "source": [
    "unlabed_data = clean_text(unlabed_data)"
   ]
  },
  {
   "cell_type": "code",
   "execution_count": 81,
   "metadata": {
    "id": "Llk9c3QfQuFE",
    "outputId": "d19a62a0-e6ac-4cea-cd44-d4daf92595c7"
   },
   "outputs": [
    {
     "name": "stderr",
     "output_type": "stream",
     "text": [
      "[nltk_data] Downloading package stopwords to\n",
      "[nltk_data]     C:\\Users\\pc\\AppData\\Roaming\\nltk_data...\n",
      "[nltk_data]   Package stopwords is already up-to-date!\n"
     ]
    }
   ],
   "source": [
    "nltk.download('stopwords')\n",
    "from nltk.corpus import stopwords\n",
    "def remove_stop_words(text):\n",
    "  stopW=stopwords.words('english')\n",
    "  s=\"\"\n",
    "  for i in text.split():\n",
    "    if i not in stopW:\n",
    "        s=s+i+\" \"\n",
    "  return s"
   ]
  },
  {
   "cell_type": "code",
   "execution_count": 82,
   "metadata": {
    "id": "uiLRalVCQuFE"
   },
   "outputs": [],
   "source": [
    "unlabed_data['clean_text']=unlabed_data['clean_text'].apply(lambda x:remove_stop_words(x))"
   ]
  },
  {
   "cell_type": "code",
   "execution_count": 83,
   "metadata": {
    "id": "fSoRd1K5QuFE"
   },
   "outputs": [],
   "source": [
    "def stem(ch):\n",
    "  stem = PorterStemmer()\n",
    "  return \" \".join([stem.stem(i) for i in ch.split()])\n",
    "\n",
    "#apply the stem function to each row in the dataframe\n",
    "unlabed_data['clean_text'] = unlabed_data['clean_text'].apply(lambda x:stem(x))"
   ]
  },
  {
   "cell_type": "code",
   "execution_count": 84,
   "metadata": {
    "id": "0928qLhDQuFE"
   },
   "outputs": [],
   "source": [
    "unlabed_data_vec = tf_idf.transform(unlabed_data['clean_text'])"
   ]
  },
  {
   "cell_type": "code",
   "execution_count": 85,
   "metadata": {
    "id": "n6WI-1FBQuFF"
   },
   "outputs": [],
   "source": [
    "prediction_new_data = clf.predict(unlabed_data_vec)"
   ]
  },
  {
   "cell_type": "code",
   "execution_count": 86,
   "metadata": {
    "id": "-Blex0QnQuFF"
   },
   "outputs": [],
   "source": [
    "unlabed_data['prediction'] = prediction_new_data.tolist()"
   ]
  },
  {
   "cell_type": "code",
   "execution_count": 87,
   "metadata": {
    "id": "hdI0iWkCQuFF"
   },
   "outputs": [],
   "source": [
    "unlabed_data['compulsion'] = unlabed_data['prediction'].apply(lambda x:x[0])\n",
    "unlabed_data['obs-com'] = unlabed_data['prediction'].apply(lambda x:x[1])\n",
    "unlabed_data['obsession'] = unlabed_data['prediction'].apply(lambda x:x[2])"
   ]
  },
  {
   "cell_type": "code",
   "execution_count": 88,
   "metadata": {
    "id": "4oszg5uLQuFF"
   },
   "outputs": [],
   "source": [
    "unlabed_data = unlabed_data[['post','prefLabel','compulsion','obs-com','obsession']]"
   ]
  },
  {
   "cell_type": "code",
   "execution_count": 89,
   "metadata": {
    "id": "xfhVcUj3QuFG"
   },
   "outputs": [],
   "source": [
    "unlabed_data.to_csv('../prediction/make_prediction_for_unlabed_data_enrich.csv',index=False)"
   ]
  },
  {
   "cell_type": "code",
   "execution_count": null,
   "metadata": {},
   "outputs": [],
   "source": []
  }
 ],
 "metadata": {
  "colab": {
   "collapsed_sections": [
    "NUva2fcDu9Qw"
   ],
   "provenance": []
  },
  "kernelspec": {
   "display_name": "Python 3 (ipykernel)",
   "language": "python",
   "name": "python3"
  },
  "language_info": {
   "codemirror_mode": {
    "name": "ipython",
    "version": 3
   },
   "file_extension": ".py",
   "mimetype": "text/x-python",
   "name": "python",
   "nbconvert_exporter": "python",
   "pygments_lexer": "ipython3",
   "version": "3.10.9"
  }
 },
 "nbformat": 4,
 "nbformat_minor": 4
}
